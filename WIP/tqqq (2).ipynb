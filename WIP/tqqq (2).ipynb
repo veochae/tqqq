{
 "cells": [
  {
   "cell_type": "markdown",
   "metadata": {},
   "source": [
    "Pacakge Import"
   ]
  },
  {
   "cell_type": "code",
   "execution_count": 90,
   "metadata": {},
   "outputs": [],
   "source": [
    "import pandas as pd\n",
    "import time\n",
    "from datetime import datetime\n",
    "import requests\n",
    "import matplotlib.pyplot as plt\n",
    "import numpy as np\n"
   ]
  },
  {
   "cell_type": "markdown",
   "metadata": {},
   "source": [
    "Alpha vantage API Sample"
   ]
  },
  {
   "cell_type": "code",
   "execution_count": 146,
   "metadata": {},
   "outputs": [],
   "source": [
    "# #api reference: https://www.alphavantage.co/documentation/\n",
    "# api_key = '5E306MLI09NMQC7G'\n",
    "\n",
    "# import requests\n",
    "\n",
    "# # replace the \"demo\" apikey below with your own key from https://www.alphavantage.co/support/#api-key\n",
    "# url = f'https://www.alphavantage.co/query?function=TIME_SERIES_INTRADAY&symbol=TQQQ&interval=60min&month=2024-1&outputsize=full&apikey={api_key}'\n",
    "# r = requests.get(url)\n",
    "# data = r.json()\n",
    "\n",
    "# print(data)\n",
    "\n",
    "\n",
    "# df = pd.DataFrame()\n",
    "\n",
    "# year = [2017+i for i in range(8)]\n",
    "# month = [i+1 for i in range(12)]\n",
    "\n",
    "# sleep_schedule = 0\n",
    "\n",
    "# for y in year:\n",
    "#     for m in month:\n",
    "#         retrieval_date = str(y) + \"-\" + str(m)\n",
    "\n",
    "#         url = f'https://www.alphavantage.co/query?function=TIME_SERIES_INTRADAY&symbol=TQQQ&interval=60min&month={retrieval_date}&outputsize=full&apikey={api_key}'\n",
    "#         r = requests.get(url)\n",
    "#         data = r.json()\n",
    "\n",
    "#         print(retrieval_date)\n",
    "#         dates = [d for d in data['Time Series (60min)'].keys()]\n",
    "#         close = [data['Time Series (60min)'][date]['4. close'] for date in dates]\n",
    "\n",
    "#         df = pd.concat([df, pd.DataFrame({'date': dates, 'price': close})])\n",
    "#         sleep_schedule += 1\n",
    "\n",
    "#         if sleep_schedule % 5 == 0:\n",
    "#             time.sleep(60)"
   ]
  },
  {
   "cell_type": "markdown",
   "metadata": {},
   "source": [
    "Polygon IO Data Collection"
   ]
  },
  {
   "cell_type": "code",
   "execution_count": 1,
   "metadata": {},
   "outputs": [
    {
     "ename": "NameError",
     "evalue": "name 'requests' is not defined",
     "output_type": "error",
     "traceback": [
      "\u001b[0;31m---------------------------------------------------------------------------\u001b[0m",
      "\u001b[0;31mNameError\u001b[0m                                 Traceback (most recent call last)",
      "Input \u001b[0;32mIn [1]\u001b[0m, in \u001b[0;36m<cell line: 3>\u001b[0;34m()\u001b[0m\n\u001b[1;32m      1\u001b[0m start_date \u001b[38;5;241m=\u001b[39m \u001b[38;5;124m'\u001b[39m\u001b[38;5;124m2024-01-24\u001b[39m\u001b[38;5;124m'\u001b[39m\n\u001b[1;32m      2\u001b[0m url \u001b[38;5;241m=\u001b[39m \u001b[38;5;124mf\u001b[39m\u001b[38;5;124m'\u001b[39m\u001b[38;5;124mhttps://api.polygon.io/v2/aggs/ticker/TQQQ/range/1/day/2017-01-01/\u001b[39m\u001b[38;5;132;01m{\u001b[39;00mstart_date\u001b[38;5;132;01m}\u001b[39;00m\u001b[38;5;124m?adjusted=true&sort=asc&limit=50000&apiKey=RMnfdtr9nmyTjXjgbNJeX_I5pIcowZpl\u001b[39m\u001b[38;5;124m'\u001b[39m\n\u001b[0;32m----> 3\u001b[0m r \u001b[38;5;241m=\u001b[39m \u001b[43mrequests\u001b[49m\u001b[38;5;241m.\u001b[39mget(url)\n\u001b[1;32m      4\u001b[0m data \u001b[38;5;241m=\u001b[39m r\u001b[38;5;241m.\u001b[39mjson()\n\u001b[1;32m      6\u001b[0m close \u001b[38;5;241m=\u001b[39m []\n",
      "\u001b[0;31mNameError\u001b[0m: name 'requests' is not defined"
     ]
    }
   ],
   "source": [
    "start_date = '2024-01-24'\n",
    "url = f'https://api.polygon.io/v2/aggs/ticker/TQQQ/range/1/day/2017-01-01/{start_date}?adjusted=true&sort=asc&limit=50000&apiKey=RMnfdtr9nmyTjXjgbNJeX_I5pIcowZpl'\n",
    "r = requests.get(url)\n",
    "data = r.json()\n",
    "\n",
    "close = []\n",
    "high = []\n",
    "low = []\n",
    "time = []\n",
    "\n",
    "while 'next_url' in data.keys():\n",
    "    for d in data['results']:\n",
    "        close.append(d['c'])\n",
    "        high.append(d['h'])\n",
    "        low.append(d['l'])\n",
    "        time.append(datetime.fromtimestamp(int(str(d['t'])[:-3])))\n",
    "\n",
    "    url = data['next_url']+\"&apiKey=RMnfdtr9nmyTjXjgbNJeX_I5pIcowZpl\"\n",
    "    r = requests.get(url)\n",
    "    data = r.json()\n",
    "\n",
    "    print(f\"Latest Time: {time[-1]}\")\n",
    "\n",
    "df = pd.DataFrame({'time': time, 'high': high, 'low': low, 'close': close})"
   ]
  },
  {
   "cell_type": "code",
   "execution_count": 192,
   "metadata": {},
   "outputs": [
    {
     "data": {
      "text/html": [
       "<div>\n",
       "<style scoped>\n",
       "    .dataframe tbody tr th:only-of-type {\n",
       "        vertical-align: middle;\n",
       "    }\n",
       "\n",
       "    .dataframe tbody tr th {\n",
       "        vertical-align: top;\n",
       "    }\n",
       "\n",
       "    .dataframe thead th {\n",
       "        text-align: right;\n",
       "    }\n",
       "</style>\n",
       "<table border=\"1\" class=\"dataframe\">\n",
       "  <thead>\n",
       "    <tr style=\"text-align: right;\">\n",
       "      <th></th>\n",
       "      <th>time</th>\n",
       "      <th>high</th>\n",
       "      <th>low</th>\n",
       "      <th>close</th>\n",
       "      <th>close_mv_avg</th>\n",
       "      <th>diff_to_mv_avg</th>\n",
       "      <th>diff_to_mv_avg_pct</th>\n",
       "      <th>2pct_bool</th>\n",
       "    </tr>\n",
       "  </thead>\n",
       "  <tbody>\n",
       "    <tr>\n",
       "      <th>0</th>\n",
       "      <td>2019-01-25 04:00:00</td>\n",
       "      <td>10.9725</td>\n",
       "      <td>10.8900</td>\n",
       "      <td>10.9025</td>\n",
       "      <td>NaN</td>\n",
       "      <td>NaN</td>\n",
       "      <td>NaN</td>\n",
       "      <td>0</td>\n",
       "    </tr>\n",
       "    <tr>\n",
       "      <th>1</th>\n",
       "      <td>2019-01-25 05:00:00</td>\n",
       "      <td>10.9750</td>\n",
       "      <td>10.9000</td>\n",
       "      <td>10.9600</td>\n",
       "      <td>NaN</td>\n",
       "      <td>NaN</td>\n",
       "      <td>NaN</td>\n",
       "      <td>0</td>\n",
       "    </tr>\n",
       "    <tr>\n",
       "      <th>2</th>\n",
       "      <td>2019-01-25 06:00:00</td>\n",
       "      <td>11.0050</td>\n",
       "      <td>10.9500</td>\n",
       "      <td>10.9650</td>\n",
       "      <td>NaN</td>\n",
       "      <td>NaN</td>\n",
       "      <td>NaN</td>\n",
       "      <td>0</td>\n",
       "    </tr>\n",
       "    <tr>\n",
       "      <th>3</th>\n",
       "      <td>2019-01-25 07:00:00</td>\n",
       "      <td>10.9725</td>\n",
       "      <td>10.9225</td>\n",
       "      <td>10.9625</td>\n",
       "      <td>NaN</td>\n",
       "      <td>NaN</td>\n",
       "      <td>NaN</td>\n",
       "      <td>0</td>\n",
       "    </tr>\n",
       "    <tr>\n",
       "      <th>4</th>\n",
       "      <td>2019-01-25 08:00:00</td>\n",
       "      <td>11.0875</td>\n",
       "      <td>10.9250</td>\n",
       "      <td>11.0600</td>\n",
       "      <td>NaN</td>\n",
       "      <td>NaN</td>\n",
       "      <td>NaN</td>\n",
       "      <td>0</td>\n",
       "    </tr>\n",
       "    <tr>\n",
       "      <th>...</th>\n",
       "      <td>...</td>\n",
       "      <td>...</td>\n",
       "      <td>...</td>\n",
       "      <td>...</td>\n",
       "      <td>...</td>\n",
       "      <td>...</td>\n",
       "      <td>...</td>\n",
       "      <td>...</td>\n",
       "    </tr>\n",
       "    <tr>\n",
       "      <th>19395</th>\n",
       "      <td>2023-11-20 07:00:00</td>\n",
       "      <td>43.3700</td>\n",
       "      <td>43.1200</td>\n",
       "      <td>43.1500</td>\n",
       "      <td>40.745936</td>\n",
       "      <td>2.404064</td>\n",
       "      <td>5.900131</td>\n",
       "      <td>0</td>\n",
       "    </tr>\n",
       "    <tr>\n",
       "      <th>19396</th>\n",
       "      <td>2023-11-20 08:00:00</td>\n",
       "      <td>43.4212</td>\n",
       "      <td>42.6800</td>\n",
       "      <td>43.3000</td>\n",
       "      <td>40.780249</td>\n",
       "      <td>2.519751</td>\n",
       "      <td>6.178852</td>\n",
       "      <td>0</td>\n",
       "    </tr>\n",
       "    <tr>\n",
       "      <th>19397</th>\n",
       "      <td>2023-11-20 09:00:00</td>\n",
       "      <td>43.9677</td>\n",
       "      <td>43.1200</td>\n",
       "      <td>43.9598</td>\n",
       "      <td>40.818117</td>\n",
       "      <td>3.141683</td>\n",
       "      <td>7.696786</td>\n",
       "      <td>0</td>\n",
       "    </tr>\n",
       "    <tr>\n",
       "      <th>19398</th>\n",
       "      <td>2023-11-20 10:00:00</td>\n",
       "      <td>44.0100</td>\n",
       "      <td>43.4900</td>\n",
       "      <td>43.9850</td>\n",
       "      <td>40.855836</td>\n",
       "      <td>3.129164</td>\n",
       "      <td>7.659039</td>\n",
       "      <td>0</td>\n",
       "    </tr>\n",
       "    <tr>\n",
       "      <th>19399</th>\n",
       "      <td>2023-11-20 11:00:00</td>\n",
       "      <td>44.1600</td>\n",
       "      <td>43.9900</td>\n",
       "      <td>44.1000</td>\n",
       "      <td>40.894179</td>\n",
       "      <td>3.205821</td>\n",
       "      <td>7.839308</td>\n",
       "      <td>0</td>\n",
       "    </tr>\n",
       "  </tbody>\n",
       "</table>\n",
       "<p>19400 rows × 8 columns</p>\n",
       "</div>"
      ],
      "text/plain": [
       "                     time     high      low    close  close_mv_avg  \\\n",
       "0     2019-01-25 04:00:00  10.9725  10.8900  10.9025           NaN   \n",
       "1     2019-01-25 05:00:00  10.9750  10.9000  10.9600           NaN   \n",
       "2     2019-01-25 06:00:00  11.0050  10.9500  10.9650           NaN   \n",
       "3     2019-01-25 07:00:00  10.9725  10.9225  10.9625           NaN   \n",
       "4     2019-01-25 08:00:00  11.0875  10.9250  11.0600           NaN   \n",
       "...                   ...      ...      ...      ...           ...   \n",
       "19395 2023-11-20 07:00:00  43.3700  43.1200  43.1500     40.745936   \n",
       "19396 2023-11-20 08:00:00  43.4212  42.6800  43.3000     40.780249   \n",
       "19397 2023-11-20 09:00:00  43.9677  43.1200  43.9598     40.818117   \n",
       "19398 2023-11-20 10:00:00  44.0100  43.4900  43.9850     40.855836   \n",
       "19399 2023-11-20 11:00:00  44.1600  43.9900  44.1000     40.894179   \n",
       "\n",
       "       diff_to_mv_avg  diff_to_mv_avg_pct  2pct_bool  \n",
       "0                 NaN                 NaN          0  \n",
       "1                 NaN                 NaN          0  \n",
       "2                 NaN                 NaN          0  \n",
       "3                 NaN                 NaN          0  \n",
       "4                 NaN                 NaN          0  \n",
       "...               ...                 ...        ...  \n",
       "19395        2.404064            5.900131          0  \n",
       "19396        2.519751            6.178852          0  \n",
       "19397        3.141683            7.696786          0  \n",
       "19398        3.129164            7.659039          0  \n",
       "19399        3.205821            7.839308          0  \n",
       "\n",
       "[19400 rows x 8 columns]"
      ]
     },
     "execution_count": 192,
     "metadata": {},
     "output_type": "execute_result"
    }
   ],
   "source": [
    "df"
   ]
  },
  {
   "cell_type": "markdown",
   "metadata": {},
   "source": [
    "Data Manipulation"
   ]
  },
  {
   "cell_type": "code",
   "execution_count": 121,
   "metadata": {},
   "outputs": [],
   "source": [
    "#Getting Moving Average of 160 hours = 10 days\n",
    "df['close_mv_avg'] = df.close.rolling(16*10).mean()\n",
    "#Calculating the Different of the current closing price to the moving average\n",
    "df['diff_to_mv_avg'] = df['close'] - df['close_mv_avg']\n",
    "#calculating the percent difference of the current closing price to the moving average\n",
    "df['diff_to_mv_avg_pct'] = df['diff_to_mv_avg']*100/df['close_mv_avg']\n",
    "#boolean whether the percentage drop from moving average to current price is less than or equal to -3%\n",
    "df['2pct_bool'] = [1 if row[1]['diff_to_mv_avg_pct'] <= -3 else 0 for row in  df.iterrows()]"
   ]
  },
  {
   "cell_type": "code",
   "execution_count": 159,
   "metadata": {},
   "outputs": [
    {
     "name": "stdout",
     "output_type": "stream",
     "text": [
      "Proportion of cases where there is more than 3% drop in current closing price compared to 160 hour moving average:\n",
      "0.26\n"
     ]
    }
   ],
   "source": [
    "print(f'Proportion of cases where there is more than 3% drop in current closing price compared to 160 hour moving average:')\n",
    "print(round(df[df['2pct_bool'] == 1].shape[0]/df.shape[0],2))"
   ]
  },
  {
   "cell_type": "code",
   "execution_count": 122,
   "metadata": {},
   "outputs": [],
   "source": [
    "#only looking for data points that has moving average values available\n",
    "df2 = df.dropna().reset_index(drop = True)"
   ]
  },
  {
   "cell_type": "code",
   "execution_count": 175,
   "metadata": {},
   "outputs": [],
   "source": [
    "# pct = for each hour of examination, calculating the percentage difference to 80 hours moving forward (10 days) and each observation would contain 80 percentages in a list\n",
    "# t_total = proportion of hours out of 80 hours where the price of TQQQ has gone up by more than 2%\n",
    "pct = []\n",
    "t_total = []\n",
    "t = 0\n",
    "\n",
    "for row in df2.iterrows():\n",
    "    try:\n",
    "        pct_temp = []\n",
    "        for i in range(10*16):\n",
    "            pct_temp.append((row[1]['close'] - df2.loc[row[0]+i,'close'])/row[1]['close'])\n",
    "            if pct_temp[-1] <= -0.02:\n",
    "                t+=1\n",
    "        t_total.append(t/(10*16))\n",
    "        pct.append(pct_temp)\n",
    "        t = 0\n",
    "    except(ValueError, KeyError):\n",
    "        t_total.append(np.nan)\n",
    "        pct.append(np.nan)\n",
    "\n",
    "df2['daily_diff_pct'] = pct\n",
    "df2['daily_above_2pct'] = t_total"
   ]
  },
  {
   "cell_type": "markdown",
   "metadata": {},
   "source": [
    "5 min interval 9:30AM - 4:00PM"
   ]
  },
  {
   "cell_type": "code",
   "execution_count": 186,
   "metadata": {},
   "outputs": [
    {
     "data": {
      "text/html": [
       "<div>\n",
       "<style scoped>\n",
       "    .dataframe tbody tr th:only-of-type {\n",
       "        vertical-align: middle;\n",
       "    }\n",
       "\n",
       "    .dataframe tbody tr th {\n",
       "        vertical-align: top;\n",
       "    }\n",
       "\n",
       "    .dataframe thead th {\n",
       "        text-align: right;\n",
       "    }\n",
       "</style>\n",
       "<table border=\"1\" class=\"dataframe\">\n",
       "  <thead>\n",
       "    <tr style=\"text-align: right;\">\n",
       "      <th></th>\n",
       "      <th>time</th>\n",
       "      <th>high</th>\n",
       "      <th>low</th>\n",
       "      <th>close</th>\n",
       "      <th>close_mv_avg</th>\n",
       "      <th>diff_to_mv_avg</th>\n",
       "      <th>diff_to_mv_avg_pct</th>\n",
       "      <th>2pct_bool</th>\n",
       "    </tr>\n",
       "  </thead>\n",
       "  <tbody>\n",
       "    <tr>\n",
       "      <th>0</th>\n",
       "      <td>2019-01-25 04:00:00</td>\n",
       "      <td>10.9725</td>\n",
       "      <td>10.8900</td>\n",
       "      <td>10.9025</td>\n",
       "      <td>NaN</td>\n",
       "      <td>NaN</td>\n",
       "      <td>NaN</td>\n",
       "      <td>0</td>\n",
       "    </tr>\n",
       "    <tr>\n",
       "      <th>1</th>\n",
       "      <td>2019-01-25 05:00:00</td>\n",
       "      <td>10.9750</td>\n",
       "      <td>10.9000</td>\n",
       "      <td>10.9600</td>\n",
       "      <td>NaN</td>\n",
       "      <td>NaN</td>\n",
       "      <td>NaN</td>\n",
       "      <td>0</td>\n",
       "    </tr>\n",
       "    <tr>\n",
       "      <th>2</th>\n",
       "      <td>2019-01-25 06:00:00</td>\n",
       "      <td>11.0050</td>\n",
       "      <td>10.9500</td>\n",
       "      <td>10.9650</td>\n",
       "      <td>NaN</td>\n",
       "      <td>NaN</td>\n",
       "      <td>NaN</td>\n",
       "      <td>0</td>\n",
       "    </tr>\n",
       "    <tr>\n",
       "      <th>3</th>\n",
       "      <td>2019-01-25 07:00:00</td>\n",
       "      <td>10.9725</td>\n",
       "      <td>10.9225</td>\n",
       "      <td>10.9625</td>\n",
       "      <td>NaN</td>\n",
       "      <td>NaN</td>\n",
       "      <td>NaN</td>\n",
       "      <td>0</td>\n",
       "    </tr>\n",
       "    <tr>\n",
       "      <th>4</th>\n",
       "      <td>2019-01-25 08:00:00</td>\n",
       "      <td>11.0875</td>\n",
       "      <td>10.9250</td>\n",
       "      <td>11.0600</td>\n",
       "      <td>NaN</td>\n",
       "      <td>NaN</td>\n",
       "      <td>NaN</td>\n",
       "      <td>0</td>\n",
       "    </tr>\n",
       "    <tr>\n",
       "      <th>5</th>\n",
       "      <td>2019-01-25 09:00:00</td>\n",
       "      <td>11.1025</td>\n",
       "      <td>10.9550</td>\n",
       "      <td>11.0952</td>\n",
       "      <td>NaN</td>\n",
       "      <td>NaN</td>\n",
       "      <td>NaN</td>\n",
       "      <td>0</td>\n",
       "    </tr>\n",
       "    <tr>\n",
       "      <th>6</th>\n",
       "      <td>2019-01-25 10:00:00</td>\n",
       "      <td>11.2025</td>\n",
       "      <td>11.0900</td>\n",
       "      <td>11.1800</td>\n",
       "      <td>NaN</td>\n",
       "      <td>NaN</td>\n",
       "      <td>NaN</td>\n",
       "      <td>0</td>\n",
       "    </tr>\n",
       "    <tr>\n",
       "      <th>7</th>\n",
       "      <td>2019-01-25 11:00:00</td>\n",
       "      <td>11.2550</td>\n",
       "      <td>11.1350</td>\n",
       "      <td>11.2500</td>\n",
       "      <td>NaN</td>\n",
       "      <td>NaN</td>\n",
       "      <td>NaN</td>\n",
       "      <td>0</td>\n",
       "    </tr>\n",
       "    <tr>\n",
       "      <th>8</th>\n",
       "      <td>2019-01-25 12:00:00</td>\n",
       "      <td>11.2925</td>\n",
       "      <td>11.1550</td>\n",
       "      <td>11.2175</td>\n",
       "      <td>NaN</td>\n",
       "      <td>NaN</td>\n",
       "      <td>NaN</td>\n",
       "      <td>0</td>\n",
       "    </tr>\n",
       "    <tr>\n",
       "      <th>9</th>\n",
       "      <td>2019-01-25 13:00:00</td>\n",
       "      <td>11.2650</td>\n",
       "      <td>11.1775</td>\n",
       "      <td>11.2525</td>\n",
       "      <td>NaN</td>\n",
       "      <td>NaN</td>\n",
       "      <td>NaN</td>\n",
       "      <td>0</td>\n",
       "    </tr>\n",
       "    <tr>\n",
       "      <th>10</th>\n",
       "      <td>2019-01-25 14:00:00</td>\n",
       "      <td>11.2775</td>\n",
       "      <td>11.1378</td>\n",
       "      <td>11.2050</td>\n",
       "      <td>NaN</td>\n",
       "      <td>NaN</td>\n",
       "      <td>NaN</td>\n",
       "      <td>0</td>\n",
       "    </tr>\n",
       "    <tr>\n",
       "      <th>11</th>\n",
       "      <td>2019-01-25 15:00:00</td>\n",
       "      <td>11.2267</td>\n",
       "      <td>11.1300</td>\n",
       "      <td>11.2100</td>\n",
       "      <td>NaN</td>\n",
       "      <td>NaN</td>\n",
       "      <td>NaN</td>\n",
       "      <td>0</td>\n",
       "    </tr>\n",
       "    <tr>\n",
       "      <th>12</th>\n",
       "      <td>2019-01-25 16:00:00</td>\n",
       "      <td>11.2275</td>\n",
       "      <td>11.1750</td>\n",
       "      <td>11.2225</td>\n",
       "      <td>NaN</td>\n",
       "      <td>NaN</td>\n",
       "      <td>NaN</td>\n",
       "      <td>0</td>\n",
       "    </tr>\n",
       "    <tr>\n",
       "      <th>13</th>\n",
       "      <td>2019-01-25 17:00:00</td>\n",
       "      <td>11.2200</td>\n",
       "      <td>11.1825</td>\n",
       "      <td>11.2025</td>\n",
       "      <td>NaN</td>\n",
       "      <td>NaN</td>\n",
       "      <td>NaN</td>\n",
       "      <td>0</td>\n",
       "    </tr>\n",
       "    <tr>\n",
       "      <th>14</th>\n",
       "      <td>2019-01-25 18:00:00</td>\n",
       "      <td>11.2050</td>\n",
       "      <td>11.1925</td>\n",
       "      <td>11.1925</td>\n",
       "      <td>NaN</td>\n",
       "      <td>NaN</td>\n",
       "      <td>NaN</td>\n",
       "      <td>0</td>\n",
       "    </tr>\n",
       "    <tr>\n",
       "      <th>15</th>\n",
       "      <td>2019-01-25 19:00:00</td>\n",
       "      <td>11.2250</td>\n",
       "      <td>11.1925</td>\n",
       "      <td>11.2075</td>\n",
       "      <td>NaN</td>\n",
       "      <td>NaN</td>\n",
       "      <td>NaN</td>\n",
       "      <td>0</td>\n",
       "    </tr>\n",
       "  </tbody>\n",
       "</table>\n",
       "</div>"
      ],
      "text/plain": [
       "                  time     high      low    close  close_mv_avg  \\\n",
       "0  2019-01-25 04:00:00  10.9725  10.8900  10.9025           NaN   \n",
       "1  2019-01-25 05:00:00  10.9750  10.9000  10.9600           NaN   \n",
       "2  2019-01-25 06:00:00  11.0050  10.9500  10.9650           NaN   \n",
       "3  2019-01-25 07:00:00  10.9725  10.9225  10.9625           NaN   \n",
       "4  2019-01-25 08:00:00  11.0875  10.9250  11.0600           NaN   \n",
       "5  2019-01-25 09:00:00  11.1025  10.9550  11.0952           NaN   \n",
       "6  2019-01-25 10:00:00  11.2025  11.0900  11.1800           NaN   \n",
       "7  2019-01-25 11:00:00  11.2550  11.1350  11.2500           NaN   \n",
       "8  2019-01-25 12:00:00  11.2925  11.1550  11.2175           NaN   \n",
       "9  2019-01-25 13:00:00  11.2650  11.1775  11.2525           NaN   \n",
       "10 2019-01-25 14:00:00  11.2775  11.1378  11.2050           NaN   \n",
       "11 2019-01-25 15:00:00  11.2267  11.1300  11.2100           NaN   \n",
       "12 2019-01-25 16:00:00  11.2275  11.1750  11.2225           NaN   \n",
       "13 2019-01-25 17:00:00  11.2200  11.1825  11.2025           NaN   \n",
       "14 2019-01-25 18:00:00  11.2050  11.1925  11.1925           NaN   \n",
       "15 2019-01-25 19:00:00  11.2250  11.1925  11.2075           NaN   \n",
       "\n",
       "    diff_to_mv_avg  diff_to_mv_avg_pct  2pct_bool  \n",
       "0              NaN                 NaN          0  \n",
       "1              NaN                 NaN          0  \n",
       "2              NaN                 NaN          0  \n",
       "3              NaN                 NaN          0  \n",
       "4              NaN                 NaN          0  \n",
       "5              NaN                 NaN          0  \n",
       "6              NaN                 NaN          0  \n",
       "7              NaN                 NaN          0  \n",
       "8              NaN                 NaN          0  \n",
       "9              NaN                 NaN          0  \n",
       "10             NaN                 NaN          0  \n",
       "11             NaN                 NaN          0  \n",
       "12             NaN                 NaN          0  \n",
       "13             NaN                 NaN          0  \n",
       "14             NaN                 NaN          0  \n",
       "15             NaN                 NaN          0  "
      ]
     },
     "execution_count": 186,
     "metadata": {},
     "output_type": "execute_result"
    }
   ],
   "source": [
    "df.head(16)"
   ]
  },
  {
   "cell_type": "markdown",
   "metadata": {},
   "source": [
    "Analysis"
   ]
  },
  {
   "cell_type": "markdown",
   "metadata": {},
   "source": [
    "Distribution of Percentage Drop from the Moving Average"
   ]
  },
  {
   "cell_type": "code",
   "execution_count": 176,
   "metadata": {},
   "outputs": [
    {
     "data": {
      "text/plain": [
       "(array([  29.,   53.,  118.,  417., 1997., 4378., 8564., 3250.,  395.,\n",
       "          40.]),\n",
       " array([-44.70155424, -37.35128294, -30.00101164, -22.65074034,\n",
       "        -15.30046904,  -7.95019774,  -0.59992643,   6.75034487,\n",
       "         14.10061617,  21.45088747,  28.80115877]),\n",
       " <BarContainer object of 10 artists>)"
      ]
     },
     "execution_count": 176,
     "metadata": {},
     "output_type": "execute_result"
    },
    {
     "data": {
      "image/png": "[encoded data removed]",
      "text/plain": [
       "<Figure size 640x480 with 1 Axes>"
      ]
     },
     "metadata": {},
     "output_type": "display_data"
    }
   ],
   "source": [
    "plt.hist(df2['diff_to_mv_avg_pct'])"
   ]
  },
  {
   "cell_type": "markdown",
   "metadata": {},
   "source": [
    "Distribution of 'daily_above_2pct'(proportion of hours out of 80 hours since the day of analysis where the price has gone up more than 2%) for the hours where the price has dropped more than 3% from the 160 hour moving average <br>\n",
    "--> "
   ]
  },
  {
   "cell_type": "code",
   "execution_count": 177,
   "metadata": {},
   "outputs": [
    {
     "data": {
      "text/plain": [
       "(array([1464.,  491.,  485.,  329.,  302.,  270.,  280.,  310.,  477.,\n",
       "         710.]),\n",
       " array([0.      , 0.099375, 0.19875 , 0.298125, 0.3975  , 0.496875,\n",
       "        0.59625 , 0.695625, 0.795   , 0.894375, 0.99375 ]),\n",
       " <BarContainer object of 10 artists>)"
      ]
     },
     "execution_count": 177,
     "metadata": {},
     "output_type": "execute_result"
    },
    {
     "data": {
      "image/png": "[encoded data removed]",
      "text/plain": [
       "<Figure size 640x480 with 1 Axes>"
      ]
     },
     "metadata": {},
     "output_type": "display_data"
    }
   ],
   "source": [
    "ttt = df2[df2['2pct_bool'] == 1].reset_index(drop = True)\n",
    "plt.hist(ttt['daily_above_2pct'])"
   ]
  },
  {
   "cell_type": "code",
   "execution_count": 188,
   "metadata": {},
   "outputs": [
    {
     "data": {
      "text/plain": [
       "0.7139507620164127"
      ]
     },
     "execution_count": 188,
     "metadata": {},
     "output_type": "execute_result"
    }
   ],
   "source": [
    "1 - 1464/np.sum([1464.,  491.,  485.,  329.,  302.,  270.,  280.,  310.,  477.,710.])"
   ]
  },
  {
   "cell_type": "code",
   "execution_count": 167,
   "metadata": {},
   "outputs": [],
   "source": [
    "df2['year'] = [t.year for t in df2['time']]\n",
    "df2['month'] = [t.month for t in df2['time']]\n",
    "df2['q'] = [1 if t in [1,2,3] else 2 if t in [4,5,6] else 3 if t in [7,8,9] else 4 for t in df2['month']]"
   ]
  },
  {
   "cell_type": "code",
   "execution_count": 191,
   "metadata": {},
   "outputs": [
    {
     "data": {
      "image/png": "[encoded data removed]",
      "text/plain": [
       "<Figure size 640x480 with 4 Axes>"
      ]
     },
     "metadata": {},
     "output_type": "display_data"
    }
   ],
   "source": [
    "year = 2023\n",
    "tttt = df2[df2['year'] == year]\n",
    "\n",
    "fig, axs = plt.subplots(2, 2)\n",
    "\n",
    "axs[0,0].hist(tttt[tttt['q'] == 1]['daily_above_2pct'])\n",
    "axs[0,0].set_title('Quarter 1')\n",
    "axs[0,1].hist(tttt[tttt['q'] == 2]['daily_above_2pct'])\n",
    "axs[0,1].set_title('Quarter 2')\n",
    "axs[1,0].hist(tttt[tttt['q'] == 3]['daily_above_2pct'])\n",
    "axs[1,0].set_title('Quarter 3')\n",
    "axs[1,1].hist(tttt[tttt['q'] == 4]['daily_above_2pct'])\n",
    "axs[1,1].set_title('Quarter 4')\n",
    "fig.suptitle(f\"Year: {year}\")\n",
    "fig.tight_layout()\n"
   ]
  },
  {
   "cell_type": "code",
   "execution_count": 145,
   "metadata": {},
   "outputs": [
    {
     "data": {
      "text/plain": [
       "(array([  29.,   53.,  118.,  417., 1997., 4378., 8564., 3250.,  395.,\n",
       "          40.]),\n",
       " array([-44.70155424, -37.35128294, -30.00101164, -22.65074034,\n",
       "        -15.30046904,  -7.95019774,  -0.59992643,   6.75034487,\n",
       "         14.10061617,  21.45088747,  28.80115877]),\n",
       " <BarContainer object of 10 artists>)"
      ]
     },
     "execution_count": 145,
     "metadata": {},
     "output_type": "execute_result"
    },
    {
     "data": {
      "image/png": "[encoded data removed]",
      "text/plain": [
       "<Figure size 640x480 with 1 Axes>"
      ]
     },
     "metadata": {},
     "output_type": "display_data"
    }
   ],
   "source": [
    "plt.hist(df2['diff_to_mv_avg_pct'])"
   ]
  },
  {
   "cell_type": "code",
   "execution_count": 184,
   "metadata": {},
   "outputs": [
    {
     "data": {
      "text/plain": [
       "year  q  2pct_bool\n",
       "2019  1  0            0.548037\n",
       "         1            0.920052\n",
       "      2  0            0.485975\n",
       "         1            0.296123\n",
       "      3  0            0.289218\n",
       "         1            0.448438\n",
       "      4  0            0.586968\n",
       "         1            0.777923\n",
       "2020  1  0            0.511785\n",
       "         1            0.333772\n",
       "      2  0            0.661520\n",
       "         1            0.945703\n",
       "      3  0            0.553680\n",
       "         1            0.456088\n",
       "      4  0            0.497390\n",
       "         1            0.509357\n",
       "2021  1  0            0.432273\n",
       "         1            0.523309\n",
       "      2  0            0.525851\n",
       "         1            0.474581\n",
       "      3  0            0.324570\n",
       "         1            0.313174\n",
       "      4  0            0.450349\n",
       "         1            0.680934\n",
       "2022  1  0            0.283526\n",
       "         1            0.389543\n",
       "      2  0            0.179334\n",
       "         1            0.314098\n",
       "      3  0            0.541197\n",
       "         1            0.227589\n",
       "      4  0            0.257155\n",
       "         1            0.470930\n",
       "2023  1  0            0.575811\n",
       "         1            0.498949\n",
       "      2  0            0.514878\n",
       "         1            0.867799\n",
       "      3  0            0.303092\n",
       "         1            0.259652\n",
       "      4  0            0.419783\n",
       "         1            0.590444\n",
       "Name: daily_above_2pct, dtype: float64"
      ]
     },
     "execution_count": 184,
     "metadata": {},
     "output_type": "execute_result"
    }
   ],
   "source": [
    "df2.groupby(['year','q','2pct_bool'])['daily_above_2pct'].mean()"
   ]
  },
  {
   "cell_type": "code",
   "execution_count": 129,
   "metadata": {},
   "outputs": [
    {
     "data": {
      "text/plain": [
       "0.31574833919499806"
      ]
     },
     "execution_count": 129,
     "metadata": {},
     "output_type": "execute_result"
    }
   ],
   "source": [
    "(342+482+792)/len(df2[(df2['2pct_bool']==1)]['daily_above_2pct'])"
   ]
  },
  {
   "cell_type": "code",
   "execution_count": 143,
   "metadata": {},
   "outputs": [
    {
     "data": {
      "text/plain": [
       "(array([6164., 1525., 1488., 1300., 1379., 1313., 1356., 1457., 1661.,\n",
       "        1519.]),\n",
       " array([0.     , 0.09875, 0.1975 , 0.29625, 0.395  , 0.49375, 0.5925 ,\n",
       "        0.69125, 0.79   , 0.88875, 0.9875 ]),\n",
       " <BarContainer object of 10 artists>)"
      ]
     },
     "execution_count": 143,
     "metadata": {},
     "output_type": "execute_result"
    },
    {
     "data": {
      "image/png": "[encoded data removed]",
      "text/plain": [
       "<Figure size 640x480 with 1 Axes>"
      ]
     },
     "metadata": {},
     "output_type": "display_data"
    }
   ],
   "source": [
    "plt.hist(df2['daily_above_2pct'])"
   ]
  },
  {
   "cell_type": "code",
   "execution_count": 142,
   "metadata": {},
   "outputs": [
    {
     "data": {
      "text/html": [
       "<div>\n",
       "<style scoped>\n",
       "    .dataframe tbody tr th:only-of-type {\n",
       "        vertical-align: middle;\n",
       "    }\n",
       "\n",
       "    .dataframe tbody tr th {\n",
       "        vertical-align: top;\n",
       "    }\n",
       "\n",
       "    .dataframe thead th {\n",
       "        text-align: right;\n",
       "    }\n",
       "</style>\n",
       "<table border=\"1\" class=\"dataframe\">\n",
       "  <thead>\n",
       "    <tr style=\"text-align: right;\">\n",
       "      <th></th>\n",
       "      <th>time</th>\n",
       "      <th>high</th>\n",
       "      <th>low</th>\n",
       "      <th>close</th>\n",
       "      <th>close_mv_avg</th>\n",
       "      <th>diff_to_mv_avg</th>\n",
       "      <th>diff_to_mv_avg_pct</th>\n",
       "      <th>daily_diff_pct</th>\n",
       "      <th>daily_above_2pct</th>\n",
       "    </tr>\n",
       "    <tr>\n",
       "      <th>2pct_bool</th>\n",
       "      <th></th>\n",
       "      <th></th>\n",
       "      <th></th>\n",
       "      <th></th>\n",
       "      <th></th>\n",
       "      <th></th>\n",
       "      <th></th>\n",
       "      <th></th>\n",
       "      <th></th>\n",
       "    </tr>\n",
       "  </thead>\n",
       "  <tbody>\n",
       "    <tr>\n",
       "      <th>0</th>\n",
       "      <td>5392</td>\n",
       "      <td>5392</td>\n",
       "      <td>5392</td>\n",
       "      <td>5392</td>\n",
       "      <td>5392</td>\n",
       "      <td>5392</td>\n",
       "      <td>5392</td>\n",
       "      <td>5392</td>\n",
       "      <td>5392</td>\n",
       "    </tr>\n",
       "    <tr>\n",
       "      <th>1</th>\n",
       "      <td>1914</td>\n",
       "      <td>1914</td>\n",
       "      <td>1914</td>\n",
       "      <td>1914</td>\n",
       "      <td>1914</td>\n",
       "      <td>1914</td>\n",
       "      <td>1914</td>\n",
       "      <td>1914</td>\n",
       "      <td>1914</td>\n",
       "    </tr>\n",
       "  </tbody>\n",
       "</table>\n",
       "</div>"
      ],
      "text/plain": [
       "           time  high   low  close  close_mv_avg  diff_to_mv_avg  \\\n",
       "2pct_bool                                                          \n",
       "0          5392  5392  5392   5392          5392            5392   \n",
       "1          1914  1914  1914   1914          1914            1914   \n",
       "\n",
       "           diff_to_mv_avg_pct  daily_diff_pct  daily_above_2pct  \n",
       "2pct_bool                                                        \n",
       "0                        5392            5392              5392  \n",
       "1                        1914            1914              1914  "
      ]
     },
     "execution_count": 142,
     "metadata": {},
     "output_type": "execute_result"
    }
   ],
   "source": [
    "df2[df2['daily_above_2pct'] >= 0.5].groupby(['2pct_bool']).count()"
   ]
  },
  {
   "cell_type": "code",
   "execution_count": 135,
   "metadata": {},
   "outputs": [
    {
     "data": {
      "text/plain": [
       "192"
      ]
     },
     "execution_count": 135,
     "metadata": {},
     "output_type": "execute_result"
    }
   ],
   "source": [
    "len(df2.daily_diff_pct[0])"
   ]
  },
  {
   "cell_type": "code",
   "execution_count": 136,
   "metadata": {},
   "outputs": [
    {
     "data": {
      "text/plain": [
       "192"
      ]
     },
     "execution_count": 136,
     "metadata": {},
     "output_type": "execute_result"
    }
   ],
   "source": [
    "12*16"
   ]
  },
  {
   "cell_type": "code",
   "execution_count": null,
   "metadata": {},
   "outputs": [],
   "source": []
  },
  {
   "cell_type": "code",
   "execution_count": null,
   "metadata": {},
   "outputs": [],
   "source": []
  },
  {
   "cell_type": "code",
   "execution_count": 54,
   "metadata": {},
   "outputs": [],
   "source": [
    "from prophet import Prophet\n"
   ]
  },
  {
   "cell_type": "code",
   "execution_count": 55,
   "metadata": {},
   "outputs": [],
   "source": [
    "p_df = df2[['time','close']]"
   ]
  },
  {
   "cell_type": "code",
   "execution_count": 58,
   "metadata": {},
   "outputs": [],
   "source": [
    "p_df.columns = ['ds','y']"
   ]
  },
  {
   "cell_type": "code",
   "execution_count": 60,
   "metadata": {},
   "outputs": [
    {
     "data": {
      "text/plain": [
       "13468.699999999999"
      ]
     },
     "execution_count": 60,
     "metadata": {},
     "output_type": "execute_result"
    }
   ],
   "source": [
    "p_df.shape[0]*.7"
   ]
  },
  {
   "cell_type": "code",
   "execution_count": 64,
   "metadata": {},
   "outputs": [],
   "source": [
    "train = p_df.iloc[:13468,:].reset_index(drop = True)\n",
    "test = p_df.iloc[13468:,:].reset_index(drop = True)"
   ]
  },
  {
   "cell_type": "code",
   "execution_count": 68,
   "metadata": {},
   "outputs": [
    {
     "name": "stderr",
     "output_type": "stream",
     "text": [
      "05:22:05 - cmdstanpy - INFO - Chain [1] start processing\n",
      "05:22:27 - cmdstanpy - INFO - Chain [1] done processing\n"
     ]
    },
    {
     "data": {
      "text/plain": [
       "<prophet.forecaster.Prophet at 0x20e26bd7670>"
      ]
     },
     "execution_count": 68,
     "metadata": {},
     "output_type": "execute_result"
    }
   ],
   "source": [
    "m = Prophet()\n",
    "m.fit(train)"
   ]
  },
  {
   "cell_type": "code",
   "execution_count": 69,
   "metadata": {},
   "outputs": [],
   "source": [
    "future = m.make_future_dataframe(periods=test.shape[0], freq = 'H')\n"
   ]
  },
  {
   "cell_type": "code",
   "execution_count": 71,
   "metadata": {},
   "outputs": [],
   "source": [
    "forecast = m.predict(future)"
   ]
  },
  {
   "cell_type": "code",
   "execution_count": 76,
   "metadata": {},
   "outputs": [
    {
     "data": {
      "text/plain": [
       "13468    28.472700\n",
       "13469    28.458064\n",
       "13470    28.442376\n",
       "13471    28.437150\n",
       "13472    28.442199\n",
       "           ...    \n",
       "19236    15.417464\n",
       "19237    15.416397\n",
       "19238    15.397282\n",
       "19239    15.326889\n",
       "19240    15.198995\n",
       "Name: yhat, Length: 5773, dtype: float64"
      ]
     },
     "execution_count": 76,
     "metadata": {},
     "output_type": "execute_result"
    }
   ],
   "source": [
    "forecast.loc[13468:,'yhat']"
   ]
  },
  {
   "cell_type": "code",
   "execution_count": 74,
   "metadata": {},
   "outputs": [],
   "source": [
    "from sklearn.metrics import mean_absolute_percentage_error"
   ]
  },
  {
   "cell_type": "code",
   "execution_count": 77,
   "metadata": {},
   "outputs": [
    {
     "data": {
      "text/plain": [
       "0.18896997628847378"
      ]
     },
     "execution_count": 77,
     "metadata": {},
     "output_type": "execute_result"
    }
   ],
   "source": [
    "mean_absolute_percentage_error(test.y,forecast.loc[13468:,'yhat'] )"
   ]
  },
  {
   "cell_type": "code",
   "execution_count": 86,
   "metadata": {},
   "outputs": [
    {
     "data": {
      "text/plain": [
       "[<matplotlib.lines.Line2D at 0x20e2883b1f0>]"
      ]
     },
     "execution_count": 86,
     "metadata": {},
     "output_type": "execute_result"
    },
    {
     "data": {
      "image/png": "[encoded data removed]",
      "text/plain": [
       "<Figure size 640x480 with 1 Axes>"
      ]
     },
     "metadata": {},
     "output_type": "display_data"
    }
   ],
   "source": [
    "plt.plot(test.ds,test.y)\n",
    "plt.plot(test.ds,forecast.loc[13468:,'yhat'])\n",
    "# plt.fill_between(test.ds, forecast.loc[13468:,'yhat_lower'], forecast.loc[13468:,'yhat_upper'], color='r', alpha=.15)"
   ]
  },
  {
   "cell_type": "code",
   "execution_count": 83,
   "metadata": {},
   "outputs": [
    {
     "data": {
      "text/html": [
       "<div>\n",
       "<style scoped>\n",
       "    .dataframe tbody tr th:only-of-type {\n",
       "        vertical-align: middle;\n",
       "    }\n",
       "\n",
       "    .dataframe tbody tr th {\n",
       "        vertical-align: top;\n",
       "    }\n",
       "\n",
       "    .dataframe thead th {\n",
       "        text-align: right;\n",
       "    }\n",
       "</style>\n",
       "<table border=\"1\" class=\"dataframe\">\n",
       "  <thead>\n",
       "    <tr style=\"text-align: right;\">\n",
       "      <th></th>\n",
       "      <th>ds</th>\n",
       "      <th>trend</th>\n",
       "      <th>yhat_lower</th>\n",
       "      <th>yhat_upper</th>\n",
       "      <th>trend_lower</th>\n",
       "      <th>trend_upper</th>\n",
       "      <th>additive_terms</th>\n",
       "      <th>additive_terms_lower</th>\n",
       "      <th>additive_terms_upper</th>\n",
       "      <th>daily</th>\n",
       "      <th>...</th>\n",
       "      <th>weekly</th>\n",
       "      <th>weekly_lower</th>\n",
       "      <th>weekly_upper</th>\n",
       "      <th>yearly</th>\n",
       "      <th>yearly_lower</th>\n",
       "      <th>yearly_upper</th>\n",
       "      <th>multiplicative_terms</th>\n",
       "      <th>multiplicative_terms_lower</th>\n",
       "      <th>multiplicative_terms_upper</th>\n",
       "      <th>yhat</th>\n",
       "    </tr>\n",
       "  </thead>\n",
       "  <tbody>\n",
       "    <tr>\n",
       "      <th>0</th>\n",
       "      <td>2019-02-07 19:00:00</td>\n",
       "      <td>8.560701</td>\n",
       "      <td>10.180905</td>\n",
       "      <td>18.087843</td>\n",
       "      <td>8.560701</td>\n",
       "      <td>8.560701</td>\n",
       "      <td>5.666300</td>\n",
       "      <td>5.666300</td>\n",
       "      <td>5.666300</td>\n",
       "      <td>0.057529</td>\n",
       "      <td>...</td>\n",
       "      <td>0.143481</td>\n",
       "      <td>0.143481</td>\n",
       "      <td>0.143481</td>\n",
       "      <td>5.465290</td>\n",
       "      <td>5.465290</td>\n",
       "      <td>5.465290</td>\n",
       "      <td>0.0</td>\n",
       "      <td>0.0</td>\n",
       "      <td>0.0</td>\n",
       "      <td>14.227001</td>\n",
       "    </tr>\n",
       "    <tr>\n",
       "      <th>1</th>\n",
       "      <td>2019-02-08 04:00:00</td>\n",
       "      <td>8.617300</td>\n",
       "      <td>10.421013</td>\n",
       "      <td>17.982989</td>\n",
       "      <td>8.617300</td>\n",
       "      <td>8.617300</td>\n",
       "      <td>5.706571</td>\n",
       "      <td>5.706571</td>\n",
       "      <td>5.706571</td>\n",
       "      <td>0.122601</td>\n",
       "      <td>...</td>\n",
       "      <td>0.104641</td>\n",
       "      <td>0.104641</td>\n",
       "      <td>0.104641</td>\n",
       "      <td>5.479329</td>\n",
       "      <td>5.479329</td>\n",
       "      <td>5.479329</td>\n",
       "      <td>0.0</td>\n",
       "      <td>0.0</td>\n",
       "      <td>0.0</td>\n",
       "      <td>14.323871</td>\n",
       "    </tr>\n",
       "    <tr>\n",
       "      <th>2</th>\n",
       "      <td>2019-02-08 05:00:00</td>\n",
       "      <td>8.623589</td>\n",
       "      <td>10.617903</td>\n",
       "      <td>18.009570</td>\n",
       "      <td>8.623589</td>\n",
       "      <td>8.623589</td>\n",
       "      <td>5.706801</td>\n",
       "      <td>5.706801</td>\n",
       "      <td>5.706801</td>\n",
       "      <td>0.124626</td>\n",
       "      <td>...</td>\n",
       "      <td>0.101528</td>\n",
       "      <td>0.101528</td>\n",
       "      <td>0.101528</td>\n",
       "      <td>5.480648</td>\n",
       "      <td>5.480648</td>\n",
       "      <td>5.480648</td>\n",
       "      <td>0.0</td>\n",
       "      <td>0.0</td>\n",
       "      <td>0.0</td>\n",
       "      <td>14.330390</td>\n",
       "    </tr>\n",
       "    <tr>\n",
       "      <th>3</th>\n",
       "      <td>2019-02-08 06:00:00</td>\n",
       "      <td>8.629877</td>\n",
       "      <td>10.421682</td>\n",
       "      <td>18.273847</td>\n",
       "      <td>8.629877</td>\n",
       "      <td>8.629877</td>\n",
       "      <td>5.687794</td>\n",
       "      <td>5.687794</td>\n",
       "      <td>5.687794</td>\n",
       "      <td>0.107400</td>\n",
       "      <td>...</td>\n",
       "      <td>0.098476</td>\n",
       "      <td>0.098476</td>\n",
       "      <td>0.098476</td>\n",
       "      <td>5.481918</td>\n",
       "      <td>5.481918</td>\n",
       "      <td>5.481918</td>\n",
       "      <td>0.0</td>\n",
       "      <td>0.0</td>\n",
       "      <td>0.0</td>\n",
       "      <td>14.317671</td>\n",
       "    </tr>\n",
       "    <tr>\n",
       "      <th>4</th>\n",
       "      <td>2019-02-08 07:00:00</td>\n",
       "      <td>8.636166</td>\n",
       "      <td>10.374351</td>\n",
       "      <td>18.067264</td>\n",
       "      <td>8.636166</td>\n",
       "      <td>8.636166</td>\n",
       "      <td>5.675944</td>\n",
       "      <td>5.675944</td>\n",
       "      <td>5.675944</td>\n",
       "      <td>0.097386</td>\n",
       "      <td>...</td>\n",
       "      <td>0.095421</td>\n",
       "      <td>0.095421</td>\n",
       "      <td>0.095421</td>\n",
       "      <td>5.483137</td>\n",
       "      <td>5.483137</td>\n",
       "      <td>5.483137</td>\n",
       "      <td>0.0</td>\n",
       "      <td>0.0</td>\n",
       "      <td>0.0</td>\n",
       "      <td>14.312110</td>\n",
       "    </tr>\n",
       "    <tr>\n",
       "      <th>...</th>\n",
       "      <td>...</td>\n",
       "      <td>...</td>\n",
       "      <td>...</td>\n",
       "      <td>...</td>\n",
       "      <td>...</td>\n",
       "      <td>...</td>\n",
       "      <td>...</td>\n",
       "      <td>...</td>\n",
       "      <td>...</td>\n",
       "      <td>...</td>\n",
       "      <td>...</td>\n",
       "      <td>...</td>\n",
       "      <td>...</td>\n",
       "      <td>...</td>\n",
       "      <td>...</td>\n",
       "      <td>...</td>\n",
       "      <td>...</td>\n",
       "      <td>...</td>\n",
       "      <td>...</td>\n",
       "      <td>...</td>\n",
       "      <td>...</td>\n",
       "    </tr>\n",
       "    <tr>\n",
       "      <th>19236</th>\n",
       "      <td>2023-02-09 17:00:00</td>\n",
       "      <td>9.716075</td>\n",
       "      <td>-103.753343</td>\n",
       "      <td>133.952010</td>\n",
       "      <td>-107.867920</td>\n",
       "      <td>129.199948</td>\n",
       "      <td>5.701388</td>\n",
       "      <td>5.701388</td>\n",
       "      <td>5.701388</td>\n",
       "      <td>0.053330</td>\n",
       "      <td>...</td>\n",
       "      <td>0.155924</td>\n",
       "      <td>0.155924</td>\n",
       "      <td>0.155924</td>\n",
       "      <td>5.492135</td>\n",
       "      <td>5.492135</td>\n",
       "      <td>5.492135</td>\n",
       "      <td>0.0</td>\n",
       "      <td>0.0</td>\n",
       "      <td>0.0</td>\n",
       "      <td>15.417464</td>\n",
       "    </tr>\n",
       "    <tr>\n",
       "      <th>19237</th>\n",
       "      <td>2023-02-09 18:00:00</td>\n",
       "      <td>9.710902</td>\n",
       "      <td>-102.638836</td>\n",
       "      <td>134.734948</td>\n",
       "      <td>-107.914041</td>\n",
       "      <td>129.213598</td>\n",
       "      <td>5.705494</td>\n",
       "      <td>5.705494</td>\n",
       "      <td>5.705494</td>\n",
       "      <td>0.064605</td>\n",
       "      <td>...</td>\n",
       "      <td>0.149519</td>\n",
       "      <td>0.149519</td>\n",
       "      <td>0.149519</td>\n",
       "      <td>5.491369</td>\n",
       "      <td>5.491369</td>\n",
       "      <td>5.491369</td>\n",
       "      <td>0.0</td>\n",
       "      <td>0.0</td>\n",
       "      <td>0.0</td>\n",
       "      <td>15.416397</td>\n",
       "    </tr>\n",
       "    <tr>\n",
       "      <th>19238</th>\n",
       "      <td>2023-02-09 19:00:00</td>\n",
       "      <td>9.705729</td>\n",
       "      <td>-99.927022</td>\n",
       "      <td>135.325109</td>\n",
       "      <td>-107.938581</td>\n",
       "      <td>129.227247</td>\n",
       "      <td>5.691552</td>\n",
       "      <td>5.691552</td>\n",
       "      <td>5.691552</td>\n",
       "      <td>0.057529</td>\n",
       "      <td>...</td>\n",
       "      <td>0.143481</td>\n",
       "      <td>0.143481</td>\n",
       "      <td>0.143481</td>\n",
       "      <td>5.490542</td>\n",
       "      <td>5.490542</td>\n",
       "      <td>5.490542</td>\n",
       "      <td>0.0</td>\n",
       "      <td>0.0</td>\n",
       "      <td>0.0</td>\n",
       "      <td>15.397282</td>\n",
       "    </tr>\n",
       "    <tr>\n",
       "      <th>19239</th>\n",
       "      <td>2023-02-09 20:00:00</td>\n",
       "      <td>9.700557</td>\n",
       "      <td>-103.038930</td>\n",
       "      <td>134.782355</td>\n",
       "      <td>-107.946278</td>\n",
       "      <td>129.240896</td>\n",
       "      <td>5.626333</td>\n",
       "      <td>5.626333</td>\n",
       "      <td>5.626333</td>\n",
       "      <td>-0.001137</td>\n",
       "      <td>...</td>\n",
       "      <td>0.137819</td>\n",
       "      <td>0.137819</td>\n",
       "      <td>0.137819</td>\n",
       "      <td>5.489651</td>\n",
       "      <td>5.489651</td>\n",
       "      <td>5.489651</td>\n",
       "      <td>0.0</td>\n",
       "      <td>0.0</td>\n",
       "      <td>0.0</td>\n",
       "      <td>15.326889</td>\n",
       "    </tr>\n",
       "    <tr>\n",
       "      <th>19240</th>\n",
       "      <td>2023-02-09 21:00:00</td>\n",
       "      <td>9.695384</td>\n",
       "      <td>-100.070025</td>\n",
       "      <td>133.533302</td>\n",
       "      <td>-107.953974</td>\n",
       "      <td>129.254545</td>\n",
       "      <td>5.503612</td>\n",
       "      <td>5.503612</td>\n",
       "      <td>5.503612</td>\n",
       "      <td>-0.117619</td>\n",
       "      <td>...</td>\n",
       "      <td>0.132534</td>\n",
       "      <td>0.132534</td>\n",
       "      <td>0.132534</td>\n",
       "      <td>5.488696</td>\n",
       "      <td>5.488696</td>\n",
       "      <td>5.488696</td>\n",
       "      <td>0.0</td>\n",
       "      <td>0.0</td>\n",
       "      <td>0.0</td>\n",
       "      <td>15.198995</td>\n",
       "    </tr>\n",
       "  </tbody>\n",
       "</table>\n",
       "<p>19241 rows × 22 columns</p>\n",
       "</div>"
      ],
      "text/plain": [
       "                       ds     trend  yhat_lower  yhat_upper  trend_lower  \\\n",
       "0     2019-02-07 19:00:00  8.560701   10.180905   18.087843     8.560701   \n",
       "1     2019-02-08 04:00:00  8.617300   10.421013   17.982989     8.617300   \n",
       "2     2019-02-08 05:00:00  8.623589   10.617903   18.009570     8.623589   \n",
       "3     2019-02-08 06:00:00  8.629877   10.421682   18.273847     8.629877   \n",
       "4     2019-02-08 07:00:00  8.636166   10.374351   18.067264     8.636166   \n",
       "...                   ...       ...         ...         ...          ...   \n",
       "19236 2023-02-09 17:00:00  9.716075 -103.753343  133.952010  -107.867920   \n",
       "19237 2023-02-09 18:00:00  9.710902 -102.638836  134.734948  -107.914041   \n",
       "19238 2023-02-09 19:00:00  9.705729  -99.927022  135.325109  -107.938581   \n",
       "19239 2023-02-09 20:00:00  9.700557 -103.038930  134.782355  -107.946278   \n",
       "19240 2023-02-09 21:00:00  9.695384 -100.070025  133.533302  -107.953974   \n",
       "\n",
       "       trend_upper  additive_terms  additive_terms_lower  \\\n",
       "0         8.560701        5.666300              5.666300   \n",
       "1         8.617300        5.706571              5.706571   \n",
       "2         8.623589        5.706801              5.706801   \n",
       "3         8.629877        5.687794              5.687794   \n",
       "4         8.636166        5.675944              5.675944   \n",
       "...            ...             ...                   ...   \n",
       "19236   129.199948        5.701388              5.701388   \n",
       "19237   129.213598        5.705494              5.705494   \n",
       "19238   129.227247        5.691552              5.691552   \n",
       "19239   129.240896        5.626333              5.626333   \n",
       "19240   129.254545        5.503612              5.503612   \n",
       "\n",
       "       additive_terms_upper     daily  ...    weekly  weekly_lower  \\\n",
       "0                  5.666300  0.057529  ...  0.143481      0.143481   \n",
       "1                  5.706571  0.122601  ...  0.104641      0.104641   \n",
       "2                  5.706801  0.124626  ...  0.101528      0.101528   \n",
       "3                  5.687794  0.107400  ...  0.098476      0.098476   \n",
       "4                  5.675944  0.097386  ...  0.095421      0.095421   \n",
       "...                     ...       ...  ...       ...           ...   \n",
       "19236              5.701388  0.053330  ...  0.155924      0.155924   \n",
       "19237              5.705494  0.064605  ...  0.149519      0.149519   \n",
       "19238              5.691552  0.057529  ...  0.143481      0.143481   \n",
       "19239              5.626333 -0.001137  ...  0.137819      0.137819   \n",
       "19240              5.503612 -0.117619  ...  0.132534      0.132534   \n",
       "\n",
       "       weekly_upper    yearly  yearly_lower  yearly_upper  \\\n",
       "0          0.143481  5.465290      5.465290      5.465290   \n",
       "1          0.104641  5.479329      5.479329      5.479329   \n",
       "2          0.101528  5.480648      5.480648      5.480648   \n",
       "3          0.098476  5.481918      5.481918      5.481918   \n",
       "4          0.095421  5.483137      5.483137      5.483137   \n",
       "...             ...       ...           ...           ...   \n",
       "19236      0.155924  5.492135      5.492135      5.492135   \n",
       "19237      0.149519  5.491369      5.491369      5.491369   \n",
       "19238      0.143481  5.490542      5.490542      5.490542   \n",
       "19239      0.137819  5.489651      5.489651      5.489651   \n",
       "19240      0.132534  5.488696      5.488696      5.488696   \n",
       "\n",
       "       multiplicative_terms  multiplicative_terms_lower  \\\n",
       "0                       0.0                         0.0   \n",
       "1                       0.0                         0.0   \n",
       "2                       0.0                         0.0   \n",
       "3                       0.0                         0.0   \n",
       "4                       0.0                         0.0   \n",
       "...                     ...                         ...   \n",
       "19236                   0.0                         0.0   \n",
       "19237                   0.0                         0.0   \n",
       "19238                   0.0                         0.0   \n",
       "19239                   0.0                         0.0   \n",
       "19240                   0.0                         0.0   \n",
       "\n",
       "       multiplicative_terms_upper       yhat  \n",
       "0                             0.0  14.227001  \n",
       "1                             0.0  14.323871  \n",
       "2                             0.0  14.330390  \n",
       "3                             0.0  14.317671  \n",
       "4                             0.0  14.312110  \n",
       "...                           ...        ...  \n",
       "19236                         0.0  15.417464  \n",
       "19237                         0.0  15.416397  \n",
       "19238                         0.0  15.397282  \n",
       "19239                         0.0  15.326889  \n",
       "19240                         0.0  15.198995  \n",
       "\n",
       "[19241 rows x 22 columns]"
      ]
     },
     "execution_count": 83,
     "metadata": {},
     "output_type": "execute_result"
    }
   ],
   "source": [
    "forecast"
   ]
  }
 ],
 "metadata": {
  "kernelspec": {
   "display_name": "anly503",
   "language": "python",
   "name": "python3"
  },
  "language_info": {
   "codemirror_mode": {
    "name": "ipython",
    "version": 3
   },
   "file_extension": ".py",
   "mimetype": "text/x-python",
   "name": "python",
   "nbconvert_exporter": "python",
   "pygments_lexer": "ipython3",
   "version": "3.10.4"
  }
 },
 "nbformat": 4,
 "nbformat_minor": 2
}
