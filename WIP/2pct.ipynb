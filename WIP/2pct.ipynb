{
 "cells": [
  {
   "cell_type": "code",
   "execution_count": 1,
   "metadata": {},
   "outputs": [],
   "source": [
    "import pandas as pd\n",
    "import requests\n",
    "from datetime import datetime\n",
    "import numpy as np\n",
    "import matplotlib.pyplot as plt\n",
    "\n",
    "#date up to the collection\n",
    "end_date = '2024-03-25'\n",
    "#api url for the collection\n",
    "url = f'https://api.polygon.io/v2/aggs/ticker/TQQQ/range/1/day/2017-01-01/{end_date}?adjusted=true&sort=asc&limit=50000&apiKey=RMnfdtr9nmyTjXjgbNJeX_I5pIcowZpl'\n",
    "#requesting for the data\n",
    "r = requests.get(url)\n",
    "#compiling data with json\n",
    "data = r.json()\n",
    "\n",
    "#only collecting close data from the json by date\n",
    "close = []\n",
    "#only collecting high data from the json by date\n",
    "high = []\n",
    "#only collecting low data from the json by date\n",
    "low = []\n",
    "#only collecting close time data from json\n",
    "time = []\n",
    "\n",
    "#appending row by row\n",
    "for d in data['results']:\n",
    "    close.append(d['c'])\n",
    "    high.append(d['h'])\n",
    "    low.append(d['l'])\n",
    "    #changing the date from timestamp to actual datetime\n",
    "    time.append(datetime.fromtimestamp(int(str(d['t'])[:-3])))\n",
    "\n",
    "#collecting all lists to a dataframe\n",
    "df_stock = pd.DataFrame({'time': time, 'high': high, 'low': low, 'close': close})"
   ]
  },
  {
   "cell_type": "code",
   "execution_count": 6,
   "metadata": {},
   "outputs": [],
   "source": [
    "sold = []\n",
    "values = []\n",
    "k = 0\n",
    "\n",
    "#iterrating through all rows of the df_stock data\n",
    "for i in df_stock.iterrows():\n",
    "    #skipping the first row since there is no previous date\n",
    "    if i[0] > 0:\n",
    "        #if the closing price of day of observance is less than or equal to the previous closing price's 98%\n",
    "        if i[1]['close'] <= df_stock.close[i[0]-1] * .98:\n",
    "            #then find the next date when the closing price becomes 2% higher than the day of observance in the span of 2 trading weeks\n",
    "            #if there is a date that meets the criteria, append \n",
    "                #1. how many days did it take \n",
    "                #2. how much was it sold for\n",
    "            date_sold, value = next(((index, value) for index, value in enumerate(df_stock.close[i[0]+1:i[0]+50]) if (value >=i[1]['close'] * 1.02)), (None,None))\n",
    "            #collecting just the days it took\n",
    "            sold.append(date_sold)\n",
    "            #collecting the day of observance's \n",
    "            #closing price vs. when it was sold\n",
    "            values.append([i[1]['close'],value])\n",
    "        #just a fail safe ---- nothing related to the result\n",
    "        else:\n",
    "            k+=1"
   ]
  },
  {
   "cell_type": "code",
   "execution_count": 7,
   "metadata": {},
   "outputs": [],
   "source": [
    "#sorting out None because None means that there were no days in the span of 2 weeks that it went up 2%\n",
    "sold2 = [j for j in sold if j != None]"
   ]
  },
  {
   "cell_type": "code",
   "execution_count": 8,
   "metadata": {},
   "outputs": [
    {
     "name": "stdout",
     "output_type": "stream",
     "text": [
      "Total Trading Days: 1251\n",
      "Number of Days that had 2% decrease from previous day: 323\n",
      "Number of Trading Days that had 2% increase: 297\n",
      "Percentage of Days that had 2% increase within 2 weeks when it dropped 2% from previous day: 0.92\n",
      "Average Number of days it took to recover 2% when it dropped 2% from previous day: 4.05\n"
     ]
    }
   ],
   "source": [
    "#results\n",
    "print(f\"Total Trading Days: {df_stock.shape[0]}\")\n",
    "print(f\"Number of Days that had 2% decrease from previous day: {len(sold)}\")\n",
    "print(f\"Number of Trading Days that had 2% increase: {len(sold2)}\")\n",
    "print(f\"Percentage of Days that had 2% increase within 2 weeks when it dropped 2% from previous day: {round(len(sold2)/len(sold),2)}\")\n",
    "print(f\"Average Number of days it took to recover 2% when it dropped 2% from previous day: {round(np.mean(sold2),2)}\")"
   ]
  },
  {
   "cell_type": "code",
   "execution_count": 9,
   "metadata": {},
   "outputs": [
    {
     "data": {
      "text/plain": [
       "(array([164.,  77.,  33.,  12.,   3.,   4.,   0.,   2.,   1.,   1.]),\n",
       " array([1.020008  , 1.04499559, 1.06998317, 1.09497075, 1.11995833,\n",
       "        1.14494591, 1.1699335 , 1.19492108, 1.21990866, 1.24489624,\n",
       "        1.26988382]),\n",
       " <BarContainer object of 10 artists>)"
      ]
     },
     "execution_count": 9,
     "metadata": {},
     "output_type": "execute_result"
    },
    {
     "data": {
      "image/png": "[encoded data removed]",
      "text/plain": [
       "<Figure size 640x480 with 1 Axes>"
      ]
     },
     "metadata": {},
     "output_type": "display_data"
    }
   ],
   "source": [
    "#increase proportion from 2% or more increase to today's price \n",
    "xx = [i[1]/i[0] for i in values if None not in i]\n",
    "plt.hist(xx)"
   ]
  },
  {
   "cell_type": "code",
   "execution_count": 10,
   "metadata": {},
   "outputs": [
    {
     "data": {
      "text/plain": [
       "(array([232.,  30.,   8.,   6.,   6.,   6.,   3.,   4.,   1.,   1.]),\n",
       " array([ 0. ,  4.8,  9.6, 14.4, 19.2, 24. , 28.8, 33.6, 38.4, 43.2, 48. ]),\n",
       " <BarContainer object of 10 artists>)"
      ]
     },
     "execution_count": 10,
     "metadata": {},
     "output_type": "execute_result"
    },
    {
     "data": {
      "image/png": "[encoded data removed]",
      "text/plain": [
       "<Figure size 640x480 with 1 Axes>"
      ]
     },
     "metadata": {},
     "output_type": "display_data"
    }
   ],
   "source": [
    "plt.hist(sold2)"
   ]
  },
  {
   "cell_type": "markdown",
   "metadata": {},
   "source": [
    "15일 이상 불가\n",
    "코드 작동 리뷰\n",
    "날짜 1월24년 이상 안올라감\n",
    "최적화..? \n",
    "    승률, sharpe ratio ()\n"
   ]
  }
 ],
 "metadata": {
  "kernelspec": {
   "display_name": "ANLY501",
   "language": "python",
   "name": "python3"
  },
  "language_info": {
   "codemirror_mode": {
    "name": "ipython",
    "version": 3
   },
   "file_extension": ".py",
   "mimetype": "text/x-python",
   "name": "python",
   "nbconvert_exporter": "python",
   "pygments_lexer": "ipython3",
   "version": "3.10.4"
  }
 },
 "nbformat": 4,
 "nbformat_minor": 2
}
