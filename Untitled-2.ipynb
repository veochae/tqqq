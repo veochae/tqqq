{
 "cells": [
  {
   "cell_type": "markdown",
   "metadata": {},
   "source": [
    "# STREAMLIT VERSION "
   ]
  },
  {
   "cell_type": "code",
   "execution_count": 2,
   "metadata": {},
   "outputs": [],
   "source": [
    "import pandas as pd\n",
    "import time\n",
    "from datetime import datetime\n",
    "import requests\n",
    "import matplotlib.pyplot as plt\n",
    "import numpy as np\n",
    "import plotly.express as px"
   ]
  },
  {
   "cell_type": "code",
   "execution_count": 3,
   "metadata": {},
   "outputs": [],
   "source": [
    "#parameters\n",
    "\n",
    "polygon_api_key = 'RMnfdtr9nmyTjXjgbNJeX_I5pIcowZpl'\n",
    "\n",
    "load_ticker = 'TQQQ'\n",
    "load_interval = '5'\n",
    "load_time_unit = 'minute'\n",
    "load_start_date = '2019-05-01' #first trading day 5 years ago\n",
    "load_end_date = str(datetime.today().date())\n",
    "max_days_til_sold = 25 * 78\n",
    "\n",
    "# Parameters in percentage; How much % change from the prev day closing price to initiate a buy, and how much % to exit the position\n",
    "price_dec_pct_buy = [-3, -2.5,]\n",
    "price_inc_pct_sell = [2, 2.5]"
   ]
  },
  {
   "cell_type": "code",
   "execution_count": 4,
   "metadata": {},
   "outputs": [],
   "source": [
    "#data collection function\n",
    "\n",
    "def data_collection(load_ticker, load_interval, load_time_unit, load_start_date, load_end_date, polygon_api_key):\n",
    "    #Load data from Polygon.io\n",
    "    url = f'https://api.polygon.io/v2/aggs/ticker/{load_ticker}/range/{load_interval}/{load_time_unit}/{load_start_date}/{load_end_date}?adjusted=true&sort=asc&limit=50000&apiKey={polygon_api_key}'\n",
    "    r = requests.get(url)\n",
    "    data = r.json()\n",
    "\n",
    "    close = []\n",
    "    time = []\n",
    "\n",
    "    while 'next_url' in data.keys():\n",
    "        for d in data['results']:\n",
    "            close.append(d['c'])\n",
    "            time.append(datetime.fromtimestamp(int(str(d['t'])[:-3])))\n",
    "\n",
    "        url = data['next_url']+f\"&apiKey={polygon_api_key}\"\n",
    "        r = requests.get(url)\n",
    "        data = r.json()\n",
    "\n",
    "    for d in data['results']:\n",
    "        close.append(d['c'])\n",
    "        time.append(datetime.fromtimestamp(int(str(d['t'])[:-3])))\n",
    "\n",
    "    dff = pd.DataFrame({'time': time, 'close': close});\n",
    "\n",
    "    dff['time'] = pd.to_datetime(dff['time'])\n",
    "\n",
    "    return dff"
   ]
  },
  {
   "cell_type": "code",
   "execution_count": 5,
   "metadata": {},
   "outputs": [],
   "source": [
    "#trade hour check function (internal)\n",
    "def check_trading_hours(dte):\n",
    "    if dte.hour >= 9 and dte.hour < 16:  # Checking if the hour is between 9 and 16 (4 PM)\n",
    "        if dte.hour == 9:\n",
    "            if dte.minute > 30:  # If hour is 9, check if minute is > 30\n",
    "                return True\n",
    "            else:\n",
    "                return False\n",
    "        else:\n",
    "            return True\n",
    "    elif dte.hour == 16 and dte.minute == 0:\n",
    "        return True\n",
    "    else:\n",
    "        return False\n",
    "    \n",
    "#trade hour check function (external)\n",
    "    \n",
    "def check_trading_hour_external(df):\n",
    "    df['is_trading_hours'] = df['time'].apply(check_trading_hours)\n",
    "    return df"
   ]
  },
  {
   "cell_type": "code",
   "execution_count": 6,
   "metadata": {},
   "outputs": [],
   "source": [
    "#buy_track calculation function\n",
    "\n",
    "def buy_track(df):\n",
    "    # Calculate the date of the day before\n",
    "    df['previous_day'] = df['time'].apply(lambda x: x - pd.Timedelta(days=1))\n",
    "    df['previous_day'] = pd.to_datetime(df['previous_day'])\n",
    "    df['previous_day_4pm'] = df['previous_day'].apply(lambda x: x.replace(hour=16, minute=0))\n",
    "\n",
    "    # Merge with itself to find the price of the day before at 4 pm\n",
    "    merged_df = pd.merge(df, df, left_on='previous_day_4pm', right_on='time', suffixes=('', '_previous'))\n",
    "\n",
    "    # Calculate the decrease percentage compared to the price of the day before at 4 pm\n",
    "    merged_df['price_decrease_percentage'] = (merged_df['close'] - merged_df['close_previous']) / merged_df['close_previous'] * 100\n",
    "\n",
    "    # Make a new dataframe and clean it up\n",
    "    buy_track_temp = merged_df.copy()\n",
    "    buy_track_temp=buy_track_temp.drop(columns=['previous_day', 'time_previous', 'is_trading_hours_previous', 'previous_day_previous', 'previous_day_4pm_previous'])\n",
    "\n",
    "    return df, buy_track_temp\n",
    "\n",
    "def buy_track_2(df, buy_track_temp, price_dec_pct_buy):\n",
    "    # Make a new dataframe that tracks past buy signals\n",
    "    buy_track = buy_track_temp[buy_track_temp['price_decrease_percentage'] <= price_dec_pct_buy]\n",
    "    buy_track = buy_track[buy_track['is_trading_hours'] == True]\n",
    "    df['included_in_buy_track'] = df['time'].isin(buy_track['time'])\n",
    "\n",
    "    return df"
   ]
  },
  {
   "cell_type": "code",
   "execution_count": 7,
   "metadata": {},
   "outputs": [],
   "source": [
    "#extracting df2\n",
    "def df2_extract(df):\n",
    "    df2 = df[df['is_trading_hours'] == True].reset_index(drop= True)\n",
    "    return df2"
   ]
  },
  {
   "cell_type": "code",
   "execution_count": 10,
   "metadata": {},
   "outputs": [],
   "source": [
    "#sell date calculation function\n",
    "def sell_track(df2, price_inc_pct_sell):\n",
    "    sell_date_info = []\n",
    "\n",
    "    for i, row in df2.iterrows():\n",
    "        if row['included_in_buy_track']:\n",
    "            sell_index, date_sold, value = next(((index+i+1, df2.time[index+i+1], value) for index, value in enumerate(df2.close[i+1:df2.shape[0]]) if (value >=row['close'] * (1 + (0.01 * price_inc_pct_sell)))), (df2.index[-1],df2.time[df2.index[-1]],df2.close[df2.index[-1]]))\n",
    "            sell_date_info.append([date_sold,value,sell_index])\n",
    "        else:\n",
    "            sell_date_info.append([None,None,None])    \n",
    "\n",
    "    df2['sell_date'] = [j[0] for j in sell_date_info]\n",
    "    df2['sell_price'] = [j[1] for j in sell_date_info]\n",
    "    df2['sell_index'] = [j[2] for j in sell_date_info]\n",
    "\n",
    "    # Calculate the difference in time between 'time' and 'sell_date' and save it to a new column named 'gap'\n",
    "    df2['gap'] = (df2['sell_index'] - df2.index)/79\n",
    "\n",
    "    # Calculate the increase percentage of 'sell_price' compared to 'close' for each row\n",
    "    df2['gain'] = ((df2['sell_price'] - df2['close']) / df2['close']) * 100\n",
    "\n",
    "    df2['date'] = df2['time'].dt.date\n",
    "    temp = pd.DataFrame(df2.groupby('date')['included_in_buy_track'].apply(lambda x: int(x.idxmax(skipna=False)) if any(x) else None)).reset_index(drop = True).included_in_buy_track.to_list()\n",
    "\n",
    "    res = [True if i in temp else False for i in range(df2.shape[0]) ]\n",
    "\n",
    "    df2['first_buy'] = res\n",
    "\n",
    "    return df2"
   ]
  },
  {
   "cell_type": "code",
   "execution_count": 11,
   "metadata": {},
   "outputs": [
    {
     "data": {
      "application/vnd.plotly.v1+json": {
       "config": {
        "plotlyServerURL": "https://plot.ly"
       },
       "data": [
        {
         "alignmentgroup": "True",
         "customdata": [
          [
           24
          ],
          [
           24
          ],
          [
           25
          ],
          [
           26
          ],
          [
           27
          ]
         ],
         "hovertemplate": "years=2019<br>Trade Days=%{x}<br>pct=%{y}<br>Count=%{customdata[0]}<extra></extra>",
         "legendgroup": "2019",
         "marker": {
          "color": "#636efa",
          "pattern": {
           "shape": ""
          }
         },
         "name": "2019",
         "offsetgroup": "2019",
         "orientation": "v",
         "showlegend": true,
         "textposition": "auto",
         "type": "bar",
         "x": [
          5,
          10,
          15,
          20,
          25
         ],
         "xaxis": "x",
         "y": [
          85.71,
          85.71,
          89.29,
          92.86,
          96.43
         ],
         "yaxis": "y"
        },
        {
         "alignmentgroup": "True",
         "customdata": [
          [
           62
          ],
          [
           65
          ],
          [
           65
          ],
          [
           66
          ],
          [
           67
          ]
         ],
         "hovertemplate": "years=2020<br>Trade Days=%{x}<br>pct=%{y}<br>Count=%{customdata[0]}<extra></extra>",
         "legendgroup": "2020",
         "marker": {
          "color": "#EF553B",
          "pattern": {
           "shape": ""
          }
         },
         "name": "2020",
         "offsetgroup": "2020",
         "orientation": "v",
         "showlegend": true,
         "textposition": "auto",
         "type": "bar",
         "x": [
          5,
          10,
          15,
          20,
          25
         ],
         "xaxis": "x",
         "y": [
          87.32,
          91.55,
          91.55,
          92.96,
          94.37
         ],
         "yaxis": "y"
        },
        {
         "alignmentgroup": "True",
         "customdata": [
          [
           43
          ],
          [
           44
          ],
          [
           46
          ],
          [
           46
          ],
          [
           47
          ]
         ],
         "hovertemplate": "years=2021<br>Trade Days=%{x}<br>pct=%{y}<br>Count=%{customdata[0]}<extra></extra>",
         "legendgroup": "2021",
         "marker": {
          "color": "#00cc96",
          "pattern": {
           "shape": ""
          }
         },
         "name": "2021",
         "offsetgroup": "2021",
         "orientation": "v",
         "showlegend": true,
         "textposition": "auto",
         "type": "bar",
         "x": [
          5,
          10,
          15,
          20,
          25
         ],
         "xaxis": "x",
         "y": [
          89.58,
          91.67,
          95.83,
          95.83,
          97.92
         ],
         "yaxis": "y"
        },
        {
         "alignmentgroup": "True",
         "customdata": [
          [
           78
          ],
          [
           84
          ],
          [
           85
          ],
          [
           86
          ],
          [
           88
          ]
         ],
         "hovertemplate": "years=2022<br>Trade Days=%{x}<br>pct=%{y}<br>Count=%{customdata[0]}<extra></extra>",
         "legendgroup": "2022",
         "marker": {
          "color": "#ab63fa",
          "pattern": {
           "shape": ""
          }
         },
         "name": "2022",
         "offsetgroup": "2022",
         "orientation": "v",
         "showlegend": true,
         "textposition": "auto",
         "type": "bar",
         "x": [
          5,
          10,
          15,
          20,
          25
         ],
         "xaxis": "x",
         "y": [
          75.73,
          81.55,
          82.52,
          83.5,
          85.44
         ],
         "yaxis": "y"
        },
        {
         "alignmentgroup": "True",
         "customdata": [
          [
           47
          ],
          [
           51
          ],
          [
           55
          ],
          [
           56
          ],
          [
           56
          ]
         ],
         "hovertemplate": "years=2023<br>Trade Days=%{x}<br>pct=%{y}<br>Count=%{customdata[0]}<extra></extra>",
         "legendgroup": "2023",
         "marker": {
          "color": "#FFA15A",
          "pattern": {
           "shape": ""
          }
         },
         "name": "2023",
         "offsetgroup": "2023",
         "orientation": "v",
         "showlegend": true,
         "textposition": "auto",
         "type": "bar",
         "x": [
          5,
          10,
          15,
          20,
          25
         ],
         "xaxis": "x",
         "y": [
          79.66,
          86.44,
          93.22,
          94.92,
          94.92
         ],
         "yaxis": "y"
        },
        {
         "alignmentgroup": "True",
         "customdata": [
          [
           15
          ],
          [
           16
          ],
          [
           17
          ],
          [
           17
          ],
          [
           17
          ]
         ],
         "hovertemplate": "years=2024<br>Trade Days=%{x}<br>pct=%{y}<br>Count=%{customdata[0]}<extra></extra>",
         "legendgroup": "2024",
         "marker": {
          "color": "#19d3f3",
          "pattern": {
           "shape": ""
          }
         },
         "name": "2024",
         "offsetgroup": "2024",
         "orientation": "v",
         "showlegend": true,
         "textposition": "auto",
         "type": "bar",
         "x": [
          5,
          10,
          15,
          20,
          25
         ],
         "xaxis": "x",
         "y": [
          88.24,
          94.12,
          100,
          100,
          100
         ],
         "yaxis": "y"
        }
       ],
       "layout": {
        "barmode": "group",
        "legend": {
         "title": {
          "text": "years"
         },
         "tracegroupgap": 0
        },
        "template": {
         "data": {
          "bar": [
           {
            "error_x": {
             "color": "#2a3f5f"
            },
            "error_y": {
             "color": "#2a3f5f"
            },
            "marker": {
             "line": {
              "color": "#E5ECF6",
              "width": 0.5
             },
             "pattern": {
              "fillmode": "overlay",
              "size": 10,
              "solidity": 0.2
             }
            },
            "type": "bar"
           }
          ],
          "barpolar": [
           {
            "marker": {
             "line": {
              "color": "#E5ECF6",
              "width": 0.5
             },
             "pattern": {
              "fillmode": "overlay",
              "size": 10,
              "solidity": 0.2
             }
            },
            "type": "barpolar"
           }
          ],
          "carpet": [
           {
            "aaxis": {
             "endlinecolor": "#2a3f5f",
             "gridcolor": "white",
             "linecolor": "white",
             "minorgridcolor": "white",
             "startlinecolor": "#2a3f5f"
            },
            "baxis": {
             "endlinecolor": "#2a3f5f",
             "gridcolor": "white",
             "linecolor": "white",
             "minorgridcolor": "white",
             "startlinecolor": "#2a3f5f"
            },
            "type": "carpet"
           }
          ],
          "choropleth": [
           {
            "colorbar": {
             "outlinewidth": 0,
             "ticks": ""
            },
            "type": "choropleth"
           }
          ],
          "contour": [
           {
            "colorbar": {
             "outlinewidth": 0,
             "ticks": ""
            },
            "colorscale": [
             [
              0,
              "#0d0887"
             ],
             [
              0.1111111111111111,
              "#46039f"
             ],
             [
              0.2222222222222222,
              "#7201a8"
             ],
             [
              0.3333333333333333,
              "#9c179e"
             ],
             [
              0.4444444444444444,
              "#bd3786"
             ],
             [
              0.5555555555555556,
              "#d8576b"
             ],
             [
              0.6666666666666666,
              "#ed7953"
             ],
             [
              0.7777777777777778,
              "#fb9f3a"
             ],
             [
              0.8888888888888888,
              "#fdca26"
             ],
             [
              1,
              "#f0f921"
             ]
            ],
            "type": "contour"
           }
          ],
          "contourcarpet": [
           {
            "colorbar": {
             "outlinewidth": 0,
             "ticks": ""
            },
            "type": "contourcarpet"
           }
          ],
          "heatmap": [
           {
            "colorbar": {
             "outlinewidth": 0,
             "ticks": ""
            },
            "colorscale": [
             [
              0,
              "#0d0887"
             ],
             [
              0.1111111111111111,
              "#46039f"
             ],
             [
              0.2222222222222222,
              "#7201a8"
             ],
             [
              0.3333333333333333,
              "#9c179e"
             ],
             [
              0.4444444444444444,
              "#bd3786"
             ],
             [
              0.5555555555555556,
              "#d8576b"
             ],
             [
              0.6666666666666666,
              "#ed7953"
             ],
             [
              0.7777777777777778,
              "#fb9f3a"
             ],
             [
              0.8888888888888888,
              "#fdca26"
             ],
             [
              1,
              "#f0f921"
             ]
            ],
            "type": "heatmap"
           }
          ],
          "heatmapgl": [
           {
            "colorbar": {
             "outlinewidth": 0,
             "ticks": ""
            },
            "colorscale": [
             [
              0,
              "#0d0887"
             ],
             [
              0.1111111111111111,
              "#46039f"
             ],
             [
              0.2222222222222222,
              "#7201a8"
             ],
             [
              0.3333333333333333,
              "#9c179e"
             ],
             [
              0.4444444444444444,
              "#bd3786"
             ],
             [
              0.5555555555555556,
              "#d8576b"
             ],
             [
              0.6666666666666666,
              "#ed7953"
             ],
             [
              0.7777777777777778,
              "#fb9f3a"
             ],
             [
              0.8888888888888888,
              "#fdca26"
             ],
             [
              1,
              "#f0f921"
             ]
            ],
            "type": "heatmapgl"
           }
          ],
          "histogram": [
           {
            "marker": {
             "pattern": {
              "fillmode": "overlay",
              "size": 10,
              "solidity": 0.2
             }
            },
            "type": "histogram"
           }
          ],
          "histogram2d": [
           {
            "colorbar": {
             "outlinewidth": 0,
             "ticks": ""
            },
            "colorscale": [
             [
              0,
              "#0d0887"
             ],
             [
              0.1111111111111111,
              "#46039f"
             ],
             [
              0.2222222222222222,
              "#7201a8"
             ],
             [
              0.3333333333333333,
              "#9c179e"
             ],
             [
              0.4444444444444444,
              "#bd3786"
             ],
             [
              0.5555555555555556,
              "#d8576b"
             ],
             [
              0.6666666666666666,
              "#ed7953"
             ],
             [
              0.7777777777777778,
              "#fb9f3a"
             ],
             [
              0.8888888888888888,
              "#fdca26"
             ],
             [
              1,
              "#f0f921"
             ]
            ],
            "type": "histogram2d"
           }
          ],
          "histogram2dcontour": [
           {
            "colorbar": {
             "outlinewidth": 0,
             "ticks": ""
            },
            "colorscale": [
             [
              0,
              "#0d0887"
             ],
             [
              0.1111111111111111,
              "#46039f"
             ],
             [
              0.2222222222222222,
              "#7201a8"
             ],
             [
              0.3333333333333333,
              "#9c179e"
             ],
             [
              0.4444444444444444,
              "#bd3786"
             ],
             [
              0.5555555555555556,
              "#d8576b"
             ],
             [
              0.6666666666666666,
              "#ed7953"
             ],
             [
              0.7777777777777778,
              "#fb9f3a"
             ],
             [
              0.8888888888888888,
              "#fdca26"
             ],
             [
              1,
              "#f0f921"
             ]
            ],
            "type": "histogram2dcontour"
           }
          ],
          "mesh3d": [
           {
            "colorbar": {
             "outlinewidth": 0,
             "ticks": ""
            },
            "type": "mesh3d"
           }
          ],
          "parcoords": [
           {
            "line": {
             "colorbar": {
              "outlinewidth": 0,
              "ticks": ""
             }
            },
            "type": "parcoords"
           }
          ],
          "pie": [
           {
            "automargin": true,
            "type": "pie"
           }
          ],
          "scatter": [
           {
            "fillpattern": {
             "fillmode": "overlay",
             "size": 10,
             "solidity": 0.2
            },
            "type": "scatter"
           }
          ],
          "scatter3d": [
           {
            "line": {
             "colorbar": {
              "outlinewidth": 0,
              "ticks": ""
             }
            },
            "marker": {
             "colorbar": {
              "outlinewidth": 0,
              "ticks": ""
             }
            },
            "type": "scatter3d"
           }
          ],
          "scattercarpet": [
           {
            "marker": {
             "colorbar": {
              "outlinewidth": 0,
              "ticks": ""
             }
            },
            "type": "scattercarpet"
           }
          ],
          "scattergeo": [
           {
            "marker": {
             "colorbar": {
              "outlinewidth": 0,
              "ticks": ""
             }
            },
            "type": "scattergeo"
           }
          ],
          "scattergl": [
           {
            "marker": {
             "colorbar": {
              "outlinewidth": 0,
              "ticks": ""
             }
            },
            "type": "scattergl"
           }
          ],
          "scattermapbox": [
           {
            "marker": {
             "colorbar": {
              "outlinewidth": 0,
              "ticks": ""
             }
            },
            "type": "scattermapbox"
           }
          ],
          "scatterpolar": [
           {
            "marker": {
             "colorbar": {
              "outlinewidth": 0,
              "ticks": ""
             }
            },
            "type": "scatterpolar"
           }
          ],
          "scatterpolargl": [
           {
            "marker": {
             "colorbar": {
              "outlinewidth": 0,
              "ticks": ""
             }
            },
            "type": "scatterpolargl"
           }
          ],
          "scatterternary": [
           {
            "marker": {
             "colorbar": {
              "outlinewidth": 0,
              "ticks": ""
             }
            },
            "type": "scatterternary"
           }
          ],
          "surface": [
           {
            "colorbar": {
             "outlinewidth": 0,
             "ticks": ""
            },
            "colorscale": [
             [
              0,
              "#0d0887"
             ],
             [
              0.1111111111111111,
              "#46039f"
             ],
             [
              0.2222222222222222,
              "#7201a8"
             ],
             [
              0.3333333333333333,
              "#9c179e"
             ],
             [
              0.4444444444444444,
              "#bd3786"
             ],
             [
              0.5555555555555556,
              "#d8576b"
             ],
             [
              0.6666666666666666,
              "#ed7953"
             ],
             [
              0.7777777777777778,
              "#fb9f3a"
             ],
             [
              0.8888888888888888,
              "#fdca26"
             ],
             [
              1,
              "#f0f921"
             ]
            ],
            "type": "surface"
           }
          ],
          "table": [
           {
            "cells": {
             "fill": {
              "color": "#EBF0F8"
             },
             "line": {
              "color": "white"
             }
            },
            "header": {
             "fill": {
              "color": "#C8D4E3"
             },
             "line": {
              "color": "white"
             }
            },
            "type": "table"
           }
          ]
         },
         "layout": {
          "annotationdefaults": {
           "arrowcolor": "#2a3f5f",
           "arrowhead": 0,
           "arrowwidth": 1
          },
          "autotypenumbers": "strict",
          "coloraxis": {
           "colorbar": {
            "outlinewidth": 0,
            "ticks": ""
           }
          },
          "colorscale": {
           "diverging": [
            [
             0,
             "#8e0152"
            ],
            [
             0.1,
             "#c51b7d"
            ],
            [
             0.2,
             "#de77ae"
            ],
            [
             0.3,
             "#f1b6da"
            ],
            [
             0.4,
             "#fde0ef"
            ],
            [
             0.5,
             "#f7f7f7"
            ],
            [
             0.6,
             "#e6f5d0"
            ],
            [
             0.7,
             "#b8e186"
            ],
            [
             0.8,
             "#7fbc41"
            ],
            [
             0.9,
             "#4d9221"
            ],
            [
             1,
             "#276419"
            ]
           ],
           "sequential": [
            [
             0,
             "#0d0887"
            ],
            [
             0.1111111111111111,
             "#46039f"
            ],
            [
             0.2222222222222222,
             "#7201a8"
            ],
            [
             0.3333333333333333,
             "#9c179e"
            ],
            [
             0.4444444444444444,
             "#bd3786"
            ],
            [
             0.5555555555555556,
             "#d8576b"
            ],
            [
             0.6666666666666666,
             "#ed7953"
            ],
            [
             0.7777777777777778,
             "#fb9f3a"
            ],
            [
             0.8888888888888888,
             "#fdca26"
            ],
            [
             1,
             "#f0f921"
            ]
           ],
           "sequentialminus": [
            [
             0,
             "#0d0887"
            ],
            [
             0.1111111111111111,
             "#46039f"
            ],
            [
             0.2222222222222222,
             "#7201a8"
            ],
            [
             0.3333333333333333,
             "#9c179e"
            ],
            [
             0.4444444444444444,
             "#bd3786"
            ],
            [
             0.5555555555555556,
             "#d8576b"
            ],
            [
             0.6666666666666666,
             "#ed7953"
            ],
            [
             0.7777777777777778,
             "#fb9f3a"
            ],
            [
             0.8888888888888888,
             "#fdca26"
            ],
            [
             1,
             "#f0f921"
            ]
           ]
          },
          "colorway": [
           "#636efa",
           "#EF553B",
           "#00cc96",
           "#ab63fa",
           "#FFA15A",
           "#19d3f3",
           "#FF6692",
           "#B6E880",
           "#FF97FF",
           "#FECB52"
          ],
          "font": {
           "color": "#2a3f5f"
          },
          "geo": {
           "bgcolor": "white",
           "lakecolor": "white",
           "landcolor": "#E5ECF6",
           "showlakes": true,
           "showland": true,
           "subunitcolor": "white"
          },
          "hoverlabel": {
           "align": "left"
          },
          "hovermode": "closest",
          "mapbox": {
           "style": "light"
          },
          "paper_bgcolor": "white",
          "plot_bgcolor": "#E5ECF6",
          "polar": {
           "angularaxis": {
            "gridcolor": "white",
            "linecolor": "white",
            "ticks": ""
           },
           "bgcolor": "#E5ECF6",
           "radialaxis": {
            "gridcolor": "white",
            "linecolor": "white",
            "ticks": ""
           }
          },
          "scene": {
           "xaxis": {
            "backgroundcolor": "#E5ECF6",
            "gridcolor": "white",
            "gridwidth": 2,
            "linecolor": "white",
            "showbackground": true,
            "ticks": "",
            "zerolinecolor": "white"
           },
           "yaxis": {
            "backgroundcolor": "#E5ECF6",
            "gridcolor": "white",
            "gridwidth": 2,
            "linecolor": "white",
            "showbackground": true,
            "ticks": "",
            "zerolinecolor": "white"
           },
           "zaxis": {
            "backgroundcolor": "#E5ECF6",
            "gridcolor": "white",
            "gridwidth": 2,
            "linecolor": "white",
            "showbackground": true,
            "ticks": "",
            "zerolinecolor": "white"
           }
          },
          "shapedefaults": {
           "line": {
            "color": "#2a3f5f"
           }
          },
          "ternary": {
           "aaxis": {
            "gridcolor": "white",
            "linecolor": "white",
            "ticks": ""
           },
           "baxis": {
            "gridcolor": "white",
            "linecolor": "white",
            "ticks": ""
           },
           "bgcolor": "#E5ECF6",
           "caxis": {
            "gridcolor": "white",
            "linecolor": "white",
            "ticks": ""
           }
          },
          "title": {
           "x": 0.05
          },
          "xaxis": {
           "automargin": true,
           "gridcolor": "white",
           "linecolor": "white",
           "ticks": "",
           "title": {
            "standoff": 15
           },
           "zerolinecolor": "white",
           "zerolinewidth": 2
          },
          "yaxis": {
           "automargin": true,
           "gridcolor": "white",
           "linecolor": "white",
           "ticks": "",
           "title": {
            "standoff": 15
           },
           "zerolinecolor": "white",
           "zerolinewidth": 2
          }
         }
        },
        "title": {
         "text": "Overall Statistics (-3 pct)"
        },
        "xaxis": {
         "anchor": "y",
         "domain": [
          0,
          1
         ],
         "title": {
          "text": "Trade Days"
         }
        },
        "yaxis": {
         "anchor": "x",
         "domain": [
          0,
          1
         ],
         "title": {
          "text": "pct"
         }
        }
       }
      }
     },
     "metadata": {},
     "output_type": "display_data"
    },
    {
     "data": {
      "application/vnd.plotly.v1+json": {
       "config": {
        "plotlyServerURL": "https://plot.ly"
       },
       "data": [
        {
         "alignmentgroup": "True",
         "customdata": [
          [
           27
          ],
          [
           28
          ],
          [
           30
          ],
          [
           31
          ],
          [
           32
          ]
         ],
         "hovertemplate": "years=2019<br>Trade Days=%{x}<br>pct=%{y}<br>Count=%{customdata[0]}<extra></extra>",
         "legendgroup": "2019",
         "marker": {
          "color": "#636efa",
          "pattern": {
           "shape": ""
          }
         },
         "name": "2019",
         "offsetgroup": "2019",
         "orientation": "v",
         "showlegend": true,
         "textposition": "auto",
         "type": "bar",
         "x": [
          5,
          10,
          15,
          20,
          25
         ],
         "xaxis": "x",
         "y": [
          79.41,
          82.35,
          88.24,
          91.18,
          94.12
         ],
         "yaxis": "y"
        },
        {
         "alignmentgroup": "True",
         "customdata": [
          [
           65
          ],
          [
           70
          ],
          [
           70
          ],
          [
           71
          ],
          [
           72
          ]
         ],
         "hovertemplate": "years=2020<br>Trade Days=%{x}<br>pct=%{y}<br>Count=%{customdata[0]}<extra></extra>",
         "legendgroup": "2020",
         "marker": {
          "color": "#EF553B",
          "pattern": {
           "shape": ""
          }
         },
         "name": "2020",
         "offsetgroup": "2020",
         "orientation": "v",
         "showlegend": true,
         "textposition": "auto",
         "type": "bar",
         "x": [
          5,
          10,
          15,
          20,
          25
         ],
         "xaxis": "x",
         "y": [
          84.42,
          90.91,
          90.91,
          92.21,
          93.51
         ],
         "yaxis": "y"
        },
        {
         "alignmentgroup": "True",
         "customdata": [
          [
           43
          ],
          [
           47
          ],
          [
           49
          ],
          [
           49
          ],
          [
           50
          ]
         ],
         "hovertemplate": "years=2021<br>Trade Days=%{x}<br>pct=%{y}<br>Count=%{customdata[0]}<extra></extra>",
         "legendgroup": "2021",
         "marker": {
          "color": "#00cc96",
          "pattern": {
           "shape": ""
          }
         },
         "name": "2021",
         "offsetgroup": "2021",
         "orientation": "v",
         "showlegend": true,
         "textposition": "auto",
         "type": "bar",
         "x": [
          5,
          10,
          15,
          20,
          25
         ],
         "xaxis": "x",
         "y": [
          79.63,
          87.04,
          90.74,
          90.74,
          92.59
         ],
         "yaxis": "y"
        },
        {
         "alignmentgroup": "True",
         "customdata": [
          [
           81
          ],
          [
           88
          ],
          [
           90
          ],
          [
           91
          ],
          [
           93
          ]
         ],
         "hovertemplate": "years=2022<br>Trade Days=%{x}<br>pct=%{y}<br>Count=%{customdata[0]}<extra></extra>",
         "legendgroup": "2022",
         "marker": {
          "color": "#ab63fa",
          "pattern": {
           "shape": ""
          }
         },
         "name": "2022",
         "offsetgroup": "2022",
         "orientation": "v",
         "showlegend": true,
         "textposition": "auto",
         "type": "bar",
         "x": [
          5,
          10,
          15,
          20,
          25
         ],
         "xaxis": "x",
         "y": [
          71.68,
          77.88,
          79.65,
          80.53,
          82.3
         ],
         "yaxis": "y"
        },
        {
         "alignmentgroup": "True",
         "customdata": [
          [
           55
          ],
          [
           60
          ],
          [
           65
          ],
          [
           68
          ],
          [
           68
          ]
         ],
         "hovertemplate": "years=2023<br>Trade Days=%{x}<br>pct=%{y}<br>Count=%{customdata[0]}<extra></extra>",
         "legendgroup": "2023",
         "marker": {
          "color": "#FFA15A",
          "pattern": {
           "shape": ""
          }
         },
         "name": "2023",
         "offsetgroup": "2023",
         "orientation": "v",
         "showlegend": true,
         "textposition": "auto",
         "type": "bar",
         "x": [
          5,
          10,
          15,
          20,
          25
         ],
         "xaxis": "x",
         "y": [
          76.39,
          83.33,
          90.28,
          94.44,
          94.44
         ],
         "yaxis": "y"
        },
        {
         "alignmentgroup": "True",
         "customdata": [
          [
           16
          ],
          [
           19
          ],
          [
           20
          ],
          [
           20
          ],
          [
           20
          ]
         ],
         "hovertemplate": "years=2024<br>Trade Days=%{x}<br>pct=%{y}<br>Count=%{customdata[0]}<extra></extra>",
         "legendgroup": "2024",
         "marker": {
          "color": "#19d3f3",
          "pattern": {
           "shape": ""
          }
         },
         "name": "2024",
         "offsetgroup": "2024",
         "orientation": "v",
         "showlegend": true,
         "textposition": "auto",
         "type": "bar",
         "x": [
          5,
          10,
          15,
          20,
          25
         ],
         "xaxis": "x",
         "y": [
          80,
          95,
          100,
          100,
          100
         ],
         "yaxis": "y"
        }
       ],
       "layout": {
        "barmode": "group",
        "legend": {
         "title": {
          "text": "years"
         },
         "tracegroupgap": 0
        },
        "template": {
         "data": {
          "bar": [
           {
            "error_x": {
             "color": "#2a3f5f"
            },
            "error_y": {
             "color": "#2a3f5f"
            },
            "marker": {
             "line": {
              "color": "#E5ECF6",
              "width": 0.5
             },
             "pattern": {
              "fillmode": "overlay",
              "size": 10,
              "solidity": 0.2
             }
            },
            "type": "bar"
           }
          ],
          "barpolar": [
           {
            "marker": {
             "line": {
              "color": "#E5ECF6",
              "width": 0.5
             },
             "pattern": {
              "fillmode": "overlay",
              "size": 10,
              "solidity": 0.2
             }
            },
            "type": "barpolar"
           }
          ],
          "carpet": [
           {
            "aaxis": {
             "endlinecolor": "#2a3f5f",
             "gridcolor": "white",
             "linecolor": "white",
             "minorgridcolor": "white",
             "startlinecolor": "#2a3f5f"
            },
            "baxis": {
             "endlinecolor": "#2a3f5f",
             "gridcolor": "white",
             "linecolor": "white",
             "minorgridcolor": "white",
             "startlinecolor": "#2a3f5f"
            },
            "type": "carpet"
           }
          ],
          "choropleth": [
           {
            "colorbar": {
             "outlinewidth": 0,
             "ticks": ""
            },
            "type": "choropleth"
           }
          ],
          "contour": [
           {
            "colorbar": {
             "outlinewidth": 0,
             "ticks": ""
            },
            "colorscale": [
             [
              0,
              "#0d0887"
             ],
             [
              0.1111111111111111,
              "#46039f"
             ],
             [
              0.2222222222222222,
              "#7201a8"
             ],
             [
              0.3333333333333333,
              "#9c179e"
             ],
             [
              0.4444444444444444,
              "#bd3786"
             ],
             [
              0.5555555555555556,
              "#d8576b"
             ],
             [
              0.6666666666666666,
              "#ed7953"
             ],
             [
              0.7777777777777778,
              "#fb9f3a"
             ],
             [
              0.8888888888888888,
              "#fdca26"
             ],
             [
              1,
              "#f0f921"
             ]
            ],
            "type": "contour"
           }
          ],
          "contourcarpet": [
           {
            "colorbar": {
             "outlinewidth": 0,
             "ticks": ""
            },
            "type": "contourcarpet"
           }
          ],
          "heatmap": [
           {
            "colorbar": {
             "outlinewidth": 0,
             "ticks": ""
            },
            "colorscale": [
             [
              0,
              "#0d0887"
             ],
             [
              0.1111111111111111,
              "#46039f"
             ],
             [
              0.2222222222222222,
              "#7201a8"
             ],
             [
              0.3333333333333333,
              "#9c179e"
             ],
             [
              0.4444444444444444,
              "#bd3786"
             ],
             [
              0.5555555555555556,
              "#d8576b"
             ],
             [
              0.6666666666666666,
              "#ed7953"
             ],
             [
              0.7777777777777778,
              "#fb9f3a"
             ],
             [
              0.8888888888888888,
              "#fdca26"
             ],
             [
              1,
              "#f0f921"
             ]
            ],
            "type": "heatmap"
           }
          ],
          "heatmapgl": [
           {
            "colorbar": {
             "outlinewidth": 0,
             "ticks": ""
            },
            "colorscale": [
             [
              0,
              "#0d0887"
             ],
             [
              0.1111111111111111,
              "#46039f"
             ],
             [
              0.2222222222222222,
              "#7201a8"
             ],
             [
              0.3333333333333333,
              "#9c179e"
             ],
             [
              0.4444444444444444,
              "#bd3786"
             ],
             [
              0.5555555555555556,
              "#d8576b"
             ],
             [
              0.6666666666666666,
              "#ed7953"
             ],
             [
              0.7777777777777778,
              "#fb9f3a"
             ],
             [
              0.8888888888888888,
              "#fdca26"
             ],
             [
              1,
              "#f0f921"
             ]
            ],
            "type": "heatmapgl"
           }
          ],
          "histogram": [
           {
            "marker": {
             "pattern": {
              "fillmode": "overlay",
              "size": 10,
              "solidity": 0.2
             }
            },
            "type": "histogram"
           }
          ],
          "histogram2d": [
           {
            "colorbar": {
             "outlinewidth": 0,
             "ticks": ""
            },
            "colorscale": [
             [
              0,
              "#0d0887"
             ],
             [
              0.1111111111111111,
              "#46039f"
             ],
             [
              0.2222222222222222,
              "#7201a8"
             ],
             [
              0.3333333333333333,
              "#9c179e"
             ],
             [
              0.4444444444444444,
              "#bd3786"
             ],
             [
              0.5555555555555556,
              "#d8576b"
             ],
             [
              0.6666666666666666,
              "#ed7953"
             ],
             [
              0.7777777777777778,
              "#fb9f3a"
             ],
             [
              0.8888888888888888,
              "#fdca26"
             ],
             [
              1,
              "#f0f921"
             ]
            ],
            "type": "histogram2d"
           }
          ],
          "histogram2dcontour": [
           {
            "colorbar": {
             "outlinewidth": 0,
             "ticks": ""
            },
            "colorscale": [
             [
              0,
              "#0d0887"
             ],
             [
              0.1111111111111111,
              "#46039f"
             ],
             [
              0.2222222222222222,
              "#7201a8"
             ],
             [
              0.3333333333333333,
              "#9c179e"
             ],
             [
              0.4444444444444444,
              "#bd3786"
             ],
             [
              0.5555555555555556,
              "#d8576b"
             ],
             [
              0.6666666666666666,
              "#ed7953"
             ],
             [
              0.7777777777777778,
              "#fb9f3a"
             ],
             [
              0.8888888888888888,
              "#fdca26"
             ],
             [
              1,
              "#f0f921"
             ]
            ],
            "type": "histogram2dcontour"
           }
          ],
          "mesh3d": [
           {
            "colorbar": {
             "outlinewidth": 0,
             "ticks": ""
            },
            "type": "mesh3d"
           }
          ],
          "parcoords": [
           {
            "line": {
             "colorbar": {
              "outlinewidth": 0,
              "ticks": ""
             }
            },
            "type": "parcoords"
           }
          ],
          "pie": [
           {
            "automargin": true,
            "type": "pie"
           }
          ],
          "scatter": [
           {
            "fillpattern": {
             "fillmode": "overlay",
             "size": 10,
             "solidity": 0.2
            },
            "type": "scatter"
           }
          ],
          "scatter3d": [
           {
            "line": {
             "colorbar": {
              "outlinewidth": 0,
              "ticks": ""
             }
            },
            "marker": {
             "colorbar": {
              "outlinewidth": 0,
              "ticks": ""
             }
            },
            "type": "scatter3d"
           }
          ],
          "scattercarpet": [
           {
            "marker": {
             "colorbar": {
              "outlinewidth": 0,
              "ticks": ""
             }
            },
            "type": "scattercarpet"
           }
          ],
          "scattergeo": [
           {
            "marker": {
             "colorbar": {
              "outlinewidth": 0,
              "ticks": ""
             }
            },
            "type": "scattergeo"
           }
          ],
          "scattergl": [
           {
            "marker": {
             "colorbar": {
              "outlinewidth": 0,
              "ticks": ""
             }
            },
            "type": "scattergl"
           }
          ],
          "scattermapbox": [
           {
            "marker": {
             "colorbar": {
              "outlinewidth": 0,
              "ticks": ""
             }
            },
            "type": "scattermapbox"
           }
          ],
          "scatterpolar": [
           {
            "marker": {
             "colorbar": {
              "outlinewidth": 0,
              "ticks": ""
             }
            },
            "type": "scatterpolar"
           }
          ],
          "scatterpolargl": [
           {
            "marker": {
             "colorbar": {
              "outlinewidth": 0,
              "ticks": ""
             }
            },
            "type": "scatterpolargl"
           }
          ],
          "scatterternary": [
           {
            "marker": {
             "colorbar": {
              "outlinewidth": 0,
              "ticks": ""
             }
            },
            "type": "scatterternary"
           }
          ],
          "surface": [
           {
            "colorbar": {
             "outlinewidth": 0,
             "ticks": ""
            },
            "colorscale": [
             [
              0,
              "#0d0887"
             ],
             [
              0.1111111111111111,
              "#46039f"
             ],
             [
              0.2222222222222222,
              "#7201a8"
             ],
             [
              0.3333333333333333,
              "#9c179e"
             ],
             [
              0.4444444444444444,
              "#bd3786"
             ],
             [
              0.5555555555555556,
              "#d8576b"
             ],
             [
              0.6666666666666666,
              "#ed7953"
             ],
             [
              0.7777777777777778,
              "#fb9f3a"
             ],
             [
              0.8888888888888888,
              "#fdca26"
             ],
             [
              1,
              "#f0f921"
             ]
            ],
            "type": "surface"
           }
          ],
          "table": [
           {
            "cells": {
             "fill": {
              "color": "#EBF0F8"
             },
             "line": {
              "color": "white"
             }
            },
            "header": {
             "fill": {
              "color": "#C8D4E3"
             },
             "line": {
              "color": "white"
             }
            },
            "type": "table"
           }
          ]
         },
         "layout": {
          "annotationdefaults": {
           "arrowcolor": "#2a3f5f",
           "arrowhead": 0,
           "arrowwidth": 1
          },
          "autotypenumbers": "strict",
          "coloraxis": {
           "colorbar": {
            "outlinewidth": 0,
            "ticks": ""
           }
          },
          "colorscale": {
           "diverging": [
            [
             0,
             "#8e0152"
            ],
            [
             0.1,
             "#c51b7d"
            ],
            [
             0.2,
             "#de77ae"
            ],
            [
             0.3,
             "#f1b6da"
            ],
            [
             0.4,
             "#fde0ef"
            ],
            [
             0.5,
             "#f7f7f7"
            ],
            [
             0.6,
             "#e6f5d0"
            ],
            [
             0.7,
             "#b8e186"
            ],
            [
             0.8,
             "#7fbc41"
            ],
            [
             0.9,
             "#4d9221"
            ],
            [
             1,
             "#276419"
            ]
           ],
           "sequential": [
            [
             0,
             "#0d0887"
            ],
            [
             0.1111111111111111,
             "#46039f"
            ],
            [
             0.2222222222222222,
             "#7201a8"
            ],
            [
             0.3333333333333333,
             "#9c179e"
            ],
            [
             0.4444444444444444,
             "#bd3786"
            ],
            [
             0.5555555555555556,
             "#d8576b"
            ],
            [
             0.6666666666666666,
             "#ed7953"
            ],
            [
             0.7777777777777778,
             "#fb9f3a"
            ],
            [
             0.8888888888888888,
             "#fdca26"
            ],
            [
             1,
             "#f0f921"
            ]
           ],
           "sequentialminus": [
            [
             0,
             "#0d0887"
            ],
            [
             0.1111111111111111,
             "#46039f"
            ],
            [
             0.2222222222222222,
             "#7201a8"
            ],
            [
             0.3333333333333333,
             "#9c179e"
            ],
            [
             0.4444444444444444,
             "#bd3786"
            ],
            [
             0.5555555555555556,
             "#d8576b"
            ],
            [
             0.6666666666666666,
             "#ed7953"
            ],
            [
             0.7777777777777778,
             "#fb9f3a"
            ],
            [
             0.8888888888888888,
             "#fdca26"
            ],
            [
             1,
             "#f0f921"
            ]
           ]
          },
          "colorway": [
           "#636efa",
           "#EF553B",
           "#00cc96",
           "#ab63fa",
           "#FFA15A",
           "#19d3f3",
           "#FF6692",
           "#B6E880",
           "#FF97FF",
           "#FECB52"
          ],
          "font": {
           "color": "#2a3f5f"
          },
          "geo": {
           "bgcolor": "white",
           "lakecolor": "white",
           "landcolor": "#E5ECF6",
           "showlakes": true,
           "showland": true,
           "subunitcolor": "white"
          },
          "hoverlabel": {
           "align": "left"
          },
          "hovermode": "closest",
          "mapbox": {
           "style": "light"
          },
          "paper_bgcolor": "white",
          "plot_bgcolor": "#E5ECF6",
          "polar": {
           "angularaxis": {
            "gridcolor": "white",
            "linecolor": "white",
            "ticks": ""
           },
           "bgcolor": "#E5ECF6",
           "radialaxis": {
            "gridcolor": "white",
            "linecolor": "white",
            "ticks": ""
           }
          },
          "scene": {
           "xaxis": {
            "backgroundcolor": "#E5ECF6",
            "gridcolor": "white",
            "gridwidth": 2,
            "linecolor": "white",
            "showbackground": true,
            "ticks": "",
            "zerolinecolor": "white"
           },
           "yaxis": {
            "backgroundcolor": "#E5ECF6",
            "gridcolor": "white",
            "gridwidth": 2,
            "linecolor": "white",
            "showbackground": true,
            "ticks": "",
            "zerolinecolor": "white"
           },
           "zaxis": {
            "backgroundcolor": "#E5ECF6",
            "gridcolor": "white",
            "gridwidth": 2,
            "linecolor": "white",
            "showbackground": true,
            "ticks": "",
            "zerolinecolor": "white"
           }
          },
          "shapedefaults": {
           "line": {
            "color": "#2a3f5f"
           }
          },
          "ternary": {
           "aaxis": {
            "gridcolor": "white",
            "linecolor": "white",
            "ticks": ""
           },
           "baxis": {
            "gridcolor": "white",
            "linecolor": "white",
            "ticks": ""
           },
           "bgcolor": "#E5ECF6",
           "caxis": {
            "gridcolor": "white",
            "linecolor": "white",
            "ticks": ""
           }
          },
          "title": {
           "x": 0.05
          },
          "xaxis": {
           "automargin": true,
           "gridcolor": "white",
           "linecolor": "white",
           "ticks": "",
           "title": {
            "standoff": 15
           },
           "zerolinecolor": "white",
           "zerolinewidth": 2
          },
          "yaxis": {
           "automargin": true,
           "gridcolor": "white",
           "linecolor": "white",
           "ticks": "",
           "title": {
            "standoff": 15
           },
           "zerolinecolor": "white",
           "zerolinewidth": 2
          }
         }
        },
        "title": {
         "text": "Overall Statistics (-2.5 pct)"
        },
        "xaxis": {
         "anchor": "y",
         "domain": [
          0,
          1
         ],
         "title": {
          "text": "Trade Days"
         }
        },
        "yaxis": {
         "anchor": "x",
         "domain": [
          0,
          1
         ],
         "title": {
          "text": "pct"
         }
        }
       }
      }
     },
     "metadata": {},
     "output_type": "display_data"
    }
   ],
   "source": [
    "df = data_collection(load_ticker, load_interval, load_time_unit, load_start_date, load_end_date, polygon_api_key)\n",
    "\n",
    "df = check_trading_hour_external(df)\n",
    "\n",
    "df, buy_track_temp =  buy_track(df)\n",
    "\n",
    "trades = []\n",
    "pcts = []\n",
    "\n",
    "\n",
    "for i in range(len(price_dec_pct_buy)):\n",
    "    df = buy_track_2(df, buy_track_temp, price_dec_pct_buy[i])\n",
    "    df2 = df2_extract(df)\n",
    "    df2 = sell_track(df2, price_inc_pct_sell[i])\n",
    "    df3 = df2[df2['first_buy'] == True].reset_index(drop = True)\n",
    "    df3['year'] = pd.to_datetime(df3['time']).dt.year\n",
    "    df3['dow'] = pd.to_datetime(df3['time']).dt.day_of_week\n",
    "\n",
    "    # Group the result dataframe by year\n",
    "    grouped_result = df3.groupby('year')    \n",
    "\n",
    "    for year, group in grouped_result:\n",
    "        # Count the number of rows in the result dataframe\n",
    "        num_trades = group.shape[0]\n",
    "        num_trades_gap_lower_than_5 = group[group['gap'] < 5].shape[0]\n",
    "        num_trades_gap_lower_than_10 = group[group['gap'] < 10].shape[0]\n",
    "        num_trades_gap_lower_than_15 = group[group['gap'] < 15].shape[0]\n",
    "        num_trades_gap_lower_than_20 = group[group['gap'] < 20].shape[0]\n",
    "        num_trades_gap_lower_than_25 = group[group['gap'] < 25].shape[0]\n",
    "\n",
    "        trades_temp =[num_trades_gap_lower_than_5,num_trades_gap_lower_than_10,num_trades_gap_lower_than_15,num_trades_gap_lower_than_20,num_trades_gap_lower_than_25]\n",
    "        pcts+=[round(trades_temp[i] / num_trades * 100,2) for i in range(5)]\n",
    "        trades += [num_trades_gap_lower_than_5,num_trades_gap_lower_than_10,num_trades_gap_lower_than_15,num_trades_gap_lower_than_20,num_trades_gap_lower_than_25]\n",
    "\n",
    "    years = ['2019']* 5 + ['2020']*5 + ['2021']* 5 + ['2022']*5 + ['2023']* 5 + ['2024']*5\n",
    "\n",
    "    data = {'Trade Days': [5,10,15,20,25]*6,\n",
    "            'Count': trades,\n",
    "            'years': years,\n",
    "            'pct': pcts}\n",
    "    \n",
    "    data = pd.DataFrame(data)\n",
    "\n",
    "    fig = px.bar(data,\n",
    "                 x = 'Trade Days', \n",
    "                y = 'pct',\n",
    "                color = 'years',\n",
    "                hover_data=['Count'],\n",
    "                orientation='v', \n",
    "                barmode= 'group', \n",
    "                title = f'Overall Statistics ({price_dec_pct_buy[i]} pct)')\n",
    "    \n",
    "    fig.show()\n",
    "\n",
    "    trades = []\n",
    "    pcts = []\n"
   ]
  },
  {
   "cell_type": "markdown",
   "metadata": {},
   "source": []
  },
  {
   "cell_type": "code",
   "execution_count": 124,
   "metadata": {},
   "outputs": [
    {
     "data": {
      "text/plain": [
       "0         2\n",
       "1         2\n",
       "2         2\n",
       "3         2\n",
       "4         2\n",
       "         ..\n",
       "233904    0\n",
       "233905    0\n",
       "233906    0\n",
       "233907    0\n",
       "233908    0\n",
       "Name: time, Length: 233909, dtype: int32"
      ]
     },
     "execution_count": 124,
     "metadata": {},
     "output_type": "execute_result"
    }
   ],
   "source": [
    "df.time.dt.day_of_week"
   ]
  },
  {
   "cell_type": "code",
   "execution_count": 125,
   "metadata": {},
   "outputs": [
    {
     "data": {
      "text/html": [
       "<div>\n",
       "<style scoped>\n",
       "    .dataframe tbody tr th:only-of-type {\n",
       "        vertical-align: middle;\n",
       "    }\n",
       "\n",
       "    .dataframe tbody tr th {\n",
       "        vertical-align: top;\n",
       "    }\n",
       "\n",
       "    .dataframe thead th {\n",
       "        text-align: right;\n",
       "    }\n",
       "</style>\n",
       "<table border=\"1\" class=\"dataframe\">\n",
       "  <thead>\n",
       "    <tr style=\"text-align: right;\">\n",
       "      <th></th>\n",
       "      <th>time</th>\n",
       "      <th>close</th>\n",
       "      <th>is_trading_hours</th>\n",
       "      <th>previous_day</th>\n",
       "      <th>previous_day_4pm</th>\n",
       "      <th>included_in_buy_track</th>\n",
       "    </tr>\n",
       "  </thead>\n",
       "  <tbody>\n",
       "    <tr>\n",
       "      <th>0</th>\n",
       "      <td>2019-05-01 04:00:00</td>\n",
       "      <td>16.9000</td>\n",
       "      <td>False</td>\n",
       "      <td>2019-04-30 04:00:00</td>\n",
       "      <td>2019-04-30 16:00:00</td>\n",
       "      <td>False</td>\n",
       "    </tr>\n",
       "    <tr>\n",
       "      <th>1</th>\n",
       "      <td>2019-05-01 04:05:00</td>\n",
       "      <td>16.9125</td>\n",
       "      <td>False</td>\n",
       "      <td>2019-04-30 04:05:00</td>\n",
       "      <td>2019-04-30 16:00:00</td>\n",
       "      <td>False</td>\n",
       "    </tr>\n",
       "    <tr>\n",
       "      <th>2</th>\n",
       "      <td>2019-05-01 04:10:00</td>\n",
       "      <td>16.9325</td>\n",
       "      <td>False</td>\n",
       "      <td>2019-04-30 04:10:00</td>\n",
       "      <td>2019-04-30 16:00:00</td>\n",
       "      <td>False</td>\n",
       "    </tr>\n",
       "    <tr>\n",
       "      <th>3</th>\n",
       "      <td>2019-05-01 04:20:00</td>\n",
       "      <td>16.9250</td>\n",
       "      <td>False</td>\n",
       "      <td>2019-04-30 04:20:00</td>\n",
       "      <td>2019-04-30 16:00:00</td>\n",
       "      <td>False</td>\n",
       "    </tr>\n",
       "    <tr>\n",
       "      <th>4</th>\n",
       "      <td>2019-05-01 04:25:00</td>\n",
       "      <td>16.9225</td>\n",
       "      <td>False</td>\n",
       "      <td>2019-04-30 04:25:00</td>\n",
       "      <td>2019-04-30 16:00:00</td>\n",
       "      <td>False</td>\n",
       "    </tr>\n",
       "    <tr>\n",
       "      <th>...</th>\n",
       "      <td>...</td>\n",
       "      <td>...</td>\n",
       "      <td>...</td>\n",
       "      <td>...</td>\n",
       "      <td>...</td>\n",
       "      <td>...</td>\n",
       "    </tr>\n",
       "    <tr>\n",
       "      <th>233904</th>\n",
       "      <td>2024-04-22 10:05:00</td>\n",
       "      <td>50.2350</td>\n",
       "      <td>True</td>\n",
       "      <td>2024-04-21 10:05:00</td>\n",
       "      <td>2024-04-21 16:00:00</td>\n",
       "      <td>False</td>\n",
       "    </tr>\n",
       "    <tr>\n",
       "      <th>233905</th>\n",
       "      <td>2024-04-22 10:10:00</td>\n",
       "      <td>50.2100</td>\n",
       "      <td>True</td>\n",
       "      <td>2024-04-21 10:10:00</td>\n",
       "      <td>2024-04-21 16:00:00</td>\n",
       "      <td>False</td>\n",
       "    </tr>\n",
       "    <tr>\n",
       "      <th>233906</th>\n",
       "      <td>2024-04-22 10:15:00</td>\n",
       "      <td>50.1275</td>\n",
       "      <td>True</td>\n",
       "      <td>2024-04-21 10:15:00</td>\n",
       "      <td>2024-04-21 16:00:00</td>\n",
       "      <td>False</td>\n",
       "    </tr>\n",
       "    <tr>\n",
       "      <th>233907</th>\n",
       "      <td>2024-04-22 10:20:00</td>\n",
       "      <td>49.7400</td>\n",
       "      <td>True</td>\n",
       "      <td>2024-04-21 10:20:00</td>\n",
       "      <td>2024-04-21 16:00:00</td>\n",
       "      <td>False</td>\n",
       "    </tr>\n",
       "    <tr>\n",
       "      <th>233908</th>\n",
       "      <td>2024-04-22 10:25:00</td>\n",
       "      <td>49.6800</td>\n",
       "      <td>True</td>\n",
       "      <td>2024-04-21 10:25:00</td>\n",
       "      <td>2024-04-21 16:00:00</td>\n",
       "      <td>False</td>\n",
       "    </tr>\n",
       "  </tbody>\n",
       "</table>\n",
       "<p>233909 rows × 6 columns</p>\n",
       "</div>"
      ],
      "text/plain": [
       "                      time    close  is_trading_hours        previous_day  \\\n",
       "0      2019-05-01 04:00:00  16.9000             False 2019-04-30 04:00:00   \n",
       "1      2019-05-01 04:05:00  16.9125             False 2019-04-30 04:05:00   \n",
       "2      2019-05-01 04:10:00  16.9325             False 2019-04-30 04:10:00   \n",
       "3      2019-05-01 04:20:00  16.9250             False 2019-04-30 04:20:00   \n",
       "4      2019-05-01 04:25:00  16.9225             False 2019-04-30 04:25:00   \n",
       "...                    ...      ...               ...                 ...   \n",
       "233904 2024-04-22 10:05:00  50.2350              True 2024-04-21 10:05:00   \n",
       "233905 2024-04-22 10:10:00  50.2100              True 2024-04-21 10:10:00   \n",
       "233906 2024-04-22 10:15:00  50.1275              True 2024-04-21 10:15:00   \n",
       "233907 2024-04-22 10:20:00  49.7400              True 2024-04-21 10:20:00   \n",
       "233908 2024-04-22 10:25:00  49.6800              True 2024-04-21 10:25:00   \n",
       "\n",
       "          previous_day_4pm  included_in_buy_track  \n",
       "0      2019-04-30 16:00:00                  False  \n",
       "1      2019-04-30 16:00:00                  False  \n",
       "2      2019-04-30 16:00:00                  False  \n",
       "3      2019-04-30 16:00:00                  False  \n",
       "4      2019-04-30 16:00:00                  False  \n",
       "...                    ...                    ...  \n",
       "233904 2024-04-21 16:00:00                  False  \n",
       "233905 2024-04-21 16:00:00                  False  \n",
       "233906 2024-04-21 16:00:00                  False  \n",
       "233907 2024-04-21 16:00:00                  False  \n",
       "233908 2024-04-21 16:00:00                  False  \n",
       "\n",
       "[233909 rows x 6 columns]"
      ]
     },
     "execution_count": 125,
     "metadata": {},
     "output_type": "execute_result"
    }
   ],
   "source": [
    "def barplot_2(tf_idf_df, number_of_words, number_of_words2):\n",
    "\n",
    "    fig = make_subplots(rows=1, cols=2)\n",
    "\n",
    "    fig.add_trace(go.Bar(x = rendered_dream['words'],\n",
    "                        y = rendered_dream['values'],\n",
    "                        name = f\"Dream {st.session_state['row_n']}\"),\n",
    "                        row = 1, col = 1)\n",
    "    \n",
    "    fig.add_trace(go.Bar(x = rendered_dream_2['words'],\n",
    "                        y = rendered_dream_2['values'],\n",
    "                        name = f\"Dream {st.session_state['row_n_2']}\"),\n",
    "                    row = 1, col = 2)         \n",
    "    \n",
    "    fig.update_layout(\n",
    "                        title=\"TF-IDF Side by Side Barplot\",\n",
    "                        xaxis_title=\"Words\",\n",
    "                        yaxis_title=\"TF-IDF Values\",\n",
    "                        legend_title=\"Dreams\"\n",
    "                        # font=dict(\n",
    "                        #     family=\"Courier New, monospace\",\n",
    "                        #     size=18,\n",
    "                        #     color=\"RebeccaPurple\"\n",
    "                        # )\n",
    "                    )\n",
    "        \n",
    "    st.plotly_chart(fig,theme=\"streamlit\", use_container_width=True)   "
   ]
  },
  {
   "cell_type": "code",
   "execution_count": 149,
   "metadata": {},
   "outputs": [
    {
     "ename": "ValueError",
     "evalue": "Invalid property specified for object of type plotly.graph_objs.Bar: 'title'\n\nDid you mean \"type\"?\n\n    Valid properties:\n        alignmentgroup\n            Set several traces linked to the same position axis or\n            matching axes to the same alignmentgroup. This controls\n            whether bars compute their positional range dependently\n            or independently.\n        base\n            Sets where the bar base is drawn (in position axis\n            units). In \"stack\" or \"relative\" barmode, traces that\n            set \"base\" will be excluded and drawn in \"overlay\" mode\n            instead.\n        basesrc\n            Sets the source reference on Chart Studio Cloud for\n            `base`.\n        cliponaxis\n            Determines whether the text nodes are clipped about the\n            subplot axes. To show the text nodes above axis lines\n            and tick labels, make sure to set `xaxis.layer` and\n            `yaxis.layer` to *below traces*.\n        constraintext\n            Constrain the size of text inside or outside a bar to\n            be no larger than the bar itself.\n        customdata\n            Assigns extra data each datum. This may be useful when\n            listening to hover, click and selection events. Note\n            that, \"scatter\" traces also appends customdata items in\n            the markers DOM elements\n        customdatasrc\n            Sets the source reference on Chart Studio Cloud for\n            `customdata`.\n        dx\n            Sets the x coordinate step. See `x0` for more info.\n        dy\n            Sets the y coordinate step. See `y0` for more info.\n        error_x\n            :class:`plotly.graph_objects.bar.ErrorX` instance or\n            dict with compatible properties\n        error_y\n            :class:`plotly.graph_objects.bar.ErrorY` instance or\n            dict with compatible properties\n        hoverinfo\n            Determines which trace information appear on hover. If\n            `none` or `skip` are set, no information is displayed\n            upon hovering. But, if `none` is set, click and hover\n            events are still fired.\n        hoverinfosrc\n            Sets the source reference on Chart Studio Cloud for\n            `hoverinfo`.\n        hoverlabel\n            :class:`plotly.graph_objects.bar.Hoverlabel` instance\n            or dict with compatible properties\n        hovertemplate\n            Template string used for rendering the information that\n            appear on hover box. Note that this will override\n            `hoverinfo`. Variables are inserted using %{variable},\n            for example \"y: %{y}\" as well as %{xother}, {%_xother},\n            {%_xother_}, {%xother_}. When showing info for several\n            points, \"xother\" will be added to those with different\n            x positions from the first point. An underscore before\n            or after \"(x|y)other\" will add a space on that side,\n            only when this field is shown. Numbers are formatted\n            using d3-format's syntax %{variable:d3-format}, for\n            example \"Price: %{y:$.2f}\".\n            https://github.com/d3/d3-format/tree/v1.4.5#d3-format\n            for details on the formatting syntax. Dates are\n            formatted using d3-time-format's syntax\n            %{variable|d3-time-format}, for example \"Day:\n            %{2019-01-01|%A}\". https://github.com/d3/d3-time-\n            format/tree/v2.2.3#locale_format for details on the\n            date formatting syntax. The variables available in\n            `hovertemplate` are the ones emitted as event data\n            described at this link\n            https://plotly.com/javascript/plotlyjs-events/#event-\n            data. Additionally, every attributes that can be\n            specified per-point (the ones that are `arrayOk: true`)\n            are available. variables `value` and `label`. Anything\n            contained in tag `<extra>` is displayed in the\n            secondary box, for example\n            \"<extra>{fullData.name}</extra>\". To hide the secondary\n            box completely, use an empty tag `<extra></extra>`.\n        hovertemplatesrc\n            Sets the source reference on Chart Studio Cloud for\n            `hovertemplate`.\n        hovertext\n            Sets hover text elements associated with each (x,y)\n            pair. If a single string, the same string appears over\n            all the data points. If an array of string, the items\n            are mapped in order to the this trace's (x,y)\n            coordinates. To be seen, trace `hoverinfo` must contain\n            a \"text\" flag.\n        hovertextsrc\n            Sets the source reference on Chart Studio Cloud for\n            `hovertext`.\n        ids\n            Assigns id labels to each datum. These ids for object\n            constancy of data points during animation. Should be an\n            array of strings, not numbers or any other type.\n        idssrc\n            Sets the source reference on Chart Studio Cloud for\n            `ids`.\n        insidetextanchor\n            Determines if texts are kept at center or start/end\n            points in `textposition` \"inside\" mode.\n        insidetextfont\n            Sets the font used for `text` lying inside the bar.\n        legendgroup\n            Sets the legend group for this trace. Traces part of\n            the same legend group hide/show at the same time when\n            toggling legend items.\n        legendgrouptitle\n            :class:`plotly.graph_objects.bar.Legendgrouptitle`\n            instance or dict with compatible properties\n        legendrank\n            Sets the legend rank for this trace. Items and groups\n            with smaller ranks are presented on top/left side while\n            with `*reversed* `legend.traceorder` they are on\n            bottom/right side. The default legendrank is 1000, so\n            that you can use ranks less than 1000 to place certain\n            items before all unranked items, and ranks greater than\n            1000 to go after all unranked items.\n        legendwidth\n            Sets the width (in px or fraction) of the legend for\n            this trace.\n        marker\n            :class:`plotly.graph_objects.bar.Marker` instance or\n            dict with compatible properties\n        meta\n            Assigns extra meta information associated with this\n            trace that can be used in various text attributes.\n            Attributes such as trace `name`, graph, axis and\n            colorbar `title.text`, annotation `text`\n            `rangeselector`, `updatemenues` and `sliders` `label`\n            text all support `meta`. To access the trace `meta`\n            values in an attribute in the same trace, simply use\n            `%{meta[i]}` where `i` is the index or key of the\n            `meta` item in question. To access trace `meta` in\n            layout attributes, use `%{data[n[.meta[i]}` where `i`\n            is the index or key of the `meta` and `n` is the trace\n            index.\n        metasrc\n            Sets the source reference on Chart Studio Cloud for\n            `meta`.\n        name\n            Sets the trace name. The trace name appear as the\n            legend item and on hover.\n        offset\n            Shifts the position where the bar is drawn (in position\n            axis units). In \"group\" barmode, traces that set\n            \"offset\" will be excluded and drawn in \"overlay\" mode\n            instead.\n        offsetgroup\n            Set several traces linked to the same position axis or\n            matching axes to the same offsetgroup where bars of the\n            same position coordinate will line up.\n        offsetsrc\n            Sets the source reference on Chart Studio Cloud for\n            `offset`.\n        opacity\n            Sets the opacity of the trace.\n        orientation\n            Sets the orientation of the bars. With \"v\" (\"h\"), the\n            value of the each bar spans along the vertical\n            (horizontal).\n        outsidetextfont\n            Sets the font used for `text` lying outside the bar.\n        selected\n            :class:`plotly.graph_objects.bar.Selected` instance or\n            dict with compatible properties\n        selectedpoints\n            Array containing integer indices of selected points.\n            Has an effect only for traces that support selections.\n            Note that an empty array means an empty selection where\n            the `unselected` are turned on for all points, whereas,\n            any other non-array values means no selection all where\n            the `selected` and `unselected` styles have no effect.\n        showlegend\n            Determines whether or not an item corresponding to this\n            trace is shown in the legend.\n        stream\n            :class:`plotly.graph_objects.bar.Stream` instance or\n            dict with compatible properties\n        text\n            Sets text elements associated with each (x,y) pair. If\n            a single string, the same string appears over all the\n            data points. If an array of string, the items are\n            mapped in order to the this trace's (x,y) coordinates.\n            If trace `hoverinfo` contains a \"text\" flag and\n            \"hovertext\" is not set, these elements will be seen in\n            the hover labels.\n        textangle\n            Sets the angle of the tick labels with respect to the\n            bar. For example, a `tickangle` of -90 draws the tick\n            labels vertically. With \"auto\" the texts may\n            automatically be rotated to fit with the maximum size\n            in bars.\n        textfont\n            Sets the font used for `text`.\n        textposition\n            Specifies the location of the `text`. \"inside\"\n            positions `text` inside, next to the bar end (rotated\n            and scaled if needed). \"outside\" positions `text`\n            outside, next to the bar end (scaled if needed), unless\n            there is another bar stacked on this one, then the text\n            gets pushed inside. \"auto\" tries to position `text`\n            inside the bar, but if the bar is too small and no bar\n            is stacked on this one the text is moved outside. If\n            \"none\", no text appears.\n        textpositionsrc\n            Sets the source reference on Chart Studio Cloud for\n            `textposition`.\n        textsrc\n            Sets the source reference on Chart Studio Cloud for\n            `text`.\n        texttemplate\n            Template string used for rendering the information text\n            that appear on points. Note that this will override\n            `textinfo`. Variables are inserted using %{variable},\n            for example \"y: %{y}\". Numbers are formatted using\n            d3-format's syntax %{variable:d3-format}, for example\n            \"Price: %{y:$.2f}\".\n            https://github.com/d3/d3-format/tree/v1.4.5#d3-format\n            for details on the formatting syntax. Dates are\n            formatted using d3-time-format's syntax\n            %{variable|d3-time-format}, for example \"Day:\n            %{2019-01-01|%A}\". https://github.com/d3/d3-time-\n            format/tree/v2.2.3#locale_format for details on the\n            date formatting syntax. Every attributes that can be\n            specified per-point (the ones that are `arrayOk: true`)\n            are available. variables `value` and `label`.\n        texttemplatesrc\n            Sets the source reference on Chart Studio Cloud for\n            `texttemplate`.\n        uid\n            Assign an id to this trace, Use this to provide object\n            constancy between traces during animations and\n            transitions.\n        uirevision\n            Controls persistence of some user-driven changes to the\n            trace: `constraintrange` in `parcoords` traces, as well\n            as some `editable: true` modifications such as `name`\n            and `colorbar.title`. Defaults to `layout.uirevision`.\n            Note that other user-driven trace attribute changes are\n            controlled by `layout` attributes: `trace.visible` is\n            controlled by `layout.legend.uirevision`,\n            `selectedpoints` is controlled by\n            `layout.selectionrevision`, and `colorbar.(x|y)`\n            (accessible with `config: {editable: true}`) is\n            controlled by `layout.editrevision`. Trace changes are\n            tracked by `uid`, which only falls back on trace index\n            if no `uid` is provided. So if your app can add/remove\n            traces before the end of the `data` array, such that\n            the same trace has a different index, you can still\n            preserve user-driven changes if you give each trace a\n            `uid` that stays with it as it moves.\n        unselected\n            :class:`plotly.graph_objects.bar.Unselected` instance\n            or dict with compatible properties\n        visible\n            Determines whether or not this trace is visible. If\n            \"legendonly\", the trace is not drawn, but can appear as\n            a legend item (provided that the legend itself is\n            visible).\n        width\n            Sets the bar width (in position axis units).\n        widthsrc\n            Sets the source reference on Chart Studio Cloud for\n            `width`.\n        x\n            Sets the x coordinates.\n        x0\n            Alternate to `x`. Builds a linear space of x\n            coordinates. Use with `dx` where `x0` is the starting\n            coordinate and `dx` the step.\n        xaxis\n            Sets a reference between this trace's x coordinates and\n            a 2D cartesian x axis. If \"x\" (the default value), the\n            x coordinates refer to `layout.xaxis`. If \"x2\", the x\n            coordinates refer to `layout.xaxis2`, and so on.\n        xcalendar\n            Sets the calendar system to use with `x` date data.\n        xhoverformat\n            Sets the hover text formatting rulefor `x`  using d3\n            formatting mini-languages which are very similar to\n            those in Python. For numbers, see:\n            https://github.com/d3/d3-format/tree/v1.4.5#d3-format.\n            And for dates see: https://github.com/d3/d3-time-\n            format/tree/v2.2.3#locale_format. We add two items to\n            d3's date formatter: \"%h\" for half of the year as a\n            decimal number as well as \"%{n}f\" for fractional\n            seconds with n digits. For example, *2016-10-13\n            09:15:23.456* with tickformat \"%H~%M~%S.%2f\" would\n            display *09~15~23.46*By default the values are\n            formatted using `xaxis.hoverformat`.\n        xperiod\n            Only relevant when the axis `type` is \"date\". Sets the\n            period positioning in milliseconds or \"M<n>\" on the x\n            axis. Special values in the form of \"M<n>\" could be\n            used to declare the number of months. In this case `n`\n            must be a positive integer.\n        xperiod0\n            Only relevant when the axis `type` is \"date\". Sets the\n            base for period positioning in milliseconds or date\n            string on the x0 axis. When `x0period` is round number\n            of weeks, the `x0period0` by default would be on a\n            Sunday i.e. 2000-01-02, otherwise it would be at\n            2000-01-01.\n        xperiodalignment\n            Only relevant when the axis `type` is \"date\". Sets the\n            alignment of data points on the x axis.\n        xsrc\n            Sets the source reference on Chart Studio Cloud for\n            `x`.\n        y\n            Sets the y coordinates.\n        y0\n            Alternate to `y`. Builds a linear space of y\n            coordinates. Use with `dy` where `y0` is the starting\n            coordinate and `dy` the step.\n        yaxis\n            Sets a reference between this trace's y coordinates and\n            a 2D cartesian y axis. If \"y\" (the default value), the\n            y coordinates refer to `layout.yaxis`. If \"y2\", the y\n            coordinates refer to `layout.yaxis2`, and so on.\n        ycalendar\n            Sets the calendar system to use with `y` date data.\n        yhoverformat\n            Sets the hover text formatting rulefor `y`  using d3\n            formatting mini-languages which are very similar to\n            those in Python. For numbers, see:\n            https://github.com/d3/d3-format/tree/v1.4.5#d3-format.\n            And for dates see: https://github.com/d3/d3-time-\n            format/tree/v2.2.3#locale_format. We add two items to\n            d3's date formatter: \"%h\" for half of the year as a\n            decimal number as well as \"%{n}f\" for fractional\n            seconds with n digits. For example, *2016-10-13\n            09:15:23.456* with tickformat \"%H~%M~%S.%2f\" would\n            display *09~15~23.46*By default the values are\n            formatted using `yaxis.hoverformat`.\n        yperiod\n            Only relevant when the axis `type` is \"date\". Sets the\n            period positioning in milliseconds or \"M<n>\" on the y\n            axis. Special values in the form of \"M<n>\" could be\n            used to declare the number of months. In this case `n`\n            must be a positive integer.\n        yperiod0\n            Only relevant when the axis `type` is \"date\". Sets the\n            base for period positioning in milliseconds or date\n            string on the y0 axis. When `y0period` is round number\n            of weeks, the `y0period0` by default would be on a\n            Sunday i.e. 2000-01-02, otherwise it would be at\n            2000-01-01.\n        yperiodalignment\n            Only relevant when the axis `type` is \"date\". Sets the\n            alignment of data points on the y axis.\n        ysrc\n            Sets the source reference on Chart Studio Cloud for\n            `y`.\n        \nDid you mean \"type\"?\n\nBad property path:\ntitle\n^^^^^",
     "output_type": "error",
     "traceback": [
      "\u001b[0;31m---------------------------------------------------------------------------\u001b[0m",
      "\u001b[0;31mValueError\u001b[0m                                Traceback (most recent call last)",
      "Input \u001b[0;32mIn [149]\u001b[0m, in \u001b[0;36m<cell line: 7>\u001b[0;34m()\u001b[0m\n\u001b[1;32m      5\u001b[0m fig \u001b[38;5;241m=\u001b[39m make_subplots(rows\u001b[38;5;241m=\u001b[39m\u001b[38;5;241m1\u001b[39m, cols\u001b[38;5;241m=\u001b[39m\u001b[38;5;241m2\u001b[39m)\n\u001b[1;32m      7\u001b[0m \u001b[38;5;28;01mfor\u001b[39;00m i, day \u001b[38;5;129;01min\u001b[39;00m \u001b[38;5;28menumerate\u001b[39m(data[\u001b[38;5;124m'\u001b[39m\u001b[38;5;124mTrade Days\u001b[39m\u001b[38;5;124m'\u001b[39m]):\n\u001b[0;32m----> 8\u001b[0m     fig\u001b[38;5;241m.\u001b[39madd_trace(\u001b[43mgo\u001b[49m\u001b[38;5;241;43m.\u001b[39;49m\u001b[43mBar\u001b[49m\u001b[43m(\u001b[49m\u001b[43mx\u001b[49m\u001b[38;5;241;43m=\u001b[39;49m\u001b[43m[\u001b[49m\u001b[43mday\u001b[49m\u001b[43m]\u001b[49m\u001b[43m,\u001b[49m\n\u001b[1;32m      9\u001b[0m \u001b[43m                         \u001b[49m\u001b[43my\u001b[49m\u001b[38;5;241;43m=\u001b[39;49m\u001b[43m[\u001b[49m\u001b[43mdata\u001b[49m\u001b[43m[\u001b[49m\u001b[38;5;124;43m'\u001b[39;49m\u001b[38;5;124;43mpct\u001b[39;49m\u001b[38;5;124;43m'\u001b[39;49m\u001b[43m]\u001b[49m\u001b[43m[\u001b[49m\u001b[43mi\u001b[49m\u001b[43m]\u001b[49m\u001b[43m]\u001b[49m\u001b[43m,\u001b[49m\n\u001b[1;32m     10\u001b[0m \u001b[43m                         \u001b[49m\u001b[43mname\u001b[49m\u001b[38;5;241;43m=\u001b[39;49m\u001b[38;5;28;43mstr\u001b[39;49m\u001b[43m(\u001b[49m\u001b[43mday\u001b[49m\u001b[43m)\u001b[49m\u001b[43m \u001b[49m\u001b[38;5;241;43m+\u001b[39;49m\u001b[43m \u001b[49m\u001b[38;5;124;43m\"\u001b[39;49m\u001b[38;5;124;43m Days\u001b[39;49m\u001b[38;5;124;43m\"\u001b[39;49m\u001b[43m,\u001b[49m\n\u001b[1;32m     11\u001b[0m \u001b[43m                         \u001b[49m\u001b[43mmarker_color\u001b[49m\u001b[38;5;241;43m=\u001b[39;49m\u001b[43mcolor_scale\u001b[49m\u001b[43m[\u001b[49m\u001b[43mi\u001b[49m\u001b[43m \u001b[49m\u001b[38;5;241;43m%\u001b[39;49m\u001b[43m \u001b[49m\u001b[38;5;28;43mlen\u001b[39;49m\u001b[43m(\u001b[49m\u001b[43mcolor_scale\u001b[49m\u001b[43m)\u001b[49m\u001b[43m]\u001b[49m\u001b[43m,\u001b[49m\n\u001b[1;32m     12\u001b[0m \u001b[43m                         \u001b[49m\u001b[43mhovertext\u001b[49m\u001b[38;5;241;43m=\u001b[39;49m\u001b[43m[\u001b[49m\u001b[43mdata\u001b[49m\u001b[43m[\u001b[49m\u001b[38;5;124;43m'\u001b[39;49m\u001b[38;5;124;43myears\u001b[39;49m\u001b[38;5;124;43m'\u001b[39;49m\u001b[43m]\u001b[49m\u001b[43m[\u001b[49m\u001b[43mi\u001b[49m\u001b[43m]\u001b[49m\u001b[43m,\u001b[49m\u001b[43mdata\u001b[49m\u001b[43m[\u001b[49m\u001b[38;5;124;43m'\u001b[39;49m\u001b[38;5;124;43mCount\u001b[39;49m\u001b[38;5;124;43m'\u001b[39;49m\u001b[43m]\u001b[49m\u001b[43m[\u001b[49m\u001b[43mi\u001b[49m\u001b[43m]\u001b[49m\u001b[43m]\u001b[49m\u001b[43m,\u001b[49m\n\u001b[1;32m     13\u001b[0m \u001b[43m                         \u001b[49m\u001b[43morientation\u001b[49m\u001b[38;5;241;43m=\u001b[39;49m\u001b[38;5;124;43m'\u001b[39;49m\u001b[38;5;124;43mv\u001b[39;49m\u001b[38;5;124;43m'\u001b[39;49m\u001b[43m,\u001b[49m\n\u001b[1;32m     14\u001b[0m \u001b[43m                         \u001b[49m\u001b[43mtitle\u001b[49m\u001b[43m \u001b[49m\u001b[38;5;241;43m=\u001b[39;49m\u001b[43m \u001b[49m\u001b[38;5;124;43m\"\u001b[39;49m\u001b[38;5;124;43mxxxxxx\u001b[39;49m\u001b[38;5;124;43m\"\u001b[39;49m\u001b[43m)\u001b[49m,\n\u001b[1;32m     15\u001b[0m                   row\u001b[38;5;241m=\u001b[39m\u001b[38;5;241m1\u001b[39m, col\u001b[38;5;241m=\u001b[39m\u001b[38;5;241m1\u001b[39m)\n\u001b[1;32m     18\u001b[0m fig\u001b[38;5;241m.\u001b[39mupdate_layout(barmode\u001b[38;5;241m=\u001b[39m\u001b[38;5;124m'\u001b[39m\u001b[38;5;124mgroup\u001b[39m\u001b[38;5;124m'\u001b[39m,  \u001b[38;5;66;03m# Moved barmode to layout update\u001b[39;00m\n\u001b[1;32m     19\u001b[0m                   title\u001b[38;5;241m=\u001b[39m\u001b[38;5;124mf\u001b[39m\u001b[38;5;124m'\u001b[39m\u001b[38;5;124mOverall Statistics pct)\u001b[39m\u001b[38;5;124m'\u001b[39m)\n\u001b[1;32m     21\u001b[0m fig\u001b[38;5;241m.\u001b[39mupdate_layout(\n\u001b[1;32m     22\u001b[0m                     title\u001b[38;5;241m=\u001b[39m\u001b[38;5;124m\"\u001b[39m\u001b[38;5;124mTF-IDF Side by Side Barplot\u001b[39m\u001b[38;5;124m\"\u001b[39m,\n\u001b[1;32m     23\u001b[0m                     xaxis_title\u001b[38;5;241m=\u001b[39m\u001b[38;5;124m\"\u001b[39m\u001b[38;5;124mWords\u001b[39m\u001b[38;5;124m\"\u001b[39m,\n\u001b[0;32m   (...)\u001b[0m\n\u001b[1;32m     30\u001b[0m                     \u001b[38;5;66;03m# )\u001b[39;00m\n\u001b[1;32m     31\u001b[0m                 )\n",
      "File \u001b[0;32m~/opt/anaconda3/envs/ANLY501/lib/python3.10/site-packages/plotly/graph_objs/_bar.py:3285\u001b[0m, in \u001b[0;36mBar.__init__\u001b[0;34m(self, arg, alignmentgroup, base, basesrc, cliponaxis, constraintext, customdata, customdatasrc, dx, dy, error_x, error_y, hoverinfo, hoverinfosrc, hoverlabel, hovertemplate, hovertemplatesrc, hovertext, hovertextsrc, ids, idssrc, insidetextanchor, insidetextfont, legendgroup, legendgrouptitle, legendrank, legendwidth, marker, meta, metasrc, name, offset, offsetgroup, offsetsrc, opacity, orientation, outsidetextfont, selected, selectedpoints, showlegend, stream, text, textangle, textfont, textposition, textpositionsrc, textsrc, texttemplate, texttemplatesrc, uid, uirevision, unselected, visible, width, widthsrc, x, x0, xaxis, xcalendar, xhoverformat, xperiod, xperiod0, xperiodalignment, xsrc, y, y0, yaxis, ycalendar, yhoverformat, yperiod, yperiod0, yperiodalignment, ysrc, **kwargs)\u001b[0m\n\u001b[1;32m   3281\u001b[0m arg\u001b[38;5;241m.\u001b[39mpop(\u001b[38;5;124m\"\u001b[39m\u001b[38;5;124mtype\u001b[39m\u001b[38;5;124m\"\u001b[39m, \u001b[38;5;28;01mNone\u001b[39;00m)\n\u001b[1;32m   3283\u001b[0m \u001b[38;5;66;03m# Process unknown kwargs\u001b[39;00m\n\u001b[1;32m   3284\u001b[0m \u001b[38;5;66;03m# ----------------------\u001b[39;00m\n\u001b[0;32m-> 3285\u001b[0m \u001b[38;5;28;43mself\u001b[39;49m\u001b[38;5;241;43m.\u001b[39;49m\u001b[43m_process_kwargs\u001b[49m\u001b[43m(\u001b[49m\u001b[38;5;241;43m*\u001b[39;49m\u001b[38;5;241;43m*\u001b[39;49m\u001b[38;5;28;43mdict\u001b[39;49m\u001b[43m(\u001b[49m\u001b[43marg\u001b[49m\u001b[43m,\u001b[49m\u001b[43m \u001b[49m\u001b[38;5;241;43m*\u001b[39;49m\u001b[38;5;241;43m*\u001b[39;49m\u001b[43mkwargs\u001b[49m\u001b[43m)\u001b[49m\u001b[43m)\u001b[49m\n\u001b[1;32m   3287\u001b[0m \u001b[38;5;66;03m# Reset skip_invalid\u001b[39;00m\n\u001b[1;32m   3288\u001b[0m \u001b[38;5;66;03m# ------------------\u001b[39;00m\n\u001b[1;32m   3289\u001b[0m \u001b[38;5;28mself\u001b[39m\u001b[38;5;241m.\u001b[39m_skip_invalid \u001b[38;5;241m=\u001b[39m \u001b[38;5;28;01mFalse\u001b[39;00m\n",
      "File \u001b[0;32m~/opt/anaconda3/envs/ANLY501/lib/python3.10/site-packages/plotly/basedatatypes.py:4368\u001b[0m, in \u001b[0;36mBasePlotlyType._process_kwargs\u001b[0;34m(self, **kwargs)\u001b[0m\n\u001b[1;32m   4366\u001b[0m     \u001b[38;5;28mself\u001b[39m[k] \u001b[38;5;241m=\u001b[39m v\n\u001b[1;32m   4367\u001b[0m \u001b[38;5;28;01melif\u001b[39;00m \u001b[38;5;129;01mnot\u001b[39;00m \u001b[38;5;28mself\u001b[39m\u001b[38;5;241m.\u001b[39m_skip_invalid:\n\u001b[0;32m-> 4368\u001b[0m     \u001b[38;5;28;01mraise\u001b[39;00m err\n",
      "\u001b[0;31mValueError\u001b[0m: Invalid property specified for object of type plotly.graph_objs.Bar: 'title'\n\nDid you mean \"type\"?\n\n    Valid properties:\n        alignmentgroup\n            Set several traces linked to the same position axis or\n            matching axes to the same alignmentgroup. This controls\n            whether bars compute their positional range dependently\n            or independently.\n        base\n            Sets where the bar base is drawn (in position axis\n            units). In \"stack\" or \"relative\" barmode, traces that\n            set \"base\" will be excluded and drawn in \"overlay\" mode\n            instead.\n        basesrc\n            Sets the source reference on Chart Studio Cloud for\n            `base`.\n        cliponaxis\n            Determines whether the text nodes are clipped about the\n            subplot axes. To show the text nodes above axis lines\n            and tick labels, make sure to set `xaxis.layer` and\n            `yaxis.layer` to *below traces*.\n        constraintext\n            Constrain the size of text inside or outside a bar to\n            be no larger than the bar itself.\n        customdata\n            Assigns extra data each datum. This may be useful when\n            listening to hover, click and selection events. Note\n            that, \"scatter\" traces also appends customdata items in\n            the markers DOM elements\n        customdatasrc\n            Sets the source reference on Chart Studio Cloud for\n            `customdata`.\n        dx\n            Sets the x coordinate step. See `x0` for more info.\n        dy\n            Sets the y coordinate step. See `y0` for more info.\n        error_x\n            :class:`plotly.graph_objects.bar.ErrorX` instance or\n            dict with compatible properties\n        error_y\n            :class:`plotly.graph_objects.bar.ErrorY` instance or\n            dict with compatible properties\n        hoverinfo\n            Determines which trace information appear on hover. If\n            `none` or `skip` are set, no information is displayed\n            upon hovering. But, if `none` is set, click and hover\n            events are still fired.\n        hoverinfosrc\n            Sets the source reference on Chart Studio Cloud for\n            `hoverinfo`.\n        hoverlabel\n            :class:`plotly.graph_objects.bar.Hoverlabel` instance\n            or dict with compatible properties\n        hovertemplate\n            Template string used for rendering the information that\n            appear on hover box. Note that this will override\n            `hoverinfo`. Variables are inserted using %{variable},\n            for example \"y: %{y}\" as well as %{xother}, {%_xother},\n            {%_xother_}, {%xother_}. When showing info for several\n            points, \"xother\" will be added to those with different\n            x positions from the first point. An underscore before\n            or after \"(x|y)other\" will add a space on that side,\n            only when this field is shown. Numbers are formatted\n            using d3-format's syntax %{variable:d3-format}, for\n            example \"Price: %{y:$.2f}\".\n            https://github.com/d3/d3-format/tree/v1.4.5#d3-format\n            for details on the formatting syntax. Dates are\n            formatted using d3-time-format's syntax\n            %{variable|d3-time-format}, for example \"Day:\n            %{2019-01-01|%A}\". https://github.com/d3/d3-time-\n            format/tree/v2.2.3#locale_format for details on the\n            date formatting syntax. The variables available in\n            `hovertemplate` are the ones emitted as event data\n            described at this link\n            https://plotly.com/javascript/plotlyjs-events/#event-\n            data. Additionally, every attributes that can be\n            specified per-point (the ones that are `arrayOk: true`)\n            are available. variables `value` and `label`. Anything\n            contained in tag `<extra>` is displayed in the\n            secondary box, for example\n            \"<extra>{fullData.name}</extra>\". To hide the secondary\n            box completely, use an empty tag `<extra></extra>`.\n        hovertemplatesrc\n            Sets the source reference on Chart Studio Cloud for\n            `hovertemplate`.\n        hovertext\n            Sets hover text elements associated with each (x,y)\n            pair. If a single string, the same string appears over\n            all the data points. If an array of string, the items\n            are mapped in order to the this trace's (x,y)\n            coordinates. To be seen, trace `hoverinfo` must contain\n            a \"text\" flag.\n        hovertextsrc\n            Sets the source reference on Chart Studio Cloud for\n            `hovertext`.\n        ids\n            Assigns id labels to each datum. These ids for object\n            constancy of data points during animation. Should be an\n            array of strings, not numbers or any other type.\n        idssrc\n            Sets the source reference on Chart Studio Cloud for\n            `ids`.\n        insidetextanchor\n            Determines if texts are kept at center or start/end\n            points in `textposition` \"inside\" mode.\n        insidetextfont\n            Sets the font used for `text` lying inside the bar.\n        legendgroup\n            Sets the legend group for this trace. Traces part of\n            the same legend group hide/show at the same time when\n            toggling legend items.\n        legendgrouptitle\n            :class:`plotly.graph_objects.bar.Legendgrouptitle`\n            instance or dict with compatible properties\n        legendrank\n            Sets the legend rank for this trace. Items and groups\n            with smaller ranks are presented on top/left side while\n            with `*reversed* `legend.traceorder` they are on\n            bottom/right side. The default legendrank is 1000, so\n            that you can use ranks less than 1000 to place certain\n            items before all unranked items, and ranks greater than\n            1000 to go after all unranked items.\n        legendwidth\n            Sets the width (in px or fraction) of the legend for\n            this trace.\n        marker\n            :class:`plotly.graph_objects.bar.Marker` instance or\n            dict with compatible properties\n        meta\n            Assigns extra meta information associated with this\n            trace that can be used in various text attributes.\n            Attributes such as trace `name`, graph, axis and\n            colorbar `title.text`, annotation `text`\n            `rangeselector`, `updatemenues` and `sliders` `label`\n            text all support `meta`. To access the trace `meta`\n            values in an attribute in the same trace, simply use\n            `%{meta[i]}` where `i` is the index or key of the\n            `meta` item in question. To access trace `meta` in\n            layout attributes, use `%{data[n[.meta[i]}` where `i`\n            is the index or key of the `meta` and `n` is the trace\n            index.\n        metasrc\n            Sets the source reference on Chart Studio Cloud for\n            `meta`.\n        name\n            Sets the trace name. The trace name appear as the\n            legend item and on hover.\n        offset\n            Shifts the position where the bar is drawn (in position\n            axis units). In \"group\" barmode, traces that set\n            \"offset\" will be excluded and drawn in \"overlay\" mode\n            instead.\n        offsetgroup\n            Set several traces linked to the same position axis or\n            matching axes to the same offsetgroup where bars of the\n            same position coordinate will line up.\n        offsetsrc\n            Sets the source reference on Chart Studio Cloud for\n            `offset`.\n        opacity\n            Sets the opacity of the trace.\n        orientation\n            Sets the orientation of the bars. With \"v\" (\"h\"), the\n            value of the each bar spans along the vertical\n            (horizontal).\n        outsidetextfont\n            Sets the font used for `text` lying outside the bar.\n        selected\n            :class:`plotly.graph_objects.bar.Selected` instance or\n            dict with compatible properties\n        selectedpoints\n            Array containing integer indices of selected points.\n            Has an effect only for traces that support selections.\n            Note that an empty array means an empty selection where\n            the `unselected` are turned on for all points, whereas,\n            any other non-array values means no selection all where\n            the `selected` and `unselected` styles have no effect.\n        showlegend\n            Determines whether or not an item corresponding to this\n            trace is shown in the legend.\n        stream\n            :class:`plotly.graph_objects.bar.Stream` instance or\n            dict with compatible properties\n        text\n            Sets text elements associated with each (x,y) pair. If\n            a single string, the same string appears over all the\n            data points. If an array of string, the items are\n            mapped in order to the this trace's (x,y) coordinates.\n            If trace `hoverinfo` contains a \"text\" flag and\n            \"hovertext\" is not set, these elements will be seen in\n            the hover labels.\n        textangle\n            Sets the angle of the tick labels with respect to the\n            bar. For example, a `tickangle` of -90 draws the tick\n            labels vertically. With \"auto\" the texts may\n            automatically be rotated to fit with the maximum size\n            in bars.\n        textfont\n            Sets the font used for `text`.\n        textposition\n            Specifies the location of the `text`. \"inside\"\n            positions `text` inside, next to the bar end (rotated\n            and scaled if needed). \"outside\" positions `text`\n            outside, next to the bar end (scaled if needed), unless\n            there is another bar stacked on this one, then the text\n            gets pushed inside. \"auto\" tries to position `text`\n            inside the bar, but if the bar is too small and no bar\n            is stacked on this one the text is moved outside. If\n            \"none\", no text appears.\n        textpositionsrc\n            Sets the source reference on Chart Studio Cloud for\n            `textposition`.\n        textsrc\n            Sets the source reference on Chart Studio Cloud for\n            `text`.\n        texttemplate\n            Template string used for rendering the information text\n            that appear on points. Note that this will override\n            `textinfo`. Variables are inserted using %{variable},\n            for example \"y: %{y}\". Numbers are formatted using\n            d3-format's syntax %{variable:d3-format}, for example\n            \"Price: %{y:$.2f}\".\n            https://github.com/d3/d3-format/tree/v1.4.5#d3-format\n            for details on the formatting syntax. Dates are\n            formatted using d3-time-format's syntax\n            %{variable|d3-time-format}, for example \"Day:\n            %{2019-01-01|%A}\". https://github.com/d3/d3-time-\n            format/tree/v2.2.3#locale_format for details on the\n            date formatting syntax. Every attributes that can be\n            specified per-point (the ones that are `arrayOk: true`)\n            are available. variables `value` and `label`.\n        texttemplatesrc\n            Sets the source reference on Chart Studio Cloud for\n            `texttemplate`.\n        uid\n            Assign an id to this trace, Use this to provide object\n            constancy between traces during animations and\n            transitions.\n        uirevision\n            Controls persistence of some user-driven changes to the\n            trace: `constraintrange` in `parcoords` traces, as well\n            as some `editable: true` modifications such as `name`\n            and `colorbar.title`. Defaults to `layout.uirevision`.\n            Note that other user-driven trace attribute changes are\n            controlled by `layout` attributes: `trace.visible` is\n            controlled by `layout.legend.uirevision`,\n            `selectedpoints` is controlled by\n            `layout.selectionrevision`, and `colorbar.(x|y)`\n            (accessible with `config: {editable: true}`) is\n            controlled by `layout.editrevision`. Trace changes are\n            tracked by `uid`, which only falls back on trace index\n            if no `uid` is provided. So if your app can add/remove\n            traces before the end of the `data` array, such that\n            the same trace has a different index, you can still\n            preserve user-driven changes if you give each trace a\n            `uid` that stays with it as it moves.\n        unselected\n            :class:`plotly.graph_objects.bar.Unselected` instance\n            or dict with compatible properties\n        visible\n            Determines whether or not this trace is visible. If\n            \"legendonly\", the trace is not drawn, but can appear as\n            a legend item (provided that the legend itself is\n            visible).\n        width\n            Sets the bar width (in position axis units).\n        widthsrc\n            Sets the source reference on Chart Studio Cloud for\n            `width`.\n        x\n            Sets the x coordinates.\n        x0\n            Alternate to `x`. Builds a linear space of x\n            coordinates. Use with `dx` where `x0` is the starting\n            coordinate and `dx` the step.\n        xaxis\n            Sets a reference between this trace's x coordinates and\n            a 2D cartesian x axis. If \"x\" (the default value), the\n            x coordinates refer to `layout.xaxis`. If \"x2\", the x\n            coordinates refer to `layout.xaxis2`, and so on.\n        xcalendar\n            Sets the calendar system to use with `x` date data.\n        xhoverformat\n            Sets the hover text formatting rulefor `x`  using d3\n            formatting mini-languages which are very similar to\n            those in Python. For numbers, see:\n            https://github.com/d3/d3-format/tree/v1.4.5#d3-format.\n            And for dates see: https://github.com/d3/d3-time-\n            format/tree/v2.2.3#locale_format. We add two items to\n            d3's date formatter: \"%h\" for half of the year as a\n            decimal number as well as \"%{n}f\" for fractional\n            seconds with n digits. For example, *2016-10-13\n            09:15:23.456* with tickformat \"%H~%M~%S.%2f\" would\n            display *09~15~23.46*By default the values are\n            formatted using `xaxis.hoverformat`.\n        xperiod\n            Only relevant when the axis `type` is \"date\". Sets the\n            period positioning in milliseconds or \"M<n>\" on the x\n            axis. Special values in the form of \"M<n>\" could be\n            used to declare the number of months. In this case `n`\n            must be a positive integer.\n        xperiod0\n            Only relevant when the axis `type` is \"date\". Sets the\n            base for period positioning in milliseconds or date\n            string on the x0 axis. When `x0period` is round number\n            of weeks, the `x0period0` by default would be on a\n            Sunday i.e. 2000-01-02, otherwise it would be at\n            2000-01-01.\n        xperiodalignment\n            Only relevant when the axis `type` is \"date\". Sets the\n            alignment of data points on the x axis.\n        xsrc\n            Sets the source reference on Chart Studio Cloud for\n            `x`.\n        y\n            Sets the y coordinates.\n        y0\n            Alternate to `y`. Builds a linear space of y\n            coordinates. Use with `dy` where `y0` is the starting\n            coordinate and `dy` the step.\n        yaxis\n            Sets a reference between this trace's y coordinates and\n            a 2D cartesian y axis. If \"y\" (the default value), the\n            y coordinates refer to `layout.yaxis`. If \"y2\", the y\n            coordinates refer to `layout.yaxis2`, and so on.\n        ycalendar\n            Sets the calendar system to use with `y` date data.\n        yhoverformat\n            Sets the hover text formatting rulefor `y`  using d3\n            formatting mini-languages which are very similar to\n            those in Python. For numbers, see:\n            https://github.com/d3/d3-format/tree/v1.4.5#d3-format.\n            And for dates see: https://github.com/d3/d3-time-\n            format/tree/v2.2.3#locale_format. We add two items to\n            d3's date formatter: \"%h\" for half of the year as a\n            decimal number as well as \"%{n}f\" for fractional\n            seconds with n digits. For example, *2016-10-13\n            09:15:23.456* with tickformat \"%H~%M~%S.%2f\" would\n            display *09~15~23.46*By default the values are\n            formatted using `yaxis.hoverformat`.\n        yperiod\n            Only relevant when the axis `type` is \"date\". Sets the\n            period positioning in milliseconds or \"M<n>\" on the y\n            axis. Special values in the form of \"M<n>\" could be\n            used to declare the number of months. In this case `n`\n            must be a positive integer.\n        yperiod0\n            Only relevant when the axis `type` is \"date\". Sets the\n            base for period positioning in milliseconds or date\n            string on the y0 axis. When `y0period` is round number\n            of weeks, the `y0period0` by default would be on a\n            Sunday i.e. 2000-01-02, otherwise it would be at\n            2000-01-01.\n        yperiodalignment\n            Only relevant when the axis `type` is \"date\". Sets the\n            alignment of data points on the y axis.\n        ysrc\n            Sets the source reference on Chart Studio Cloud for\n            `y`.\n        \nDid you mean \"type\"?\n\nBad property path:\ntitle\n^^^^^"
     ]
    }
   ],
   "source": [
    "import plotly.graph_objects as go\n",
    "from plotly.subplots import make_subplots\n",
    "color_scale = ['#FF5733', '#33FF57', '#3366FF', '#FF33DD', '#FFFF33'] \n",
    "\n",
    "fig = make_subplots(rows=1, cols=2)\n",
    "\n",
    "for i, day in enumerate(data['Trade Days']):\n",
    "    fig.add_trace(go.Bar(x=[day],\n",
    "                         y=[data['pct'][i]],\n",
    "                         name=str(day) + \" Days\",\n",
    "                         marker_color=color_scale[i % len(color_scale)],\n",
    "                         hovertext=[data['years'][i],data['Count'][i]],\n",
    "                         orientation='v',\n",
    "                         title = \"xxxxxx\"),\n",
    "                  row=1, col=1)\n",
    "\n",
    "\n",
    "fig.update_layout(barmode='group',  # Moved barmode to layout update\n",
    "                  title=f'Overall Statistics pct)')\n",
    "\n",
    "fig.update_layout(\n",
    "                    title=\"TF-IDF Side by Side Barplot\",\n",
    "                    xaxis_title=\"Words\",\n",
    "                    yaxis_title=\"TF-IDF Values\",\n",
    "                    legend_title=\"Dreams\"\n",
    "                    # font=dict(\n",
    "                    #     family=\"Courier New, monospace\",\n",
    "                    #     size=18,\n",
    "                    #     color=\"RebeccaPurple\"\n",
    "                    # )\n",
    "                )\n",
    "\n",
    "fig.show()"
   ]
  },
  {
   "cell_type": "code",
   "execution_count": 150,
   "metadata": {},
   "outputs": [
    {
     "data": {
      "application/vnd.plotly.v1+json": {
       "config": {
        "plotlyServerURL": "https://plot.ly"
       },
       "data": [
        {
         "alignmentgroup": "True",
         "customdata": [
          [
           68
          ],
          [
           70
          ],
          [
           71
          ],
          [
           72
          ],
          [
           73
          ]
         ],
         "hovertemplate": "years=2019<br>Trade Days=%{x}<br>pct=%{text}<br>Count=%{customdata[0]}<extra></extra>",
         "legendgroup": "2019",
         "marker": {
          "color": "#636efa",
          "pattern": {
           "shape": ""
          }
         },
         "name": "2019",
         "offsetgroup": "2019",
         "orientation": "v",
         "showlegend": true,
         "text": [
          91.89,
          94.59,
          95.95,
          97.3,
          98.65
         ],
         "textposition": "auto",
         "type": "bar",
         "x": [
          5,
          10,
          15,
          20,
          25
         ],
         "xaxis": "x",
         "y": [
          91.89,
          94.59,
          95.95,
          97.3,
          98.65
         ],
         "yaxis": "y"
        },
        {
         "alignmentgroup": "True",
         "customdata": [
          [
           119
          ],
          [
           121
          ],
          [
           121
          ],
          [
           121
          ],
          [
           122
          ]
         ],
         "hovertemplate": "years=2020<br>Trade Days=%{x}<br>pct=%{text}<br>Count=%{customdata[0]}<extra></extra>",
         "legendgroup": "2020",
         "marker": {
          "color": "#EF553B",
          "pattern": {
           "shape": ""
          }
         },
         "name": "2020",
         "offsetgroup": "2020",
         "orientation": "v",
         "showlegend": true,
         "text": [
          95.97,
          97.58,
          97.58,
          97.58,
          98.39
         ],
         "textposition": "auto",
         "type": "bar",
         "x": [
          5,
          10,
          15,
          20,
          25
         ],
         "xaxis": "x",
         "y": [
          95.97,
          97.58,
          97.58,
          97.58,
          98.39
         ],
         "yaxis": "y"
        },
        {
         "alignmentgroup": "True",
         "customdata": [
          [
           112
          ],
          [
           115
          ],
          [
           118
          ],
          [
           118
          ],
          [
           119
          ]
         ],
         "hovertemplate": "years=2021<br>Trade Days=%{x}<br>pct=%{text}<br>Count=%{customdata[0]}<extra></extra>",
         "legendgroup": "2021",
         "marker": {
          "color": "#00cc96",
          "pattern": {
           "shape": ""
          }
         },
         "name": "2021",
         "offsetgroup": "2021",
         "orientation": "v",
         "showlegend": true,
         "text": [
          91.06,
          93.5,
          95.93,
          95.93,
          96.75
         ],
         "textposition": "auto",
         "type": "bar",
         "x": [
          5,
          10,
          15,
          20,
          25
         ],
         "xaxis": "x",
         "y": [
          91.06,
          93.5,
          95.93,
          95.93,
          96.75
         ],
         "yaxis": "y"
        },
        {
         "alignmentgroup": "True",
         "customdata": [
          [
           137
          ],
          [
           142
          ],
          [
           144
          ],
          [
           144
          ],
          [
           146
          ]
         ],
         "hovertemplate": "years=2022<br>Trade Days=%{x}<br>pct=%{text}<br>Count=%{customdata[0]}<extra></extra>",
         "legendgroup": "2022",
         "marker": {
          "color": "#ab63fa",
          "pattern": {
           "shape": ""
          }
         },
         "name": "2022",
         "offsetgroup": "2022",
         "orientation": "v",
         "showlegend": true,
         "text": [
          88.96,
          92.21,
          93.51,
          93.51,
          94.81
         ],
         "textposition": "auto",
         "type": "bar",
         "x": [
          5,
          10,
          15,
          20,
          25
         ],
         "xaxis": "x",
         "y": [
          88.96,
          92.21,
          93.51,
          93.51,
          94.81
         ],
         "yaxis": "y"
        },
        {
         "alignmentgroup": "True",
         "customdata": [
          [
           126
          ],
          [
           130
          ],
          [
           133
          ],
          [
           134
          ],
          [
           134
          ]
         ],
         "hovertemplate": "years=2023<br>Trade Days=%{x}<br>pct=%{text}<br>Count=%{customdata[0]}<extra></extra>",
         "legendgroup": "2023",
         "marker": {
          "color": "#FFA15A",
          "pattern": {
           "shape": ""
          }
         },
         "name": "2023",
         "offsetgroup": "2023",
         "orientation": "v",
         "showlegend": true,
         "text": [
          91.3,
          94.2,
          96.38,
          97.1,
          97.1
         ],
         "textposition": "auto",
         "type": "bar",
         "x": [
          5,
          10,
          15,
          20,
          25
         ],
         "xaxis": "x",
         "y": [
          91.3,
          94.2,
          96.38,
          97.1,
          97.1
         ],
         "yaxis": "y"
        },
        {
         "alignmentgroup": "True",
         "customdata": [
          [
           37
          ],
          [
           39
          ],
          [
           39
          ],
          [
           39
          ],
          [
           39
          ]
         ],
         "hovertemplate": "years=2024<br>Trade Days=%{x}<br>pct=%{text}<br>Count=%{customdata[0]}<extra></extra>",
         "legendgroup": "2024",
         "marker": {
          "color": "#19d3f3",
          "pattern": {
           "shape": ""
          }
         },
         "name": "2024",
         "offsetgroup": "2024",
         "orientation": "v",
         "showlegend": true,
         "text": [
          94.87,
          100,
          100,
          100,
          100
         ],
         "textposition": "auto",
         "type": "bar",
         "x": [
          5,
          10,
          15,
          20,
          25
         ],
         "xaxis": "x",
         "y": [
          94.87,
          100,
          100,
          100,
          100
         ],
         "yaxis": "y"
        }
       ],
       "layout": {
        "barmode": "group",
        "legend": {
         "title": {
          "text": "years"
         },
         "tracegroupgap": 0
        },
        "template": {
         "data": {
          "bar": [
           {
            "error_x": {
             "color": "#2a3f5f"
            },
            "error_y": {
             "color": "#2a3f5f"
            },
            "marker": {
             "line": {
              "color": "#E5ECF6",
              "width": 0.5
             },
             "pattern": {
              "fillmode": "overlay",
              "size": 10,
              "solidity": 0.2
             }
            },
            "type": "bar"
           }
          ],
          "barpolar": [
           {
            "marker": {
             "line": {
              "color": "#E5ECF6",
              "width": 0.5
             },
             "pattern": {
              "fillmode": "overlay",
              "size": 10,
              "solidity": 0.2
             }
            },
            "type": "barpolar"
           }
          ],
          "carpet": [
           {
            "aaxis": {
             "endlinecolor": "#2a3f5f",
             "gridcolor": "white",
             "linecolor": "white",
             "minorgridcolor": "white",
             "startlinecolor": "#2a3f5f"
            },
            "baxis": {
             "endlinecolor": "#2a3f5f",
             "gridcolor": "white",
             "linecolor": "white",
             "minorgridcolor": "white",
             "startlinecolor": "#2a3f5f"
            },
            "type": "carpet"
           }
          ],
          "choropleth": [
           {
            "colorbar": {
             "outlinewidth": 0,
             "ticks": ""
            },
            "type": "choropleth"
           }
          ],
          "contour": [
           {
            "colorbar": {
             "outlinewidth": 0,
             "ticks": ""
            },
            "colorscale": [
             [
              0,
              "#0d0887"
             ],
             [
              0.1111111111111111,
              "#46039f"
             ],
             [
              0.2222222222222222,
              "#7201a8"
             ],
             [
              0.3333333333333333,
              "#9c179e"
             ],
             [
              0.4444444444444444,
              "#bd3786"
             ],
             [
              0.5555555555555556,
              "#d8576b"
             ],
             [
              0.6666666666666666,
              "#ed7953"
             ],
             [
              0.7777777777777778,
              "#fb9f3a"
             ],
             [
              0.8888888888888888,
              "#fdca26"
             ],
             [
              1,
              "#f0f921"
             ]
            ],
            "type": "contour"
           }
          ],
          "contourcarpet": [
           {
            "colorbar": {
             "outlinewidth": 0,
             "ticks": ""
            },
            "type": "contourcarpet"
           }
          ],
          "heatmap": [
           {
            "colorbar": {
             "outlinewidth": 0,
             "ticks": ""
            },
            "colorscale": [
             [
              0,
              "#0d0887"
             ],
             [
              0.1111111111111111,
              "#46039f"
             ],
             [
              0.2222222222222222,
              "#7201a8"
             ],
             [
              0.3333333333333333,
              "#9c179e"
             ],
             [
              0.4444444444444444,
              "#bd3786"
             ],
             [
              0.5555555555555556,
              "#d8576b"
             ],
             [
              0.6666666666666666,
              "#ed7953"
             ],
             [
              0.7777777777777778,
              "#fb9f3a"
             ],
             [
              0.8888888888888888,
              "#fdca26"
             ],
             [
              1,
              "#f0f921"
             ]
            ],
            "type": "heatmap"
           }
          ],
          "heatmapgl": [
           {
            "colorbar": {
             "outlinewidth": 0,
             "ticks": ""
            },
            "colorscale": [
             [
              0,
              "#0d0887"
             ],
             [
              0.1111111111111111,
              "#46039f"
             ],
             [
              0.2222222222222222,
              "#7201a8"
             ],
             [
              0.3333333333333333,
              "#9c179e"
             ],
             [
              0.4444444444444444,
              "#bd3786"
             ],
             [
              0.5555555555555556,
              "#d8576b"
             ],
             [
              0.6666666666666666,
              "#ed7953"
             ],
             [
              0.7777777777777778,
              "#fb9f3a"
             ],
             [
              0.8888888888888888,
              "#fdca26"
             ],
             [
              1,
              "#f0f921"
             ]
            ],
            "type": "heatmapgl"
           }
          ],
          "histogram": [
           {
            "marker": {
             "pattern": {
              "fillmode": "overlay",
              "size": 10,
              "solidity": 0.2
             }
            },
            "type": "histogram"
           }
          ],
          "histogram2d": [
           {
            "colorbar": {
             "outlinewidth": 0,
             "ticks": ""
            },
            "colorscale": [
             [
              0,
              "#0d0887"
             ],
             [
              0.1111111111111111,
              "#46039f"
             ],
             [
              0.2222222222222222,
              "#7201a8"
             ],
             [
              0.3333333333333333,
              "#9c179e"
             ],
             [
              0.4444444444444444,
              "#bd3786"
             ],
             [
              0.5555555555555556,
              "#d8576b"
             ],
             [
              0.6666666666666666,
              "#ed7953"
             ],
             [
              0.7777777777777778,
              "#fb9f3a"
             ],
             [
              0.8888888888888888,
              "#fdca26"
             ],
             [
              1,
              "#f0f921"
             ]
            ],
            "type": "histogram2d"
           }
          ],
          "histogram2dcontour": [
           {
            "colorbar": {
             "outlinewidth": 0,
             "ticks": ""
            },
            "colorscale": [
             [
              0,
              "#0d0887"
             ],
             [
              0.1111111111111111,
              "#46039f"
             ],
             [
              0.2222222222222222,
              "#7201a8"
             ],
             [
              0.3333333333333333,
              "#9c179e"
             ],
             [
              0.4444444444444444,
              "#bd3786"
             ],
             [
              0.5555555555555556,
              "#d8576b"
             ],
             [
              0.6666666666666666,
              "#ed7953"
             ],
             [
              0.7777777777777778,
              "#fb9f3a"
             ],
             [
              0.8888888888888888,
              "#fdca26"
             ],
             [
              1,
              "#f0f921"
             ]
            ],
            "type": "histogram2dcontour"
           }
          ],
          "mesh3d": [
           {
            "colorbar": {
             "outlinewidth": 0,
             "ticks": ""
            },
            "type": "mesh3d"
           }
          ],
          "parcoords": [
           {
            "line": {
             "colorbar": {
              "outlinewidth": 0,
              "ticks": ""
             }
            },
            "type": "parcoords"
           }
          ],
          "pie": [
           {
            "automargin": true,
            "type": "pie"
           }
          ],
          "scatter": [
           {
            "fillpattern": {
             "fillmode": "overlay",
             "size": 10,
             "solidity": 0.2
            },
            "type": "scatter"
           }
          ],
          "scatter3d": [
           {
            "line": {
             "colorbar": {
              "outlinewidth": 0,
              "ticks": ""
             }
            },
            "marker": {
             "colorbar": {
              "outlinewidth": 0,
              "ticks": ""
             }
            },
            "type": "scatter3d"
           }
          ],
          "scattercarpet": [
           {
            "marker": {
             "colorbar": {
              "outlinewidth": 0,
              "ticks": ""
             }
            },
            "type": "scattercarpet"
           }
          ],
          "scattergeo": [
           {
            "marker": {
             "colorbar": {
              "outlinewidth": 0,
              "ticks": ""
             }
            },
            "type": "scattergeo"
           }
          ],
          "scattergl": [
           {
            "marker": {
             "colorbar": {
              "outlinewidth": 0,
              "ticks": ""
             }
            },
            "type": "scattergl"
           }
          ],
          "scattermapbox": [
           {
            "marker": {
             "colorbar": {
              "outlinewidth": 0,
              "ticks": ""
             }
            },
            "type": "scattermapbox"
           }
          ],
          "scatterpolar": [
           {
            "marker": {
             "colorbar": {
              "outlinewidth": 0,
              "ticks": ""
             }
            },
            "type": "scatterpolar"
           }
          ],
          "scatterpolargl": [
           {
            "marker": {
             "colorbar": {
              "outlinewidth": 0,
              "ticks": ""
             }
            },
            "type": "scatterpolargl"
           }
          ],
          "scatterternary": [
           {
            "marker": {
             "colorbar": {
              "outlinewidth": 0,
              "ticks": ""
             }
            },
            "type": "scatterternary"
           }
          ],
          "surface": [
           {
            "colorbar": {
             "outlinewidth": 0,
             "ticks": ""
            },
            "colorscale": [
             [
              0,
              "#0d0887"
             ],
             [
              0.1111111111111111,
              "#46039f"
             ],
             [
              0.2222222222222222,
              "#7201a8"
             ],
             [
              0.3333333333333333,
              "#9c179e"
             ],
             [
              0.4444444444444444,
              "#bd3786"
             ],
             [
              0.5555555555555556,
              "#d8576b"
             ],
             [
              0.6666666666666666,
              "#ed7953"
             ],
             [
              0.7777777777777778,
              "#fb9f3a"
             ],
             [
              0.8888888888888888,
              "#fdca26"
             ],
             [
              1,
              "#f0f921"
             ]
            ],
            "type": "surface"
           }
          ],
          "table": [
           {
            "cells": {
             "fill": {
              "color": "#EBF0F8"
             },
             "line": {
              "color": "white"
             }
            },
            "header": {
             "fill": {
              "color": "#C8D4E3"
             },
             "line": {
              "color": "white"
             }
            },
            "type": "table"
           }
          ]
         },
         "layout": {
          "annotationdefaults": {
           "arrowcolor": "#2a3f5f",
           "arrowhead": 0,
           "arrowwidth": 1
          },
          "autotypenumbers": "strict",
          "coloraxis": {
           "colorbar": {
            "outlinewidth": 0,
            "ticks": ""
           }
          },
          "colorscale": {
           "diverging": [
            [
             0,
             "#8e0152"
            ],
            [
             0.1,
             "#c51b7d"
            ],
            [
             0.2,
             "#de77ae"
            ],
            [
             0.3,
             "#f1b6da"
            ],
            [
             0.4,
             "#fde0ef"
            ],
            [
             0.5,
             "#f7f7f7"
            ],
            [
             0.6,
             "#e6f5d0"
            ],
            [
             0.7,
             "#b8e186"
            ],
            [
             0.8,
             "#7fbc41"
            ],
            [
             0.9,
             "#4d9221"
            ],
            [
             1,
             "#276419"
            ]
           ],
           "sequential": [
            [
             0,
             "#0d0887"
            ],
            [
             0.1111111111111111,
             "#46039f"
            ],
            [
             0.2222222222222222,
             "#7201a8"
            ],
            [
             0.3333333333333333,
             "#9c179e"
            ],
            [
             0.4444444444444444,
             "#bd3786"
            ],
            [
             0.5555555555555556,
             "#d8576b"
            ],
            [
             0.6666666666666666,
             "#ed7953"
            ],
            [
             0.7777777777777778,
             "#fb9f3a"
            ],
            [
             0.8888888888888888,
             "#fdca26"
            ],
            [
             1,
             "#f0f921"
            ]
           ],
           "sequentialminus": [
            [
             0,
             "#0d0887"
            ],
            [
             0.1111111111111111,
             "#46039f"
            ],
            [
             0.2222222222222222,
             "#7201a8"
            ],
            [
             0.3333333333333333,
             "#9c179e"
            ],
            [
             0.4444444444444444,
             "#bd3786"
            ],
            [
             0.5555555555555556,
             "#d8576b"
            ],
            [
             0.6666666666666666,
             "#ed7953"
            ],
            [
             0.7777777777777778,
             "#fb9f3a"
            ],
            [
             0.8888888888888888,
             "#fdca26"
            ],
            [
             1,
             "#f0f921"
            ]
           ]
          },
          "colorway": [
           "#636efa",
           "#EF553B",
           "#00cc96",
           "#ab63fa",
           "#FFA15A",
           "#19d3f3",
           "#FF6692",
           "#B6E880",
           "#FF97FF",
           "#FECB52"
          ],
          "font": {
           "color": "#2a3f5f"
          },
          "geo": {
           "bgcolor": "white",
           "lakecolor": "white",
           "landcolor": "#E5ECF6",
           "showlakes": true,
           "showland": true,
           "subunitcolor": "white"
          },
          "hoverlabel": {
           "align": "left"
          },
          "hovermode": "closest",
          "mapbox": {
           "style": "light"
          },
          "paper_bgcolor": "white",
          "plot_bgcolor": "#E5ECF6",
          "polar": {
           "angularaxis": {
            "gridcolor": "white",
            "linecolor": "white",
            "ticks": ""
           },
           "bgcolor": "#E5ECF6",
           "radialaxis": {
            "gridcolor": "white",
            "linecolor": "white",
            "ticks": ""
           }
          },
          "scene": {
           "xaxis": {
            "backgroundcolor": "#E5ECF6",
            "gridcolor": "white",
            "gridwidth": 2,
            "linecolor": "white",
            "showbackground": true,
            "ticks": "",
            "zerolinecolor": "white"
           },
           "yaxis": {
            "backgroundcolor": "#E5ECF6",
            "gridcolor": "white",
            "gridwidth": 2,
            "linecolor": "white",
            "showbackground": true,
            "ticks": "",
            "zerolinecolor": "white"
           },
           "zaxis": {
            "backgroundcolor": "#E5ECF6",
            "gridcolor": "white",
            "gridwidth": 2,
            "linecolor": "white",
            "showbackground": true,
            "ticks": "",
            "zerolinecolor": "white"
           }
          },
          "shapedefaults": {
           "line": {
            "color": "#2a3f5f"
           }
          },
          "ternary": {
           "aaxis": {
            "gridcolor": "white",
            "linecolor": "white",
            "ticks": ""
           },
           "baxis": {
            "gridcolor": "white",
            "linecolor": "white",
            "ticks": ""
           },
           "bgcolor": "#E5ECF6",
           "caxis": {
            "gridcolor": "white",
            "linecolor": "white",
            "ticks": ""
           }
          },
          "title": {
           "x": 0.05
          },
          "xaxis": {
           "automargin": true,
           "gridcolor": "white",
           "linecolor": "white",
           "ticks": "",
           "title": {
            "standoff": 15
           },
           "zerolinecolor": "white",
           "zerolinewidth": 2
          },
          "yaxis": {
           "automargin": true,
           "gridcolor": "white",
           "linecolor": "white",
           "ticks": "",
           "title": {
            "standoff": 15
           },
           "zerolinecolor": "white",
           "zerolinewidth": 2
          }
         }
        },
        "title": {
         "text": "Overall Statistics (-3 pct)"
        },
        "xaxis": {
         "anchor": "y",
         "domain": [
          0,
          1
         ],
         "title": {
          "text": "Trade Days"
         }
        },
        "yaxis": {
         "anchor": "x",
         "domain": [
          0,
          1
         ],
         "title": {
          "text": "pct"
         }
        }
       }
      }
     },
     "metadata": {},
     "output_type": "display_data"
    }
   ],
   "source": [
    "fig = px.bar(data,\n",
    "                x = 'Trade Days', \n",
    "            y = 'pct',\n",
    "            color = 'years',\n",
    "            hover_data=['Count'],\n",
    "            orientation='v', \n",
    "            barmode= 'group', \n",
    "            title = f'Overall Statistics ({price_dec_pct_buy[i]} pct)',\n",
    "            text = 'pct')\n",
    "fig.show()    "
   ]
  },
  {
   "cell_type": "code",
   "execution_count": 164,
   "metadata": {},
   "outputs": [],
   "source": [
    "df3['gain_or_not'] = [True if df3['sell_price'][i] > df3['close'][i] else False for i in range(df3.shape[0])]"
   ]
  },
  {
   "cell_type": "code",
   "execution_count": 175,
   "metadata": {},
   "outputs": [],
   "source": [
    "tt = df3.groupby('year')"
   ]
  },
  {
   "cell_type": "code",
   "execution_count": 194,
   "metadata": {},
   "outputs": [
    {
     "data": {
      "text/plain": [
       "gain_or_not\n",
       "False   -28.918839\n",
       "True      0.945224\n",
       "Name: gain, dtype: float64"
      ]
     },
     "execution_count": 194,
     "metadata": {},
     "output_type": "execute_result"
    }
   ],
   "source": [
    "import pandas as pd\n",
    "import numpy as np\n",
    "import requests\n",
    "from datetime import datetime\n",
    "from scipy.stats import linregress\n",
    "import streamlit as st\n",
    "import plotly.express as px\n",
    "import plotly.graph_objects as go\n",
    "from plotly.subplots import make_subplots\n",
    "from collections import Counter\n",
    "import matplotlib.pyplot as plt\n",
    "\n",
    "\n",
    "######################################################################\n",
    "######################################################################\n",
    "#### INTERNAL FUNCTIONS\n",
    "######################################################################\n",
    "######################################################################\n",
    "\n",
    "#data collection function\n",
    "\n",
    "def data_collection(load_ticker, load_interval, load_time_unit, load_start_date, load_end_date, polygon_api_key):\n",
    "    #Load data from Polygon.io\n",
    "    url = f'https://api.polygon.io/v2/aggs/ticker/{load_ticker}/range/{load_interval}/{load_time_unit}/{load_start_date}/{load_end_date}?adjusted=true&sort=asc&limit=50000&apiKey={polygon_api_key}'\n",
    "    r = requests.get(url)\n",
    "    data = r.json()\n",
    "\n",
    "    close = []\n",
    "    time = []\n",
    "\n",
    "    while 'next_url' in data.keys():\n",
    "        for d in data['results']:\n",
    "            close.append(d['c'])\n",
    "            time.append(datetime.fromtimestamp(int(str(d['t'])[:-3])))\n",
    "\n",
    "        url = data['next_url']+f\"&apiKey={polygon_api_key}\"\n",
    "        r = requests.get(url)\n",
    "        data = r.json()\n",
    "\n",
    "    for d in data['results']:\n",
    "        close.append(d['c'])\n",
    "        time.append(datetime.fromtimestamp(int(str(d['t'])[:-3])))\n",
    "\n",
    "    dff = pd.DataFrame({'time': time, 'close': close});\n",
    "\n",
    "    dff['time'] = pd.to_datetime(dff['time'])\n",
    "\n",
    "    return dff\n",
    "\n",
    "#trade hour check function (internal)\n",
    "def check_trading_hours(dte):\n",
    "    if dte.hour >= 9 and dte.hour < 16:  # Checking if the hour is between 9 and 16 (4 PM)\n",
    "        if dte.hour == 9:\n",
    "            if dte.minute > 30:  # If hour is 9, check if minute is > 30\n",
    "                return True\n",
    "            else:\n",
    "                return False\n",
    "        else:\n",
    "            return True\n",
    "    elif dte.hour == 16 and dte.minute == 0:\n",
    "        return True\n",
    "    else:\n",
    "        return False\n",
    "    \n",
    "#trade hour check function (external)\n",
    "    \n",
    "def check_trading_hour_external(df):\n",
    "    df['is_trading_hours'] = df['time'].apply(check_trading_hours)\n",
    "    return df\n",
    "\n",
    "#buy_track calculation function\n",
    "\n",
    "def buy_track(df):\n",
    "    # Calculate the date of the day before\n",
    "    df['previous_day'] = df['time'].apply(lambda x: x - pd.Timedelta(days=1))\n",
    "    df['previous_day'] = pd.to_datetime(df['previous_day'])\n",
    "    df['previous_day_4pm'] = df['previous_day'].apply(lambda x: x.replace(hour=16, minute=0))\n",
    "\n",
    "    # Merge with itself to find the price of the day before at 4 pm\n",
    "    merged_df = pd.merge(df, df, left_on='previous_day_4pm', right_on='time', suffixes=('', '_previous'))\n",
    "\n",
    "    # Calculate the decrease percentage compared to the price of the day before at 4 pm\n",
    "    merged_df['price_decrease_percentage'] = (merged_df['close'] - merged_df['close_previous']) / merged_df['close_previous'] * 100\n",
    "\n",
    "    # Make a new dataframe and clean it up\n",
    "    buy_track_temp = merged_df.copy()\n",
    "    buy_track_temp=buy_track_temp.drop(columns=['previous_day', 'time_previous', 'is_trading_hours_previous', 'previous_day_previous', 'previous_day_4pm_previous'])\n",
    "\n",
    "    return df, buy_track_temp\n",
    "\n",
    "def buy_track_2(df, buy_track_temp, price_dec_pct_buy):\n",
    "    # Make a new dataframe that tracks past buy signals\n",
    "    buy_track = buy_track_temp[buy_track_temp['price_decrease_percentage'] <= price_dec_pct_buy]\n",
    "    buy_track = buy_track[buy_track['is_trading_hours'] == True]\n",
    "    df['included_in_buy_track'] = df['time'].isin(buy_track['time'])\n",
    "\n",
    "    return df\n",
    "\n",
    "#extracting df2\n",
    "def df2_extract(df):\n",
    "    df2 = df[df['is_trading_hours'] == True].reset_index(drop= True)\n",
    "    return df2\n",
    "\n",
    "#sell date calculation function\n",
    "def sell_track(df2, price_inc_pct_sell, pain_tolerance, max_days_til_sold):\n",
    "    sell_date_info = []\n",
    "\n",
    "    for i, row in df2.iterrows():\n",
    "        if row['included_in_buy_track']:\n",
    "            sell_index, date_sold, value = next(((index+i+1, df2.time[index+i+1], value) for index, value in enumerate(df2.close[i+1:i+max_days_til_sold]) if (value >= row['close'] * (1 + (0.01 * price_inc_pct_sell))) or (value <= row['close'] * (1 + (0.01 * pain_tolerance)))), (df2.index[i:i+max_days_til_sold].tolist()[-1],df2.time[i:i+max_days_til_sold].tolist()[-1], df2.close[i:i+max_days_til_sold].tolist()[-1]))\n",
    "            sell_date_info.append([date_sold,value,sell_index])\n",
    "        else:\n",
    "            sell_date_info.append([None,None,None])    \n",
    "\n",
    "    df2['sell_date'] = [j[0] for j in sell_date_info]\n",
    "    df2['sell_price'] = [j[1] for j in sell_date_info]\n",
    "    df2['sell_index'] = [j[2] for j in sell_date_info]\n",
    "\n",
    "    # Calculate the difference in time between 'time' and 'sell_date' and save it to a new column named 'gap'\n",
    "    df2['gap'] = (df2['sell_index'] - df2.index)/78\n",
    "\n",
    "    # Calculate the increase percentage of 'sell_price' compared to 'close' for each row\n",
    "    df2['gain'] = ((df2['sell_price'] - df2['close']) / df2['close']) * 100\n",
    "\n",
    "    df2['date'] = df2['time'].dt.date\n",
    "    temp = pd.DataFrame(df2.groupby('date')['included_in_buy_track'].apply(lambda x: int(x.idxmax(skipna=False)) if any(x) else None)).reset_index(drop = True).included_in_buy_track.to_list()\n",
    "\n",
    "    res = [True if i in temp else False for i in range(df2.shape[0]) ]\n",
    "\n",
    "    df2['first_buy'] = res\n",
    "\n",
    "    return df2\n",
    "\n",
    "\n",
    "######################################################################\n",
    "######################################################################\n",
    "#### SIDEBAR\n",
    "######################################################################\n",
    "######################################################################\n",
    "\n",
    "\n",
    "\n",
    "\n",
    "load_start_date = str(st.date_input(\"Choose a Start Date\", value=None))\n",
    "load_end_date = str(st.date_input(\"Choose a End Date\", value = None))\n",
    "load_ticker = st.text_input(\"Enter the stock ticker\", value = None)\n",
    "pain_tolerance = float(st.text_input(\"Stop Loss (2 Digits, Negative)\", value = '-1.75'))\n",
    "max_days_til_sold = float(st.text_input(\"Max Days til Sold\", value = '15')) * 78\n",
    "\n",
    "price_dec_pct_buy = []\n",
    "price_inc_pct_sell = []\n",
    "number_of_observance = \n",
    "load_interval = '5'\n",
    "load_time_unit = 'minute'\n",
    "polygon_api_key = 'RMnfdtr9nmyTjXjgbNJeX_I5pIcowZpl'\n",
    "\n",
    "df = data_collection(load_ticker, load_interval, load_time_unit, load_start_date, load_end_date, polygon_api_key)\n",
    "\n",
    "df = check_trading_hour_external(df)\n",
    "\n",
    "df, buy_track_temp =  buy_track(df)\n",
    "\n",
    "trades = []\n",
    "pcts = []\n",
    "avg_gaps = []\n",
    "med_gaps = []\n",
    "pct_25 = []\n",
    "pct_75 = []\n",
    "yrs= []\n",
    "num_t = []\n",
    "gain_t = []\n",
    "loss_t = []\n",
    "\n",
    "num_col_build = round(len(price_dec_pct_buy)/2,0)\n",
    "\n",
    "for i in range(int(num_col_build)):\n",
    "    vars()[f'col{i*2}'], vars()[f'col{(i*2)+1}'] = st.columns(2)\n",
    "\n",
    "for i in range(len(price_dec_pct_buy)):\n",
    "    with vars()[f'col{i}']:\n",
    "        st.subheader(f\"Scenario {i+1}\")\n",
    "        vars()[f'col{i}_0'], vars()[f'col{i}_1'] = st.columns(2)\n",
    "        with vars()[f'col{i}_0']:\n",
    "            st.info(f\"Buy = {price_dec_pct_buy[i]}\")\n",
    "        with vars()[f'col{i}_1']:                    \n",
    "            st.warning(f\"Sell = {price_inc_pct_sell[i]}\")\n",
    "        vars()[f'tab{i}_1'], vars()[f'tab{i}_2'], vars()[f'tab{i}_3'] = st.tabs([\"Overall Stats\", \"Gap Distribution\", \"Monthly Trade\"])\n",
    "\n",
    "for i in range(len(price_dec_pct_buy)):\n",
    "    my_bar.progress((i+4)*10, f\"Calculating Sell Track (PCT = {price_dec_pct_buy[i]})\")\n",
    "    df = buy_track_2(df, buy_track_temp, price_dec_pct_buy[i])\n",
    "    df2 = df2_extract(df)\n",
    "    df2 = sell_track(df2, price_inc_pct_sell[i],pain_tolerance,int(max_days_til_sold))\n",
    "    \n",
    "    df3 = df2[df2['first_buy'] == True].reset_index(drop = True)\n",
    "    df3['year'] = pd.to_datetime(df3['time']).dt.year\n",
    "    df3['dow'] = pd.to_datetime(df3['time']).dt.day_of_week\n",
    "\n",
    "    # Group the result dataframe by year\n",
    "    grouped_result = df3.groupby('year')    \n",
    "\n",
    "    for year, group in grouped_result:\n",
    "        # Count the number of rows in the result dataframe\n",
    "        average_gap = round(group['gap'].mean(),2)\n",
    "        median_gap = round(group['gap'].median(),2)\n",
    "        percentile_25 = round(np.percentile(group['gap'],25),2)\n",
    "        percentile_75 = round(np.percentile(group['gap'],75),2)\n",
    "        num_trades = group.shape[0]\n",
    "        group['gain_or_not'] = [True if group['sell_price'].tolist()[i] > group['close'].tolist()[i] else False for i in range(group.shape[0])]\n",
    "\n",
    "        avg_gaps.append(average_gap)\n",
    "        med_gaps.append(median_gap)\n",
    "        pct_25.append(percentile_25)\n",
    "        pct_75.append(percentile_75)\n",
    "        num_t.append(num_trades)\n",
    "        yrs.append(str(year))\n",
    "        try:\n",
    "            gain_t.append(group.groupby('gain_or_not').count()['time'][1])\n",
    "        except Exception as e:\n",
    "            print(e)\n",
    "            gain_t.append(0)\n",
    "        try:\n",
    "            loss_t.append(group.groupby('gain_or_not').count()['time'][0])            \n",
    "        except Exception as e:\n",
    "            print(e)\n",
    "            loss_t.append(0)\n",
    "        \n",
    "        st.write(year)\n",
    "        num_trades_gap_lower_than_5 = group[group['gap'] < 1].shape[0]\n",
    "        num_trades_gap_lower_than_10 = group[group['gap'] < 3].shape[0]\n",
    "        num_trades_gap_lower_than_15 = group[group['gap'] < 5].shape[0]\n",
    "\n",
    "        trades_temp =[num_trades_gap_lower_than_5,num_trades_gap_lower_than_10,num_trades_gap_lower_than_15]\n",
    "        pcts+=[round(trades_temp[i] / num_trades * 100,2) for i in range(3)]\n",
    "        trades += [num_trades_gap_lower_than_5,num_trades_gap_lower_than_10,num_trades_gap_lower_than_15]\n",
    "\n",
    "    years = ['2019']* 3 + ['2020']*3 + ['2021']* 3 + ['2022']*3 + ['2023']* 3 + ['2024']*3\n",
    "\n",
    "    print(trades)\n",
    "    print(years)\n",
    "    print(pcts)\n",
    "\n",
    "    data = {'Trade Days': [1,3,5]*6,\n",
    "            'Count': trades,\n",
    "            'years': years,\n",
    "            'pct': pcts}\n",
    "    \n",
    "    data = pd.DataFrame(data)\n",
    "\n",
    "    fig = px.bar(data,\n",
    "                x = 'Trade Days', \n",
    "                y = 'pct',\n",
    "                color = 'years',\n",
    "                hover_data=['Count'],\n",
    "                orientation='v', \n",
    "                barmode= 'group', \n",
    "                text = 'pct',\n",
    "                title = f'By Year Trading Days and PCT')\n",
    "    \n",
    "    with vars()[f'tab{i}_1']:\n",
    "        st.plotly_chart(fig,theme=\"streamlit\", use_container_width=True)   \n",
    "\n",
    "        show_data = pd.DataFrame({'Year': yrs, \n",
    "                                'Trade Count': num_t, \n",
    "                                'Avg Gap': avg_gaps, \n",
    "                                'Med Gap': med_gaps, \n",
    "                                '25 Pct': pct_25, \n",
    "                                '75 Pct': pct_75, \n",
    "                                'Gain T': gain_t, \n",
    "                                'Loss T': loss_t, \n",
    "                                'Gain T (%)': [round((gain_t[i]/num_t[i])*100,2) for i in range(len(num_t))]})\n",
    "        st.dataframe(show_data)\n",
    "\n",
    "    with vars()[f'tab{i}_2']:\n",
    "        fig2 = px.histogram(df3, \n",
    "                            x= 'gap', \n",
    "                            nbins = 30, \n",
    "                            title = 'Distribution of Time Gap between Buy and Sell',\n",
    "                            labels = {'x': 'Time Gap (days)', 'y': 'Frequency'})\n",
    "        \n",
    "        st.plotly_chart(fig2,theme=\"streamlit\", use_container_width=True)   \n",
    "\n",
    "    with vars()[f'tab{i}_3']:\n",
    "        fig = plt.figure(figsize=(15, 5))  # Adjust width and height as needed\n",
    "\n",
    "        # Extract year and month from the 'time' column\n",
    "        df3['year_month'] = df3['time'].dt.to_period('M')\n",
    "\n",
    "        # Count the number of datetime rows by year and month\n",
    "        year_month_counts = df3.groupby('year_month').size()\n",
    "\n",
    "        # Plot the counts\n",
    "        year_month_counts.plot(kind='bar', color='skyblue')\n",
    "\n",
    "        # Add labels and title\n",
    "        plt.title('Number of trades by Year and Month')\n",
    "        plt.xlabel('Year-Month')\n",
    "        plt.ylabel('Count')\n",
    "\n",
    "        for i, bar in enumerate(plt.gca().patches):\n",
    "            plt.gca().text(bar.get_x() + bar.get_width() / 2, bar.get_height(),\n",
    "                        str(round(bar.get_height(), 2)), ha='center', va='bottom')\n",
    "\n",
    "        # Display the plot\n",
    "        plt.xticks(rotation=45, ha='right')  # Rotate x-axis labels for better readability\n",
    "        fig.tight_layout()  # Adjust layout to prevent clipping of labels\n",
    "        st.pyplot(fig)\n",
    "\n",
    "\n",
    "    trades = []\n",
    "    pcts = []\n",
    "    yrs = []\n",
    "    num_t = []\n",
    "    avg_gaps = []\n",
    "    med_gaps = []\n",
    "    pct_25 = []\n",
    "    pct_75 = []\n",
    "    gain_t = []\n",
    "    loss_t = []\n",
    "\n",
    "my_bar.progress(100, \"Completed!\")\n"
   ]
  }
 ],
 "metadata": {
  "kernelspec": {
   "display_name": "ANLY501",
   "language": "python",
   "name": "python3"
  },
  "language_info": {
   "codemirror_mode": {
    "name": "ipython",
    "version": 3
   },
   "file_extension": ".py",
   "mimetype": "text/x-python",
   "name": "python",
   "nbconvert_exporter": "python",
   "pygments_lexer": "ipython3",
   "version": "3.10.4"
  }
 },
 "nbformat": 4,
 "nbformat_minor": 2
}
